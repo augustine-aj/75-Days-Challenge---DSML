{
 "cells": [
  {
   "cell_type": "markdown",
   "id": "cee49cce-ec1a-4264-8f46-ad7d905b9265",
   "metadata": {},
   "source": [
    "# Day 14: Python Metaprogramming (Dynamic Code)\n",
    "\n",
    "---\n",
    "\n",
    "## Objective:\n",
    "Today, we’ll explore ****metaprogramming****, enabling dynamic modification and generation of code in Python, enhancing flexibility and efficiency in our programs.\n",
    "\n",
    "---\n",
    "\n",
    "## Topics to Cover:\n",
    "#### 1. Introduction to Metaprogramming\n",
    "\n",
    "- ****Definition:**** Metaprogramming is writing code that manipulates or generates other code during execution, allowing developers to dynamically alter program behavior.\n",
    "- ****Benefits:**** Reduces redundancy, enhances flexibility, and can generate boilerplate code automatically.\n",
    "\n",
    "#### 2. Using `getattr()`, `setattr()`, and `delattr()`:\n",
    "\n",
    "These built-in functions allow dynamic interaction with object attributes. Here’s how they work:\n",
    "- `getattr(object, name[, default])`: Retrieves an attribute from an object. If the attribute doesn’t exist, it can return a default value.\n",
    "- `setattr(object, name, value)`: Sets an attribute on an object dynamically.\n",
    "- `delattr(object, name)`: Deletes an attribute from an object."
   ]
  },
  {
   "cell_type": "code",
   "execution_count": 13,
   "id": "6e191c1e-b77b-4055-8eac-33abc2658a09",
   "metadata": {},
   "outputs": [
    {
     "name": "stdout",
     "output_type": "stream",
     "text": [
      "Name: Alice\n",
      "Age: 30\n"
     ]
    }
   ],
   "source": [
    "class Person:\n",
    "    def __init__(self, name):\n",
    "        self.name = name\n",
    "        \n",
    "person = Person(\"Alice\")\n",
    "\n",
    "name = getattr(person, \"name\")\n",
    "print(f\"Name: {name}\")\n",
    "\n",
    "setattr(person, \"age\", 30)\n",
    "print(f\"Age: {person.age}\")\n",
    "\n",
    "delattr(person, \"age\")"
   ]
  },
  {
   "cell_type": "markdown",
   "id": "eb5e6d7f-6eca-4901-b52f-112a3255d8cd",
   "metadata": {},
   "source": [
    "#### 3. Dynamically Creating Classes\n",
    "\n",
    "The `type()` function can create classes dynamically by passing in the class name, base classes, and attributes."
   ]
  },
  {
   "cell_type": "code",
   "execution_count": 14,
   "id": "99ccb703-6bf9-46ea-9da8-310ad3cac2f2",
   "metadata": {},
   "outputs": [
    {
     "name": "stdout",
     "output_type": "stream",
     "text": [
      "value\n"
     ]
    }
   ],
   "source": [
    "DynamicClass = type(\"DynamicClass\", (object,), {\"attribute\": \"value\"})\n",
    "\n",
    "instance = DynamicClass()\n",
    "print(instance.attribute)"
   ]
  },
  {
   "cell_type": "markdown",
   "id": "d0849127-f09a-4812-be1a-6d683d7194ef",
   "metadata": {},
   "source": [
    "#### 4. Working with the type() Function\n",
    "\n",
    "The `type()` function can also be used to create new classes on-the-fly, providing flexibility in structuring code."
   ]
  },
  {
   "cell_type": "code",
   "execution_count": 15,
   "id": "02cfb03d-7efa-4478-8862-d7436f440c6e",
   "metadata": {},
   "outputs": [
    {
     "name": "stdout",
     "output_type": "stream",
     "text": [
      "Hello from MyClass!\n"
     ]
    }
   ],
   "source": [
    "def create_class(name):\n",
    "    return type(name, (object,), {\"greet\": lambda self: f\"Hello from {name}!\"})\n",
    "\n",
    "MyClass = create_class(\"MyClass\")\n",
    "my_instance = MyClass()\n",
    "print(my_instance.greet())"
   ]
  },
  {
   "cell_type": "markdown",
   "id": "d8053e9c-4fa4-4619-8022-c3c789b15fbd",
   "metadata": {},
   "source": [
    "#### 5. The Power of `__getattr__()` and `__setattr__()`\n",
    "\n",
    "These special methods allow you to customize the behavior when attributes are accessed or modified."
   ]
  },
  {
   "cell_type": "code",
   "execution_count": 16,
   "id": "fab5077e-c592-4e25-beac-17db850ae458",
   "metadata": {},
   "outputs": [
    {
     "name": "stdout",
     "output_type": "stream",
     "text": [
      "Dynamic Value\n",
      "Attribute not found\n"
     ]
    }
   ],
   "source": [
    "class DynamicAttributes:\n",
    "    def __init__(self):\n",
    "        self._attributes = {}\n",
    "\n",
    "    def __getattr__(self, name):\n",
    "        return self._attributes.get(name, \"Attribute not found\")\n",
    "\n",
    "    def __setattr__(self, name, value):\n",
    "        if name == \"_attributes\":\n",
    "            super().__setattr__(name, value)\n",
    "        else:\n",
    "            self._attributes[name] = value\n",
    "\n",
    "obj = DynamicAttributes()\n",
    "obj.new_attr = \"Dynamic Value\"\n",
    "print(obj.new_attr)\n",
    "print(obj.another_attr)"
   ]
  },
  {
   "cell_type": "markdown",
   "id": "e6693ee2-41b7-49cf-8939-656b2c55f7fd",
   "metadata": {},
   "source": [
    "#### 6. Class Decorators:\n",
    "\n",
    "Decorators can modify or extend the behavior of classes. You can log when an instance method is called using a decorator."
   ]
  },
  {
   "cell_type": "code",
   "execution_count": 17,
   "id": "d695c6ed-e96f-4981-b1e0-f47fc49131ab",
   "metadata": {},
   "outputs": [
    {
     "name": "stdout",
     "output_type": "stream",
     "text": [
      "Calling method: greet\n",
      "Hello!\n"
     ]
    }
   ],
   "source": [
    "def log_method_calls(cls):\n",
    "    original_method = cls.greet\n",
    "\n",
    "    def new_method(self):\n",
    "        print(f\"Calling method: {original_method.__name__}\")\n",
    "        return original_method(self)\n",
    "\n",
    "    cls.greet = new_method\n",
    "    return cls\n",
    "\n",
    "@log_method_calls\n",
    "class MyClass:\n",
    "    def greet(self):\n",
    "        return \"Hello!\"\n",
    "\n",
    "instance = MyClass()\n",
    "print(instance.greet())"
   ]
  },
  {
   "cell_type": "markdown",
   "id": "d3d1a379-3984-4883-8fad-21d4041ff779",
   "metadata": {},
   "source": [
    "---"
   ]
  },
  {
   "cell_type": "markdown",
   "id": "8c50f111-8a5b-4b90-b5b5-9fa52bd088b4",
   "metadata": {},
   "source": [
    "## Tasks:\n",
    "#### 1. Use `getattr()` and `setattr()` to dynamically interact with object attributes:\n",
    "\n",
    "- Modify the example provided to add new attributes and access existing ones dynamically.\n",
    "#### 2. Create a custom metaclass:\n",
    "\n",
    "- Write a metaclass that modifies class behavior. For example, auto-generate methods or implement default behaviors."
   ]
  },
  {
   "cell_type": "code",
   "execution_count": 18,
   "id": "a19aae24-3d01-43d4-ba21-7576045fc89c",
   "metadata": {},
   "outputs": [
    {
     "name": "stdout",
     "output_type": "stream",
     "text": [
      "This is an auto-generated method for MyClass\n"
     ]
    }
   ],
   "source": [
    "class AutoMethodMeta(type):\n",
    "    def __new__(cls, name, bases, dct):\n",
    "        dct['auto_method'] = lambda self: f\"This is an auto-generated method for {self.__class__.__name__}\"\n",
    "        return super().__new__(cls, name, bases, dct)\n",
    "\n",
    "class MyClass(metaclass=AutoMethodMeta):\n",
    "    pass\n",
    "\n",
    "instance = MyClass()\n",
    "print(instance.auto_method())"
   ]
  },
  {
   "cell_type": "markdown",
   "id": "eaeb8040-e5d1-4514-b027-198e7471dafc",
   "metadata": {},
   "source": [
    "#### 3. Write a class decorator that logs method calls:\n",
    "\n",
    "- Modify the logging decorator example to log multiple methods within a class.\n",
    "#### 4. Advanced Task: Instance Counting with Metaclasses:\n",
    "\n",
    "- Create a metaclass that tracks the number of instances created for any class it’s applied to."
   ]
  },
  {
   "cell_type": "code",
   "execution_count": 19,
   "id": "ab9de2fc-1746-4829-8384-0f121015e467",
   "metadata": {},
   "outputs": [
    {
     "name": "stdout",
     "output_type": "stream",
     "text": [
      "2\n"
     ]
    }
   ],
   "source": [
    "class InstanceCounterMeta(type):\n",
    "    def __init__(cls, name, bases, dct):\n",
    "        super().__init__(name, bases, dct)\n",
    "        cls.instance_count = 0\n",
    "\n",
    "    def __call__(cls, *args, **kwargs):\n",
    "        cls.instance_count += 1\n",
    "        return super().__call__(*args, **kwargs)\n",
    "\n",
    "class MyClass(metaclass=InstanceCounterMeta):\n",
    "    pass\n",
    "\n",
    "obj1 = MyClass()\n",
    "obj2 = MyClass()\n",
    "print(MyClass.instance_count)"
   ]
  },
  {
   "cell_type": "markdown",
   "id": "1b52034d-e5c4-4307-8672-be76c710bb79",
   "metadata": {},
   "source": [
    "---"
   ]
  },
  {
   "cell_type": "markdown",
   "id": "dc0cd784-ff84-4a90-a920-e60cffb879ea",
   "metadata": {},
   "source": [
    "## Conclusion:\n",
    "Today’s exploration into metaprogramming opened up new possibilities for dynamically modifying and generating code in Python. By understanding and applying concepts like `getattr()`, `setattr()`, `custom metaclasses`, and `decorators`, you now have powerful tools at your disposal to create flexible and reusable code. These techniques can streamline your coding process and enhance the scalability of your applications."
   ]
  },
  {
   "cell_type": "markdown",
   "id": "1ce70434-86b6-4ea4-a9f6-2870c5a6f11e",
   "metadata": {},
   "source": [
    "---"
   ]
  },
  {
   "cell_type": "code",
   "execution_count": null,
   "id": "aa1d4f0c-497c-499d-9bf0-61af9fdd03ef",
   "metadata": {},
   "outputs": [],
   "source": []
  }
 ],
 "metadata": {
  "kernelspec": {
   "display_name": "Python 3 (ipykernel)",
   "language": "python",
   "name": "python3"
  },
  "language_info": {
   "codemirror_mode": {
    "name": "ipython",
    "version": 3
   },
   "file_extension": ".py",
   "mimetype": "text/x-python",
   "name": "python",
   "nbconvert_exporter": "python",
   "pygments_lexer": "ipython3",
   "version": "3.11.5"
  }
 },
 "nbformat": 4,
 "nbformat_minor": 5
}
