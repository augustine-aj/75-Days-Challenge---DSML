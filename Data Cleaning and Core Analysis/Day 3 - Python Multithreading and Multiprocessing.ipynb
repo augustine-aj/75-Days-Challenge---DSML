{
 "cells": [
  {
   "cell_type": "markdown",
   "id": "c47376c8-8f92-43a7-b696-c01f427b8983",
   "metadata": {},
   "source": [
    "# Day 3: Python Multithreading and Multiprocessing\n",
    "\n",
    "---\n",
    "\n",
    "## Objective\n",
    "Learn how to run multiple tasks concurrently using threads and processes in Python, improving efficiency in CPU-bound and I/O-bound tasks.\n",
    "\n",
    "---\n",
    "\n",
    "## Topics to Cover\n",
    "### 1. Introduction to Concurrency\n",
    "\n",
    "- Concepts:\n",
    "\n",
    "`Concurrency`: The ability to run multiple tasks simultaneously.\n",
    "- `Multithreading` vs. `Multiprocessing`:\n",
    "    - Multithreading: Multiple threads within a single process. Good for I/O-bound tasks (e.g., waiting for network responses).\n",
    "    - Multiprocessing: Multiple processes running in separate memory spaces. Best for CPU-bound tasks (e.g., calculations).\n",
    "### 2. Multithreading in Python\n",
    "- Using the threading Module:\n",
    "\n",
    "Python provides the `threading` module for creating and managing threads."
   ]
  },
  {
   "cell_type": "code",
   "execution_count": 4,
   "id": "9dad2c0b-a93a-4ad8-816a-c4505dc518a2",
   "metadata": {},
   "outputs": [
    {
     "name": "stdout",
     "output_type": "stream",
     "text": [
      "Thread 0 starting\n",
      "Thread 1 starting\n",
      "Thread 2 starting\n",
      "Thread 3 starting\n",
      "Thread 4 starting\n",
      "Thread 0 finished\n",
      "Thread 1 finished\n",
      "Thread 2 finished\n",
      "Thread 3 finished\n",
      "Thread 4 finished\n"
     ]
    }
   ],
   "source": [
    "import threading\n",
    "import time\n",
    "\n",
    "def worker(thread_id):\n",
    "    print(f'Thread {thread_id} starting')\n",
    "    time.sleep(2)\n",
    "    print(f'Thread {thread_id} finished')\n",
    "\n",
    "threads = []\n",
    "for i in range(5):\n",
    "    thread = threading.Thread(target=worker, args=(i,))\n",
    "    threads.append(thread)\n",
    "    thread.start()\n",
    "\n",
    "for thread in threads:\n",
    "    thread.join()\n"
   ]
  },
  {
   "cell_type": "markdown",
   "id": "9b12151d-1e4e-4f76-9765-e9d5f54aaad6",
   "metadata": {},
   "source": [
    "### Explanation:\n",
    "\n",
    "This code creates 5 threads, each running the `worker` function, which simulates a task that takes 2 seconds."
   ]
  },
  {
   "cell_type": "markdown",
   "id": "daa260ab-ad45-40d8-a824-9d12ece4b94c",
   "metadata": {},
   "source": [
    "### 3. Thread Synchronization\n",
    "- Thread Safety and Synchronization:\n",
    "\n",
    "When multiple threads access shared resources, synchronization is essential to avoid data corruption."
   ]
  },
  {
   "cell_type": "code",
   "execution_count": 5,
   "id": "f554c83a-a4ae-4b86-93b0-3a2cad2f772a",
   "metadata": {},
   "outputs": [],
   "source": [
    "lock = threading.Lock()\n",
    "\n",
    "def safe_worker(thread_id):\n",
    "    with lock:\n",
    "        print(f'Thread {thread_id} accessing shared resource')\n",
    "        time.sleep(1)"
   ]
  },
  {
   "cell_type": "markdown",
   "id": "3485a8c8-71e4-4776-8bd3-dcab3bf877f1",
   "metadata": {},
   "source": [
    "#### Explanation:\n",
    "\n",
    "The `with lock`: statement ensures that only one thread can execute the block at a time, providing a safe way to access shared resources."
   ]
  },
  {
   "cell_type": "markdown",
   "id": "fc245f47-556b-432d-8122-1ab2332034da",
   "metadata": {},
   "source": [
    "### 4. Introduction to Multiprocessing\n",
    "- Understanding the multiprocessing Module:\n",
    "\n",
    "The `multiprocessing` module allows you to create separate processes that run independently."
   ]
  },
  {
   "cell_type": "code",
   "execution_count": 6,
   "id": "0adbdb26-b366-4a49-9442-f5ab2fc712e5",
   "metadata": {},
   "outputs": [],
   "source": [
    "from multiprocessing import Process\n",
    "\n",
    "def cpu_bound_task(n):\n",
    "    print(f'Calculating prime numbers up to {n}')\n",
    "    primes = []\n",
    "    for num in range(2, n + 1):\n",
    "        if all(num % i != 0 for i in range(2, int(num ** 0.5) + 1)):\n",
    "            primes.append(num)\n",
    "    print(f'Found primes: {primes}')\n",
    "\n",
    "processes = []\n",
    "for i in [10000, 20000, 30000]:\n",
    "    process = Process(target=cpu_bound_task, args=(i,))\n",
    "    processes.append(process)\n",
    "    process.start()\n",
    "\n",
    "for process in processes:\n",
    "    process.join()"
   ]
  },
  {
   "cell_type": "markdown",
   "id": "681de4f8-83dd-406b-9845-5d8c0e8c99c4",
   "metadata": {},
   "source": [
    "#### Explanation:\n",
    "\n",
    "This code demonstrates how to create multiple processes to calculate prime numbers independently."
   ]
  },
  {
   "cell_type": "markdown",
   "id": "62f2579a-9f06-446f-8ef1-ea57126abf0b",
   "metadata": {},
   "source": [
    "### 5. Sharing Data Between Processes\n",
    "- Using `Queue`:\n",
    "\n",
    "Queue is used for sharing data between processes."
   ]
  },
  {
   "cell_type": "code",
   "execution_count": null,
   "id": "d06a990b-da22-42e7-8d52-1c5fb9f6d963",
   "metadata": {},
   "outputs": [],
   "source": [
    "from multiprocessing import Process, Queue\n",
    "\n",
    "def worker(queue):\n",
    "    queue.put(\"Hello from the worker!\")\n",
    "\n",
    "queue = Queue()\n",
    "process = Process(target=worker, args=(queue,))\n",
    "process.start()\n",
    "print(queue.get())\n",
    "process.join()"
   ]
  },
  {
   "cell_type": "markdown",
   "id": "3bcd81e3-9270-49db-9306-4bbd85176a82",
   "metadata": {},
   "source": [
    "### Explanation:\n",
    "\n",
    "The `Queue` allows communication between processes by putting and getting messages."
   ]
  },
  {
   "cell_type": "markdown",
   "id": "592931ae-563a-404a-bfae-d97ab62ecd2b",
   "metadata": {},
   "source": [
    "### 6. Thread Pools and Process Pools\n",
    "Using concurrent.futures:\n",
    "\n",
    "`concurrent.futures` provides a high-level interface for managing pools of threads and processes."
   ]
  },
  {
   "cell_type": "code",
   "execution_count": null,
   "id": "c159e46a-db18-42d4-af9d-3dc6c3f7f7c5",
   "metadata": {},
   "outputs": [],
   "source": [
    "from concurrent.futures import ThreadPoolExecutor, ProcessPoolExecutor\n",
    "\n",
    "def task(n):\n",
    "    return n * n\n",
    "\n",
    "# Thread Pool\n",
    "with ThreadPoolExecutor(max_workers=5) as executor:\n",
    "    results = list(executor.map(task, range(10)))\n",
    "print('Thread Pool Results:', results)\n",
    "\n",
    "# Process Pool\n",
    "with ProcessPoolExecutor(max_workers=5) as executor:\n",
    "    results = list(executor.map(task, range(10)))\n",
    "print('Process Pool Results:', results)"
   ]
  },
  {
   "cell_type": "markdown",
   "id": "b1d5f933-6e46-4f8f-b640-f38ce906bb1a",
   "metadata": {},
   "source": [
    "#### Explanation:\n",
    "\n",
    "This code uses ThreadPoolExecutor and ProcessPoolExecutor to execute the task function concurrently in both threads and processes.\n"
   ]
  },
  {
   "cell_type": "markdown",
   "id": "2d14adf6-79d8-4932-8d5a-1d5f7ef50ea0",
   "metadata": {},
   "source": [
    "## Tasks\n",
    "1. Multithreaded Web Page Downloader:\n",
    " \n",
    "Create a program that downloads multiple web pages concurrently using threads.\n",
    "\n",
    "2. CPU-Intensive Task with Multiprocessing:\n",
    " \n",
    "Implement the prime number calculation example using the multiprocessing module.\n",
    "\n",
    "3. Thread Pool for I/O-Bound Tasks:\n",
    "\n",
    "Use a thread pool to efficiently handle multiple I/O-bound tasks (e.g., reading files).\n",
    "\n",
    "4. Advanced Task:\n",
    "\n",
    "Develop a program that uses both multithreading for I/O-bound tasks (e.g., reading from a file) and multiprocessing for CPU-bound tasks (e.g., data processing)."
   ]
  },
  {
   "cell_type": "markdown",
   "id": "7f96bb9a-a365-4b3a-bbe4-19ca6ea46814",
   "metadata": {},
   "source": [
    "---"
   ]
  },
  {
   "cell_type": "markdown",
   "id": "597ff127-4a2a-4165-b404-dcbb4805adc8",
   "metadata": {},
   "source": [
    "Conclusion:\n",
    "\n",
    "On Day 14, we explored the essential concepts of multithreading and multiprocessing in Python to enhance program efficiency.\n",
    "\n",
    "#### Key Takeaways:\n",
    "\n",
    "- Multithreading: We learned to create and manage threads, improving I/O-bound task execution, such as downloading multiple files concurrently.\n",
    "- Thread Safety: Implementing locks ensured safe access to shared resources in a concurrent environment.\n",
    "- Multiprocessing: We discovered how to utilize independent processes for CPU-bound tasks, optimizing computational performance.\n",
    "- Data Sharing: We effectively communicated between processes using Queue, enhancing inter-process interactions.\n",
    "- Thread and Process Pools: Leveraging concurrent.futures simplified the management of multiple threads and processes.\n",
    "  \n",
    "By mastering these concepts, we can build more efficient and responsive applications, setting a solid foundation for tackling future programming challenges involving concurrent execution."
   ]
  },
  {
   "cell_type": "code",
   "execution_count": null,
   "id": "40ad85b7-d0f8-44be-b2bd-978777990b08",
   "metadata": {},
   "outputs": [],
   "source": [
    "----"
   ]
  }
 ],
 "metadata": {
  "kernelspec": {
   "display_name": "Python 3 (ipykernel)",
   "language": "python",
   "name": "python3"
  },
  "language_info": {
   "codemirror_mode": {
    "name": "ipython",
    "version": 3
   },
   "file_extension": ".py",
   "mimetype": "text/x-python",
   "name": "python",
   "nbconvert_exporter": "python",
   "pygments_lexer": "ipython3",
   "version": "3.11.5"
  }
 },
 "nbformat": 4,
 "nbformat_minor": 5
}
