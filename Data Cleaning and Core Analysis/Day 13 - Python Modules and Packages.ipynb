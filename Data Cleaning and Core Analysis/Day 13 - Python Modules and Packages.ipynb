{
 "cells": [
  {
   "cell_type": "markdown",
   "id": "aba35ff9-7039-4e72-949a-c1f043600239",
   "metadata": {},
   "source": [
    "# Day 13: Python Modules and Packages\n",
    "\n",
    "## Objective: \n",
    "\n",
    "Learn how to organize and reuse code by working with Python modules and packages. Understand how to create your own modules and packages, manage dependencies, and leverage built-in Python libraries for efficient coding.\n",
    "\n",
    "## Topics to Cover:\n",
    "### 1. Introduction to Modules:\n",
    "\n",
    "- Python modules help organize code into separate files for better management and reuse.\n",
    "- **Example**: Basic module import.\n"
   ]
  },
  {
   "cell_type": "code",
   "execution_count": 1,
   "id": "2d2d781d-27e3-435c-92d4-8fc59cafc4be",
   "metadata": {},
   "outputs": [
    {
     "name": "stdout",
     "output_type": "stream",
     "text": [
      "The square root of 16 is 4.0\n"
     ]
    }
   ],
   "source": [
    "import math\n",
    "\n",
    "result = math.sqrt(16)\n",
    "print(f\"The square root of 16 is {result}\")"
   ]
  },
  {
   "cell_type": "markdown",
   "id": "3fe824ec-3909-4260-9111-8102774b1281",
   "metadata": {},
   "source": [
    "### 2. Creating Custom Modules:\n",
    "\n",
    "- Save functions and classes in a `.py` file to create a custom module.\n",
    "\n",
    "- **Example**: Create a module `my_module.py` with utility functions:"
   ]
  },
  {
   "cell_type": "code",
   "execution_count": 4,
   "id": "5b929abd-92c5-475f-bf49-e7a866bb3272",
   "metadata": {},
   "outputs": [],
   "source": [
    "def greet(name):\n",
    "    return f\"Hello, {name}!\"\n",
    "\n",
    "def add(a, b):\n",
    "    return a + b"
   ]
  },
  {
   "cell_type": "markdown",
   "id": "ba03847a-9304-4fa1-aa25-9fb1962211b9",
   "metadata": {},
   "source": [
    "- Use this module in another script:"
   ]
  },
  {
   "cell_type": "code",
   "execution_count": null,
   "id": "350158e2-91f6-48e4-8f8d-565e868095e0",
   "metadata": {},
   "outputs": [],
   "source": [
    "import my_module\n",
    "\n",
    "print(my_module.greet(\"Alice\"))\n",
    "print(my_module.add(3, 5))"
   ]
  },
  {
   "cell_type": "markdown",
   "id": "4ba0d405-6746-434c-ac6a-0a8fc2e4bab2",
   "metadata": {},
   "source": [
    "### 3. Built-in Python Modules:\n",
    "\n",
    "- Explore Python’s standard library modules like `os`, `sys`, `datetime`.\n",
    "- **Example**: Use `datetime` to work with dates:"
   ]
  },
  {
   "cell_type": "code",
   "execution_count": 5,
   "id": "cfa85ff2-b2af-495a-b549-0834dbcd67dc",
   "metadata": {},
   "outputs": [
    {
     "name": "stdout",
     "output_type": "stream",
     "text": [
      "Current Date and Time: 2024-10-19 21:46:47.384075\n",
      "Formatted Date: 2024-10-19 21:46:47\n"
     ]
    }
   ],
   "source": [
    "from datetime import datetime\n",
    "\n",
    "now = datetime.now()\n",
    "print(f\"Current Date and Time: {now}\")\n",
    "\n",
    "formatted_date = now.strftime(\"%Y-%m-%d %H:%M:%S\")\n",
    "print(f\"Formatted Date: {formatted_date}\")"
   ]
  },
  {
   "cell_type": "markdown",
   "id": "11729719-9596-4fe5-8e57-329d24cbba2a",
   "metadata": {},
   "source": [
    "### 4. Python Packages:\n",
    "\n",
    "- A package is a directory with multiple Python modules and an `__init__`.py file.\n",
    "\n",
    "- **Example**: Create a package `utilities` with two modules."
   ]
  },
  {
   "cell_type": "code",
   "execution_count": 6,
   "id": "45991f53-7720-4883-9b9f-f82811e8a8c1",
   "metadata": {},
   "outputs": [],
   "source": [
    "def reverse_string(s):\n",
    "    return s[::-1]\n",
    "\n",
    "def multiply(a, b):\n",
    "    return a * b"
   ]
  },
  {
   "cell_type": "markdown",
   "id": "70e1302f-8f14-4ab6-a5bf-6172f73da4fb",
   "metadata": {},
   "source": [
    "- Use the package in another script:"
   ]
  },
  {
   "cell_type": "code",
   "execution_count": null,
   "id": "23bdf15a-b41d-4afc-b7b8-bb1919d60f7a",
   "metadata": {},
   "outputs": [],
   "source": [
    "from utilities import string_utils, math_utils\n",
    "\n",
    "print(string_utils.reverse_string(\"Python\"))\n",
    "print(math_utils.multiply(4, 5))"
   ]
  },
  {
   "cell_type": "markdown",
   "id": "4177421b-827d-421c-ad6f-fac821c038bc",
   "metadata": {},
   "source": [
    "### 6. Managing Dependencies:\n",
    "\n",
    "- Install external packages using `pip` and manage dependencies with `requirements.txt`.\n",
    "\n",
    "- **Example**: Install and use `requests` for `HTTP` requests:"
   ]
  },
  {
   "cell_type": "code",
   "execution_count": 10,
   "id": "bf6009f8-9e40-42fa-aa7d-6f52013ef894",
   "metadata": {},
   "outputs": [
    {
     "name": "stdout",
     "output_type": "stream",
     "text": [
      "Requirement already satisfied: requests in c:\\users\\augus\\anaconda new\\lib\\site-packages (2.32.3)\n",
      "Requirement already satisfied: charset-normalizer<4,>=2 in c:\\users\\augus\\anaconda new\\lib\\site-packages (from requests) (3.3.2)\n",
      "Requirement already satisfied: idna<4,>=2.5 in c:\\users\\augus\\anaconda new\\lib\\site-packages (from requests) (3.7)\n",
      "Requirement already satisfied: urllib3<3,>=1.21.1 in c:\\users\\augus\\anaconda new\\lib\\site-packages (from requests) (2.2.2)\n",
      "Requirement already satisfied: certifi>=2017.4.17 in c:\\users\\augus\\anaconda new\\lib\\site-packages (from requests) (2024.8.30)\n",
      "Note: you may need to restart the kernel to use updated packages.\n"
     ]
    }
   ],
   "source": [
    "pip install requests"
   ]
  },
  {
   "cell_type": "code",
   "execution_count": 11,
   "id": "3368bc95-ea2c-42d8-8386-021cf8fa3cbd",
   "metadata": {},
   "outputs": [
    {
     "name": "stdout",
     "output_type": "stream",
     "text": [
      "{'current_user_url': 'https://api.github.com/user', 'current_user_authorizations_html_url': 'https://github.com/settings/connections/applications{/client_id}', 'authorizations_url': 'https://api.github.com/authorizations', 'code_search_url': 'https://api.github.com/search/code?q={query}{&page,per_page,sort,order}', 'commit_search_url': 'https://api.github.com/search/commits?q={query}{&page,per_page,sort,order}', 'emails_url': 'https://api.github.com/user/emails', 'emojis_url': 'https://api.github.com/emojis', 'events_url': 'https://api.github.com/events', 'feeds_url': 'https://api.github.com/feeds', 'followers_url': 'https://api.github.com/user/followers', 'following_url': 'https://api.github.com/user/following{/target}', 'gists_url': 'https://api.github.com/gists{/gist_id}', 'hub_url': 'https://api.github.com/hub', 'issue_search_url': 'https://api.github.com/search/issues?q={query}{&page,per_page,sort,order}', 'issues_url': 'https://api.github.com/issues', 'keys_url': 'https://api.github.com/user/keys', 'label_search_url': 'https://api.github.com/search/labels?q={query}&repository_id={repository_id}{&page,per_page}', 'notifications_url': 'https://api.github.com/notifications', 'organization_url': 'https://api.github.com/orgs/{org}', 'organization_repositories_url': 'https://api.github.com/orgs/{org}/repos{?type,page,per_page,sort}', 'organization_teams_url': 'https://api.github.com/orgs/{org}/teams', 'public_gists_url': 'https://api.github.com/gists/public', 'rate_limit_url': 'https://api.github.com/rate_limit', 'repository_url': 'https://api.github.com/repos/{owner}/{repo}', 'repository_search_url': 'https://api.github.com/search/repositories?q={query}{&page,per_page,sort,order}', 'current_user_repositories_url': 'https://api.github.com/user/repos{?type,page,per_page,sort}', 'starred_url': 'https://api.github.com/user/starred{/owner}{/repo}', 'starred_gists_url': 'https://api.github.com/gists/starred', 'topic_search_url': 'https://api.github.com/search/topics?q={query}{&page,per_page}', 'user_url': 'https://api.github.com/users/{user}', 'user_organizations_url': 'https://api.github.com/user/orgs', 'user_repositories_url': 'https://api.github.com/users/{user}/repos{?type,page,per_page,sort}', 'user_search_url': 'https://api.github.com/search/users?q={query}{&page,per_page,sort,order}'}\n"
     ]
    }
   ],
   "source": [
    "import requests\n",
    "\n",
    "response = requests.get(\"https://api.github.com\")\n",
    "print(response.json())"
   ]
  },
  {
   "cell_type": "markdown",
   "id": "d2a8524d-c60b-4dfc-b27c-0a77b7dc009d",
   "metadata": {},
   "source": [
    "- Create `requirements.txt` to manage dependencies:"
   ]
  },
  {
   "cell_type": "code",
   "execution_count": null,
   "id": "4114c3b3-eb1f-4abe-8a20-c1bc273619d0",
   "metadata": {},
   "outputs": [],
   "source": [
    "pip freeze > requirements.txt"
   ]
  },
  {
   "cell_type": "markdown",
   "id": "1c8ed015-93d2-4af0-98d9-a93f993588cc",
   "metadata": {},
   "source": [
    "### 6. Exploring External Libraries:\n",
    "\n",
    "- Learn how to explore third-party packages from `PyPI` (e.g., `requests`, `numpy`, `pandas`).\n",
    "\n",
    "- **Example**: Using `pandas` to handle a `DataFrame`."
   ]
  },
  {
   "cell_type": "code",
   "execution_count": 15,
   "id": "3fe44cce-f903-4220-b986-d7ac3a6bcf8f",
   "metadata": {},
   "outputs": [
    {
     "data": {
      "text/html": [
       "<div>\n",
       "<style scoped>\n",
       "    .dataframe tbody tr th:only-of-type {\n",
       "        vertical-align: middle;\n",
       "    }\n",
       "\n",
       "    .dataframe tbody tr th {\n",
       "        vertical-align: top;\n",
       "    }\n",
       "\n",
       "    .dataframe thead th {\n",
       "        text-align: right;\n",
       "    }\n",
       "</style>\n",
       "<table border=\"1\" class=\"dataframe\">\n",
       "  <thead>\n",
       "    <tr style=\"text-align: right;\">\n",
       "      <th></th>\n",
       "      <th>Name</th>\n",
       "      <th>Age</th>\n",
       "      <th>City</th>\n",
       "    </tr>\n",
       "  </thead>\n",
       "  <tbody>\n",
       "    <tr>\n",
       "      <th>0</th>\n",
       "      <td>Alice</td>\n",
       "      <td>25</td>\n",
       "      <td>New York</td>\n",
       "    </tr>\n",
       "    <tr>\n",
       "      <th>1</th>\n",
       "      <td>Bob</td>\n",
       "      <td>30</td>\n",
       "      <td>Los Angeles</td>\n",
       "    </tr>\n",
       "    <tr>\n",
       "      <th>2</th>\n",
       "      <td>Charlie</td>\n",
       "      <td>35</td>\n",
       "      <td>Chicago</td>\n",
       "    </tr>\n",
       "  </tbody>\n",
       "</table>\n",
       "</div>"
      ],
      "text/plain": [
       "      Name  Age         City\n",
       "0    Alice   25     New York\n",
       "1      Bob   30  Los Angeles\n",
       "2  Charlie   35      Chicago"
      ]
     },
     "execution_count": 15,
     "metadata": {},
     "output_type": "execute_result"
    }
   ],
   "source": [
    "import pandas as pd\n",
    "\n",
    "data = {\n",
    "    'Name': ['Alice', 'Bob', 'Charlie'],\n",
    "    'Age': [25, 30, 35],\n",
    "    'City': ['New York', 'Los Angeles', 'Chicago']\n",
    "}\n",
    "df = pd.DataFrame(data)\n",
    "df"
   ]
  },
  {
   "cell_type": "markdown",
   "id": "7f3d3c9c-90c2-43f2-9937-14c6d30d4599",
   "metadata": {},
   "source": [
    "---"
   ]
  },
  {
   "cell_type": "markdown",
   "id": "1e2e4eb9-5641-40fb-bbdd-8ef70e770224",
   "metadata": {},
   "source": [
    "## Tasks:\n",
    "### 1. Importing and Using Built-in Modules:\n",
    "\n",
    "Write a script that imports the `math` and `datetime` modules to perform operations such as calculating square roots and formatting dates."
   ]
  },
  {
   "cell_type": "code",
   "execution_count": 16,
   "id": "4f763b3c-3273-4c76-8368-6e619776a589",
   "metadata": {},
   "outputs": [
    {
     "name": "stdout",
     "output_type": "stream",
     "text": [
      "Square root of 25 is 5.0\n",
      "Current time: 2024-10-19 21:56:13\n"
     ]
    }
   ],
   "source": [
    "import math\n",
    "from datetime import datetime\n",
    "\n",
    "num = 25\n",
    "print(f\"Square root of {num} is {math.sqrt(num)}\")\n",
    "\n",
    "now = datetime.now()\n",
    "print(f\"Current time: {now.strftime('%Y-%m-%d %H:%M:%S')}\")"
   ]
  },
  {
   "cell_type": "markdown",
   "id": "c094c8e0-fa82-4c9e-8aa2-88f293ef6000",
   "metadata": {},
   "source": [
    "### 2. Creating a Custom Module:\n",
    "\n",
    "Create a custom Python module with utility functions and import it into a main script. "
   ]
  },
  {
   "cell_type": "code",
   "execution_count": null,
   "id": "3b29d8d5-c18e-4e07-a805-72479d797ef0",
   "metadata": {},
   "outputs": [],
   "source": [
    "def factorial(n):\n",
    "    if n == 0:\n",
    "        return 1\n",
    "    else:\n",
    "        return n * factorial(n-1)\n",
    "\n",
    "import custom_utils\n",
    "\n",
    "num = 5\n",
    "print(f\"Factorial of {num}: {custom_utils.factorial(num)}\")"
   ]
  },
  {
   "cell_type": "markdown",
   "id": "3ffc804c-9873-4433-95fe-6706ff9b7ee5",
   "metadata": {},
   "source": [
    "### 3. Creating a Python Package:\n",
    "\n",
    "Organize modules into a package and import functions from the package."
   ]
  },
  {
   "cell_type": "code",
   "execution_count": null,
   "id": "6d8645a6-7b5c-498c-9ce7-6657d19b5606",
   "metadata": {},
   "outputs": [],
   "source": [
    "# package_example/\n",
    "# ├── __init__.py\n",
    "# ├── math_utils.py\n",
    "# └── string_utils.py\n",
    "\n",
    "# math_utils.py\n",
    "def add(a, b):\n",
    "    return a + b\n",
    "\n",
    "# string_utils.py\n",
    "def to_upper(s):\n",
    "    return s.upper()\n",
    "\n",
    "# main.py\n",
    "from package_example import math_utils, string_utils\n",
    "\n",
    "print(math_utils.add(5, 3))\n",
    "print(string_utils.to_upper(\"hello\"))"
   ]
  },
  {
   "cell_type": "markdown",
   "id": "a118a375-ceb7-4047-9857-9f308681e3cf",
   "metadata": {},
   "source": [
    "### 4 .Installing and Using External Libraries:\n",
    "\n",
    "- Install and explore an external library like requests."
   ]
  },
  {
   "cell_type": "code",
   "execution_count": 20,
   "id": "4bc6ec9b-b840-4dfe-a172-4073a09b12e5",
   "metadata": {},
   "outputs": [
    {
     "name": "stdout",
     "output_type": "stream",
     "text": [
      "Fetched data: {'userId': 1, 'id': 1, 'title': 'delectus aut autem', 'completed': False}\n"
     ]
    }
   ],
   "source": [
    "import requests\n",
    "\n",
    "response = requests.get('https://jsonplaceholder.typicode.com/todos/1')\n",
    "data = response.json()\n",
    "print(f\"Fetched data: {data}\")"
   ]
  },
  {
   "cell_type": "markdown",
   "id": "94c5a8ea-2127-41d8-9e71-c4cc4094eacf",
   "metadata": {},
   "source": [
    "### 5. Managing Project Dependencies:\n",
    "\n",
    "- Create a `requirements.txt` file and install the required packages."
   ]
  },
  {
   "cell_type": "code",
   "execution_count": null,
   "id": "8528ab73-ede7-494a-87e5-015f0a2ce94d",
   "metadata": {},
   "outputs": [],
   "source": [
    "pip freeze > requirements.txt"
   ]
  },
  {
   "cell_type": "code",
   "execution_count": null,
   "id": "68d51651-173e-4c34-bc0d-ca1aee6eb91a",
   "metadata": {},
   "outputs": [],
   "source": [
    "pip install -r requirements.txt"
   ]
  },
  {
   "cell_type": "markdown",
   "id": "3ecd9afc-b4cd-43ee-8e56-e32ff911b4f4",
   "metadata": {},
   "source": [
    "---"
   ]
  },
  {
   "cell_type": "markdown",
   "id": "8bb5163e-ec33-4e92-b6c6-9d64411b10a0",
   "metadata": {},
   "source": [
    "## Advanced Tasks:\n",
    "### Dynamic Importing:\n",
    "\n",
    "- Write a program to dynamically `import` a module based on user input."
   ]
  },
  {
   "cell_type": "code",
   "execution_count": 24,
   "id": "30ba0bc9-84d7-44d9-85ef-020f417e794a",
   "metadata": {},
   "outputs": [
    {
     "name": "stdin",
     "output_type": "stream",
     "text": [
      "Enter module name (math/datetime):  math\n"
     ]
    },
    {
     "name": "stdout",
     "output_type": "stream",
     "text": [
      "Square root of 16 is 4.0\n"
     ]
    }
   ],
   "source": [
    "module_name = input(\"Enter module name (math/datetime): \")\n",
    "\n",
    "if module_name == \"math\":\n",
    "    import math\n",
    "    print(f\"Square root of 16 is {math.sqrt(16)}\")\n",
    "elif module_name == \"datetime\":\n",
    "    from datetime import datetime\n",
    "    print(f\"Current time: {datetime.now()}\")"
   ]
  },
  {
   "cell_type": "markdown",
   "id": "1a2f07c7-fab7-4f38-9325-b8387b660394",
   "metadata": {},
   "source": [
    "### 2. Package Structure with Sub-Packages:\n",
    "\n",
    "- Create a package with sub-packages and import functions."
   ]
  },
  {
   "cell_type": "code",
   "execution_count": null,
   "id": "069f1c03-9d91-4101-81cb-01ec0a868079",
   "metadata": {},
   "outputs": [],
   "source": [
    "def read_file(file_path):\n",
    "    with open(file_path, 'r') as file:\n",
    "        return file.read()\n",
    "\n",
    "def square(x):\n",
    "    return x ** 2\n",
    "\n",
    "from utilities.file_operations import read_file\n",
    "from utilities.math_operations import square\n",
    "\n",
    "print(f\"Square of 4 is {square(4)}\")"
   ]
  },
  {
   "cell_type": "markdown",
   "id": "ccf4e50b-0157-4332-970e-b233fddc3a5c",
   "metadata": {},
   "source": [
    "---"
   ]
  },
  {
   "cell_type": "markdown",
   "id": "8b2094a3-a196-4244-ac98-704ffabe4510",
   "metadata": {},
   "source": [
    "## Conclusion:\n",
    "\n",
    "- At the end of Day 13, you will have learned how to:\n",
    "\n",
    "- Create and organize Python modules and packages.\n",
    "- Use built-in and external Python libraries for efficient development.\n",
    "- Manage project dependencies and streamline coding workflows with modular code structures.\n",
    "\n",
    "\n",
    "This understanding will allow you to develop more scalable, maintainable, and reusable Python applications."
   ]
  }
 ],
 "metadata": {
  "kernelspec": {
   "display_name": "Python 3 (ipykernel)",
   "language": "python",
   "name": "python3"
  },
  "language_info": {
   "codemirror_mode": {
    "name": "ipython",
    "version": 3
   },
   "file_extension": ".py",
   "mimetype": "text/x-python",
   "name": "python",
   "nbconvert_exporter": "python",
   "pygments_lexer": "ipython3",
   "version": "3.11.5"
  }
 },
 "nbformat": 4,
 "nbformat_minor": 5
}
