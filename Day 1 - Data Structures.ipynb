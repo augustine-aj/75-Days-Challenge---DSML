{
 "cells": [
  {
   "cell_type": "markdown",
   "id": "7e999e0c-47a7-45b4-8ed4-d4f9d7e43920",
   "metadata": {},
   "source": [
    "# Day 1: Advanced Python Data Structures (Lists, Dictionaries, Sets, and Tuples )"
   ]
  },
  {
   "cell_type": "markdown",
   "id": "86660df1-d703-46d7-ab51-5bdbcdefff7e",
   "metadata": {},
   "source": [
    "## Objectives:\n",
    "* #### Deepen your understanding of Python’s core data structures and how to manipulate them efficiently.\n",
    "* ####  Learn about advanced operations and methods available for these data structures."
   ]
  },
  {
   "cell_type": "markdown",
   "id": "c5952346-3157-4068-82c5-02b435f0a4fe",
   "metadata": {},
   "source": [
    "## Python Data Structures\n",
    "\n",
    "### 1. **List**\n",
    "### 2. **Tuple**\n",
    "### 3. **Set**\n",
    "### 4. **Dictionary**\n",
    "### 5. **String**"
   ]
  },
  {
   "cell_type": "markdown",
   "id": "e6a8eac9-cffb-4488-8ed6-56185eca08fd",
   "metadata": {},
   "source": [
    "## 1. List Methods\n",
    "**Definition**: An ordered, mutable collection of elements.  \n",
    "**Properties**: \n",
    "- Supports duplicates.\n",
    "- Elements are indexed.\n",
    "- Can hold mixed data types.\n",
    "\n",
    "| Function        | Description |\n",
    "|-----------------|-------------|\n",
    "| `append(x)`     | Adds element `x` to the end of the list. |\n",
    "| `extend(iterable)` | Appends elements from `iterable` to the list. |\n",
    "| `insert(i, x)`  | Inserts element `x` at index `i`. |\n",
    "| `remove(x)`     | Removes the first occurrence of element `x`. |\n",
    "| `pop(i)`        | Removes and returns the element at index `i`. Defaults to the last element if `i` is not provided. |\n",
    "| `sort()`        | Sorts the list in ascending order. You can pass a custom `key` function for sorting. |\n",
    "| `reverse()`     | Reverses the elements of the list in place. |\n",
    "| `index(x)`      | Returns the index of the first occurrence of `x`. |\n",
    "| `count(x)`      | Returns the number of occurrences of `x` in the list. |\n",
    "| `clear()`       | Removes all elements from the list. |\n",
    "| `copy()`        | Returns a shallow copy of the list. |\n"
   ]
  },
  {
   "cell_type": "code",
   "execution_count": 2,
   "id": "dda77736-850e-4c3a-9c00-66b86a5b1a7e",
   "metadata": {},
   "outputs": [
    {
     "data": {
      "text/plain": [
       "['Python', 'Programming', 'Good Langauge', 'Data', 'Science']"
      ]
     },
     "execution_count": 2,
     "metadata": {},
     "output_type": "execute_result"
    }
   ],
   "source": [
    "fruits = ['Python', 'Programming', 'Good Langauge', 'Data', 'Science']\n",
    "fruits"
   ]
  },
  {
   "cell_type": "code",
   "execution_count": 3,
   "id": "61bdc0b0-e509-4bc7-9c98-c4f26c1ff000",
   "metadata": {},
   "outputs": [
    {
     "data": {
      "text/plain": [
       "['Python', 'Programming', 'Good Langauge', 'Data', 'Science', 'Entri Elevate']"
      ]
     },
     "execution_count": 3,
     "metadata": {},
     "output_type": "execute_result"
    }
   ],
   "source": [
    "fruits.append('Entri Elevate')\n",
    "fruits"
   ]
  },
  {
   "cell_type": "code",
   "execution_count": 4,
   "id": "7e2f0bdf-3c33-472e-b2de-3ee3dcb49a60",
   "metadata": {},
   "outputs": [
    {
     "data": {
      "text/plain": [
       "['Python',\n",
       " 'Programming',\n",
       " 'Good Langauge',\n",
       " 'Data',\n",
       " 'Science',\n",
       " 'Entri Elevate',\n",
       " 'Machiene',\n",
       " 'Learning']"
      ]
     },
     "execution_count": 4,
     "metadata": {},
     "output_type": "execute_result"
    }
   ],
   "source": [
    "fruits.extend(['Machiene', 'Learning'])\n",
    "fruits"
   ]
  },
  {
   "cell_type": "code",
   "execution_count": 5,
   "id": "5cbd1e8e-c521-4e02-b978-bc316b91daa7",
   "metadata": {},
   "outputs": [
    {
     "data": {
      "text/plain": [
       "['Python',\n",
       " 'Programming',\n",
       " 'Artificial Intelligence',\n",
       " 'Good Langauge',\n",
       " 'Data',\n",
       " 'Science',\n",
       " 'Entri Elevate',\n",
       " 'Machiene',\n",
       " 'Learning']"
      ]
     },
     "execution_count": 5,
     "metadata": {},
     "output_type": "execute_result"
    }
   ],
   "source": [
    "fruits.insert(2, 'Artificial Intelligence')\n",
    "fruits"
   ]
  },
  {
   "cell_type": "code",
   "execution_count": 7,
   "id": "b68d41bd-7d1f-43d4-8f82-1ee8be8bdeea",
   "metadata": {},
   "outputs": [
    {
     "data": {
      "text/plain": [
       "['Python',\n",
       " 'Programming',\n",
       " 'Artificial Intelligence',\n",
       " 'Data',\n",
       " 'Science',\n",
       " 'Entri Elevate',\n",
       " 'Machiene',\n",
       " 'Learning']"
      ]
     },
     "execution_count": 7,
     "metadata": {},
     "output_type": "execute_result"
    }
   ],
   "source": [
    "fruits.remove('Good Langauge')\n",
    "fruits"
   ]
  },
  {
   "cell_type": "code",
   "execution_count": null,
   "id": "0ad1417d-f3ef-43fc-90b4-02197d4e30cc",
   "metadata": {},
   "outputs": [],
   "source": [
    "                        "
   ]
  },
  {
   "cell_type": "code",
   "execution_count": null,
   "id": "ab9e1fe2-af8b-418b-adbb-93cb1c31a9f8",
   "metadata": {},
   "outputs": [],
   "source": []
  },
  {
   "cell_type": "markdown",
   "id": "e853544b-b286-4ee6-9ec2-85abc1d77e7f",
   "metadata": {},
   "source": [
    "## 2. Tuple Methods\n",
    "**Definition**: An ordered, immutable collection of elements.  \n",
    "**Properties**:\n",
    "- Mutable: No\n",
    "- Duplicates: Allowed\n",
    "- Indexing: Supports\n",
    "\n",
    "| Function       | Description |\n",
    "|----------------|-------------|\n",
    "| `count(x)`     | Returns the number of times `x` appears in the tuple. |\n",
    "| `index(x)`     | Returns the index of the first occurrence of `x`. |\n"
   ]
  },
  {
   "cell_type": "code",
   "execution_count": 21,
   "id": "ddadacfc-0130-4299-9094-09b31663522b",
   "metadata": {},
   "outputs": [
    {
     "name": "stdout",
     "output_type": "stream",
     "text": [
      "(1, 2, 3, 4, 5, 6)\n"
     ]
    }
   ],
   "source": [
    "tuple1 = (1, 2, 3)\n",
    "tuple2 = (4, 5, 6)\n",
    "result = tuple1 + tuple2\n",
    "print(result)"
   ]
  },
  {
   "cell_type": "code",
   "execution_count": 51,
   "id": "d9cf63c5-ff62-47ad-a97f-aabcc5e65161",
   "metadata": {},
   "outputs": [
    {
     "data": {
      "text/plain": [
       "2"
      ]
     },
     "execution_count": 51,
     "metadata": {},
     "output_type": "execute_result"
    }
   ],
   "source": [
    "t = (1, 2, 2, 3).count(2)\n",
    "t"
   ]
  },
  {
   "cell_type": "code",
   "execution_count": 52,
   "id": "0e4ed9db-8c31-44ca-b28f-2289136c75aa",
   "metadata": {},
   "outputs": [
    {
     "data": {
      "text/plain": [
       "1"
      ]
     },
     "execution_count": 52,
     "metadata": {},
     "output_type": "execute_result"
    }
   ],
   "source": [
    "t = (1, 2, 3).index(2)\n",
    "t"
   ]
  },
  {
   "cell_type": "markdown",
   "id": "19271539-3a3a-46a2-8aa0-a33409a2a1c2",
   "metadata": {},
   "source": [
    "## 3. Set Methods\r\n",
    "**Definition**: An unordered collection of unique elements.  \r\n",
    "**Properties**:\r\n",
    "- Mutable, but individual elements must be immutable.\r\n",
    "- Does not allow duplicates.\r\n",
    "- Does not support indexing (unordered).\r\n",
    "\r\n",
    "| Function              | Description |\r\n",
    "|-----------------------|-------------|\r\n",
    "| `add(x)`              | Adds element `x` to the set. |\r\n",
    "| `remove(x)`           | Removes element `x` from the set. Raises an error if `x` is not found. |\r\n",
    "| `discard(x)`          | Removes element `x` from the set if present (no error if not found). |\r\n",
    "| `pop()`               | Removes and returns an arbitrary element from the set. |\r\n",
    "| `union(set)`          | Returns a new set with elements from both sets. |\r\n",
    "| `intersection(set)`   | Returns a set with elements common to both sets. |\r\n",
    "| `difference(set)`     | Returns a set with elements in the original set but not in the second set. |\r\n",
    "| `clear()`             | Removes all elements from the set. |\r\n"
   ]
  },
  {
   "cell_type": "code",
   "execution_count": 9,
   "id": "4d03299c-ba52-4aed-bb20-98225ce9b739",
   "metadata": {},
   "outputs": [
    {
     "data": {
      "text/plain": [
       "{1, 2, 3, 4, 5}"
      ]
     },
     "execution_count": 9,
     "metadata": {},
     "output_type": "execute_result"
    }
   ],
   "source": [
    "set1 = {1, 2, 3}\n",
    "set2 = {3, 4, 5}\n",
    "union = set1.union(set2)\n",
    "union"
   ]
  },
  {
   "cell_type": "code",
   "execution_count": 10,
   "id": "ddd27658-b7d6-4c82-bfdc-8ca5b906b493",
   "metadata": {},
   "outputs": [
    {
     "data": {
      "text/plain": [
       "{3}"
      ]
     },
     "execution_count": 10,
     "metadata": {},
     "output_type": "execute_result"
    }
   ],
   "source": [
    "intersection = set1.intersection(set2)\n",
    "intersection"
   ]
  },
  {
   "cell_type": "code",
   "execution_count": 12,
   "id": "06537b2c-f003-44e1-904f-056b604da402",
   "metadata": {},
   "outputs": [
    {
     "data": {
      "text/plain": [
       "{1, 2}"
      ]
     },
     "execution_count": 12,
     "metadata": {},
     "output_type": "execute_result"
    }
   ],
   "source": [
    "difference = set1.difference(set2)\n",
    "difference"
   ]
  },
  {
   "cell_type": "code",
   "execution_count": null,
   "id": "69a9a81a-5189-484f-8701-dc1d8fff7fe8",
   "metadata": {},
   "outputs": [],
   "source": []
  },
  {
   "cell_type": "code",
   "execution_count": null,
   "id": "0062937c-e19b-4ca4-aa69-b5f4bce965e6",
   "metadata": {},
   "outputs": [],
   "source": []
  },
  {
   "cell_type": "markdown",
   "id": "a98faf2d-b96d-43d3-8126-53af73ba4291",
   "metadata": {},
   "source": [
    "## 4. Dictionary Methods\n",
    "**Definition**: An unordered, mutable collection of key-value pairs.  \n",
    "**Properties**:\n",
    "- Mutable: Yes\n",
    "- Duplicates: Keys are unique, values can be duplicated.\n",
    "- Indexing: Not supported (uses keys for access)\n",
    "\n",
    "| Function        | Description |\n",
    "|-----------------|-------------|\n",
    "| `get(key)`      | Returns the value associated with the key, or `None` if the key doesn’t exist. |\n",
    "| `keys()`        | Returns a view object containing all keys. |\n",
    "| `values()`      | Returns a view object containing all values. |\n",
    "| `items()`       | Returns a view object containing the key-value pairs. |\n",
    "| `pop(key)`      | Removes and returns the value associated with the key. |\n",
    "| `update(dict)`  | Updates the dictionary with elements from another dictionary or iterable. |\n",
    "| `clear()`       | Removes all elements from the dictionary. |\n"
   ]
  },
  {
   "cell_type": "code",
   "execution_count": 13,
   "id": "57e85c2a-9261-4c85-8590-49e3bc08f18c",
   "metadata": {},
   "outputs": [
    {
     "data": {
      "text/plain": [
       "{'Alice': '123-456-7890', 'Bob': '987-654-3210', 'Charlie': '555-555-5555'}"
      ]
     },
     "execution_count": 13,
     "metadata": {},
     "output_type": "execute_result"
    }
   ],
   "source": [
    "phonebook = {\n",
    "    'Alice': '123-456-7890',\n",
    "    'Bob': '987-654-3210'\n",
    "}\n",
    "phonebook['Charlie'] = '555-555-5555'\n",
    "phonebook"
   ]
  },
  {
   "cell_type": "code",
   "execution_count": 17,
   "id": "1088bee2-89dd-4f11-8dd8-d709f3e45300",
   "metadata": {},
   "outputs": [
    {
     "name": "stdout",
     "output_type": "stream",
     "text": [
      "123-456-7890\n",
      "123-456-7890\n"
     ]
    }
   ],
   "source": [
    "print(phonebook.get('Alice'))\n",
    "print(phonebook['Alice'])"
   ]
  },
  {
   "cell_type": "code",
   "execution_count": 19,
   "id": "63f68665-0cbf-46cd-a846-43b7bc837766",
   "metadata": {},
   "outputs": [
    {
     "data": {
      "text/plain": [
       "dict_keys(['Alice', 'Bob', 'Charlie'])"
      ]
     },
     "execution_count": 19,
     "metadata": {},
     "output_type": "execute_result"
    }
   ],
   "source": [
    "phonebook.keys()"
   ]
  },
  {
   "cell_type": "code",
   "execution_count": 20,
   "id": "3e81a17f-fddf-47ec-9f78-3743b6921657",
   "metadata": {},
   "outputs": [
    {
     "data": {
      "text/plain": [
       "dict_values(['123-456-7890', '987-654-3210', '555-555-5555'])"
      ]
     },
     "execution_count": 20,
     "metadata": {},
     "output_type": "execute_result"
    }
   ],
   "source": [
    "phonebook.values()"
   ]
  },
  {
   "cell_type": "code",
   "execution_count": 53,
   "id": "9c286d3e-638e-41f7-b760-911f8c62d1c1",
   "metadata": {},
   "outputs": [
    {
     "data": {
      "text/plain": [
       "dict_items([('Alice', '123-456'), ('Bob', '789-012'), ('Charlie', '345-678')])"
      ]
     },
     "execution_count": 53,
     "metadata": {},
     "output_type": "execute_result"
    }
   ],
   "source": [
    "phonebook.items()"
   ]
  },
  {
   "cell_type": "code",
   "execution_count": null,
   "id": "aacc4225-a91d-479f-b900-8f61a5d94bb8",
   "metadata": {},
   "outputs": [],
   "source": []
  },
  {
   "cell_type": "code",
   "execution_count": null,
   "id": "e93e2bc8-b8a9-472a-bddf-dc9e924fa375",
   "metadata": {},
   "outputs": [],
   "source": []
  },
  {
   "cell_type": "markdown",
   "id": "b3f825f1-c7c9-4c7e-ad4d-1ce3e9ced1e4",
   "metadata": {},
   "source": [
    "## 5. String Methods\n",
    "**Definition**: An immutable sequence of characters.  \n",
    "**Properties**:\n",
    "- Mutable: No\n",
    "- Duplicates: Allowed\n",
    "- Indexing: Supports\n",
    "\n",
    "| Function                | Description |\n",
    "|-------------------------|-------------|\n",
    "| `lower()`               | Converts all characters to lowercase. |\n",
    "| `upper()`               | Converts all characters to uppercase. |\n",
    "| `replace(old, new)`     | Replaces all occurrences of `old` with `new`. |\n",
    "| `split(separator)`      | Splits the string into a list, using the specified separator. |\n",
    "| `join(iterable)`        | Joins elements of an iterable into a string, using the string as the separator. |\n",
    "| `strip()`               | Removes leading and trailing whitespaces. |\n"
   ]
  },
  {
   "cell_type": "code",
   "execution_count": 22,
   "id": "2b36e716-8697-45a9-ad10-123e9849fe40",
   "metadata": {},
   "outputs": [
    {
     "data": {
      "text/plain": [
       "1"
      ]
     },
     "execution_count": 22,
     "metadata": {},
     "output_type": "execute_result"
    }
   ],
   "source": [
    "s = \"hello\".find('e')\n",
    "s"
   ]
  },
  {
   "cell_type": "code",
   "execution_count": 24,
   "id": "75ecbd49-2b0f-4f68-8090-a2d91eb405c6",
   "metadata": {},
   "outputs": [
    {
     "data": {
      "text/plain": [
       "'hallo'"
      ]
     },
     "execution_count": 24,
     "metadata": {},
     "output_type": "execute_result"
    }
   ],
   "source": [
    "s = \"hello\".replace('e', 'a')\n",
    "s"
   ]
  },
  {
   "cell_type": "code",
   "execution_count": 25,
   "id": "f9173b78-cb65-4e32-9b68-54bca21a877c",
   "metadata": {},
   "outputs": [
    {
     "data": {
      "text/plain": [
       "['apple', 'banana']"
      ]
     },
     "execution_count": 25,
     "metadata": {},
     "output_type": "execute_result"
    }
   ],
   "source": [
    "s = \"apple,banana\".split(',')\n",
    "s"
   ]
  },
  {
   "cell_type": "code",
   "execution_count": 26,
   "id": "ac499e26-3689-487e-88e6-686fd20d4067",
   "metadata": {},
   "outputs": [
    {
     "data": {
      "text/plain": [
       "'apple,banana'"
      ]
     },
     "execution_count": 26,
     "metadata": {},
     "output_type": "execute_result"
    }
   ],
   "source": [
    "','.join(['apple', 'banana'])"
   ]
  },
  {
   "cell_type": "code",
   "execution_count": 28,
   "id": "4934e243-8a4d-4d00-932e-c98fab264857",
   "metadata": {},
   "outputs": [
    {
     "data": {
      "text/plain": [
       "'hello'"
      ]
     },
     "execution_count": 28,
     "metadata": {},
     "output_type": "execute_result"
    }
   ],
   "source": [
    "s = \" hello \".strip()\n",
    "s"
   ]
  },
  {
   "cell_type": "code",
   "execution_count": 29,
   "id": "18992ae4-cedf-4d2b-bac1-cbd895f74ae3",
   "metadata": {},
   "outputs": [
    {
     "data": {
      "text/plain": [
       "'HELLO'"
      ]
     },
     "execution_count": 29,
     "metadata": {},
     "output_type": "execute_result"
    }
   ],
   "source": [
    "s = \"hello\".upper()\n",
    "s"
   ]
  },
  {
   "cell_type": "code",
   "execution_count": 30,
   "id": "8a673909-2826-4368-9a99-807c4df0794d",
   "metadata": {},
   "outputs": [
    {
     "data": {
      "text/plain": [
       "'hello'"
      ]
     },
     "execution_count": 30,
     "metadata": {},
     "output_type": "execute_result"
    }
   ],
   "source": [
    "s = \"HELLO\".lower()\n",
    "s"
   ]
  },
  {
   "cell_type": "code",
   "execution_count": 31,
   "id": "be6db84e-a716-4375-8887-faa65119cfa6",
   "metadata": {},
   "outputs": [
    {
     "data": {
      "text/plain": [
       "True"
      ]
     },
     "execution_count": 31,
     "metadata": {},
     "output_type": "execute_result"
    }
   ],
   "source": [
    "s = \"hello\".startswith('he')\n",
    "s"
   ]
  },
  {
   "cell_type": "code",
   "execution_count": 32,
   "id": "c92ed8c5-199d-42f3-acc4-673998df8e41",
   "metadata": {},
   "outputs": [
    {
     "data": {
      "text/plain": [
       "True"
      ]
     },
     "execution_count": 32,
     "metadata": {},
     "output_type": "execute_result"
    }
   ],
   "source": [
    "s = \"hello\".endswith('lo')\n",
    "s"
   ]
  },
  {
   "cell_type": "code",
   "execution_count": 34,
   "id": "f12209b5-3542-43af-b958-27092acc7c70",
   "metadata": {},
   "outputs": [
    {
     "data": {
      "text/plain": [
       "'Hello'"
      ]
     },
     "execution_count": 34,
     "metadata": {},
     "output_type": "execute_result"
    }
   ],
   "source": [
    "s = \"hello\".capitalize()\n",
    "s"
   ]
  },
  {
   "cell_type": "code",
   "execution_count": 35,
   "id": "9feb4ea1-3a06-4068-8d07-468ad4237aaa",
   "metadata": {},
   "outputs": [
    {
     "data": {
      "text/plain": [
       "'Hello World'"
      ]
     },
     "execution_count": 35,
     "metadata": {},
     "output_type": "execute_result"
    }
   ],
   "source": [
    "s = \"hello world\".title()\n",
    "s"
   ]
  },
  {
   "cell_type": "code",
   "execution_count": 36,
   "id": "9e98c49d-bc0a-492f-9e49-b0dee73960df",
   "metadata": {},
   "outputs": [
    {
     "data": {
      "text/plain": [
       "2"
      ]
     },
     "execution_count": 36,
     "metadata": {},
     "output_type": "execute_result"
    }
   ],
   "source": [
    "s = \"hello\".count('l')\n",
    "s"
   ]
  },
  {
   "cell_type": "code",
   "execution_count": 37,
   "id": "66b8955f-374b-44a8-8164-3af3f9d8793b",
   "metadata": {},
   "outputs": [
    {
     "data": {
      "text/plain": [
       "1"
      ]
     },
     "execution_count": 37,
     "metadata": {},
     "output_type": "execute_result"
    }
   ],
   "source": [
    "s = \"hello\".index('e')\n",
    "s"
   ]
  },
  {
   "cell_type": "code",
   "execution_count": 38,
   "id": "044167dc-6e08-4061-8e16-576207f4fea3",
   "metadata": {},
   "outputs": [
    {
     "data": {
      "text/plain": [
       "True"
      ]
     },
     "execution_count": 38,
     "metadata": {},
     "output_type": "execute_result"
    }
   ],
   "source": [
    "s = \"hello\".isalpha()\n",
    "s"
   ]
  },
  {
   "cell_type": "code",
   "execution_count": 39,
   "id": "9ae51449-a2de-4fc3-b4a2-dd5e7f22bea6",
   "metadata": {},
   "outputs": [
    {
     "data": {
      "text/plain": [
       "True"
      ]
     },
     "execution_count": 39,
     "metadata": {},
     "output_type": "execute_result"
    }
   ],
   "source": [
    "s = \"12345\".isdigit()\n",
    "s"
   ]
  },
  {
   "cell_type": "code",
   "execution_count": 40,
   "id": "b179ad5c-3934-4f65-939b-2835b4b4179a",
   "metadata": {},
   "outputs": [
    {
     "data": {
      "text/plain": [
       "True"
      ]
     },
     "execution_count": 40,
     "metadata": {},
     "output_type": "execute_result"
    }
   ],
   "source": [
    "s = \"hello123\".isalnum()\n",
    "s"
   ]
  },
  {
   "cell_type": "code",
   "execution_count": 41,
   "id": "aab7cdcf-4389-4b46-af2e-e0e1099095a8",
   "metadata": {},
   "outputs": [
    {
     "data": {
      "text/plain": [
       "True"
      ]
     },
     "execution_count": 41,
     "metadata": {},
     "output_type": "execute_result"
    }
   ],
   "source": [
    "s = \"hello\".islower()\n",
    "s"
   ]
  },
  {
   "cell_type": "code",
   "execution_count": 42,
   "id": "afae80ad-9370-4a8d-85f6-10ca2ad21e4c",
   "metadata": {},
   "outputs": [
    {
     "data": {
      "text/plain": [
       "True"
      ]
     },
     "execution_count": 42,
     "metadata": {},
     "output_type": "execute_result"
    }
   ],
   "source": [
    "s = \"HELLO\".isupper()\n",
    "s"
   ]
  },
  {
   "cell_type": "code",
   "execution_count": 43,
   "id": "81f421b8-2f6f-4e6f-bdbf-27cf91280f31",
   "metadata": {},
   "outputs": [
    {
     "data": {
      "text/plain": [
       "True"
      ]
     },
     "execution_count": 43,
     "metadata": {},
     "output_type": "execute_result"
    }
   ],
   "source": [
    "s = \"hello\".startswith(\"he\")\n",
    "s"
   ]
  },
  {
   "cell_type": "code",
   "execution_count": 44,
   "id": "800d6437-cab5-4c3c-8e43-d828a6ed043d",
   "metadata": {},
   "outputs": [
    {
     "data": {
      "text/plain": [
       "True"
      ]
     },
     "execution_count": 44,
     "metadata": {},
     "output_type": "execute_result"
    }
   ],
   "source": [
    "s = \"hello\".endswith(\"lo\")\n",
    "s"
   ]
  },
  {
   "cell_type": "code",
   "execution_count": null,
   "id": "87a062a8-691f-4f53-aed7-b4ce94872ede",
   "metadata": {},
   "outputs": [],
   "source": []
  },
  {
   "cell_type": "code",
   "execution_count": null,
   "id": "610c3555-7dd3-415b-ac38-ef0c2da35a25",
   "metadata": {},
   "outputs": [],
   "source": []
  },
  {
   "cell_type": "markdown",
   "id": "3c53bab5-4fcc-44e5-ab7d-9f4311ecf52f",
   "metadata": {},
   "source": [
    "## Exercises:\n",
    "#### 1. Implement a Phonebook Using a Dictionary:"
   ]
  },
  {
   "cell_type": "code",
   "execution_count": 47,
   "id": "08674ecd-d932-45d6-9578-a99a4624c7df",
   "metadata": {},
   "outputs": [
    {
     "name": "stdout",
     "output_type": "stream",
     "text": [
      "Phonebook :  {'Alice': '123-456', 'Bob': '789-012', 'Charlie': '345-678'}\n",
      "Phone number(Value) of Alice is  123-456\n"
     ]
    }
   ],
   "source": [
    "phonebook = {\n",
    "    'Alice': '123-456',\n",
    "    'Bob': '789-012'\n",
    "}\n",
    "phonebook['Charlie'] = '345-678'\n",
    "print('Phonebook : ', phonebook)\n",
    "print('Phone number(Value) of Alice is ', phonebook.get('Alice'))"
   ]
  },
  {
   "cell_type": "markdown",
   "id": "53f30e8f-c5fd-453c-9488-6f1882649432",
   "metadata": {},
   "source": [
    "#### 2. Use List Comprehensions to Create a List of Squares of Even Numbers:"
   ]
  },
  {
   "cell_type": "code",
   "execution_count": 49,
   "id": "2b59b915-63ee-4b24-8dd7-cd0512acb32a",
   "metadata": {},
   "outputs": [
    {
     "data": {
      "text/plain": [
       "[4, 16, 36]"
      ]
     },
     "execution_count": 49,
     "metadata": {},
     "output_type": "execute_result"
    }
   ],
   "source": [
    "numbers = [1, 2, 3, 4, 5, 6]\n",
    "squares_of_even = [n**2 for n in numbers if n % 2 == 0]\n",
    "squares_of_even"
   ]
  },
  {
   "cell_type": "markdown",
   "id": "0876797a-a196-4eae-a7be-17f968849357",
   "metadata": {},
   "source": [
    "#### 3.Set Operations:"
   ]
  },
  {
   "cell_type": "code",
   "execution_count": 50,
   "id": "a017c7d4-059c-411c-892b-10d9d505697e",
   "metadata": {},
   "outputs": [
    {
     "data": {
      "text/plain": [
       "{'Alice', 'Bob', 'Charlie', 'Dave', 'Eve'}"
      ]
     },
     "execution_count": 50,
     "metadata": {},
     "output_type": "execute_result"
    }
   ],
   "source": [
    "class_a = {'Alice', 'Bob', 'Charlie'}\n",
    "class_b = {'Charlie', 'Dave', 'Eve'}\n",
    "all_students = class_a.union(class_b)\n",
    "all_students"
   ]
  },
  {
   "cell_type": "markdown",
   "id": "7cbb2b4f-0ad1-4fa0-b3bb-6b263f4a0c4a",
   "metadata": {},
   "source": [
    "#### 4. Tuple Unpacking:"
   ]
  },
  {
   "cell_type": "code",
   "execution_count": 54,
   "id": "eaff38fd-abdb-456e-a519-f67142ffb1c2",
   "metadata": {},
   "outputs": [
    {
     "name": "stdout",
     "output_type": "stream",
     "text": [
      "x: 5, y: 10\n"
     ]
    }
   ],
   "source": [
    "coordinates = (5, 10)\n",
    "x, y = coordinates\n",
    "print(f\"x: {x}, y: {y}\")"
   ]
  },
  {
   "cell_type": "code",
   "execution_count": null,
   "id": "182c86de-bd5b-4cc4-8d56-1c97e54f4591",
   "metadata": {},
   "outputs": [],
   "source": []
  }
 ],
 "metadata": {
  "kernelspec": {
   "display_name": "Python 3 (ipykernel)",
   "language": "python",
   "name": "python3"
  },
  "language_info": {
   "codemirror_mode": {
    "name": "ipython",
    "version": 3
   },
   "file_extension": ".py",
   "mimetype": "text/x-python",
   "name": "python",
   "nbconvert_exporter": "python",
   "pygments_lexer": "ipython3",
   "version": "3.11.5"
  }
 },
 "nbformat": 4,
 "nbformat_minor": 5
}
