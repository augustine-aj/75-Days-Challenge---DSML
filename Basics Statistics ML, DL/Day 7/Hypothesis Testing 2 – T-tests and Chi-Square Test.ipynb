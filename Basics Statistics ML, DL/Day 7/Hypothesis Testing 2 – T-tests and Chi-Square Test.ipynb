{
 "cells": [
  {
   "cell_type": "markdown",
   "id": "2a78654a-cdf1-4e7f-b775-95a7a550d954",
   "metadata": {},
   "source": [
    "# Hypothesis Testing Continued – T-tests and Chi-Square Test\n",
    "Hypothesis testing continues with an exploration of T-tests and the Chi-Square test – powerful tools for analyzing data and testing hypotheses in various scenarios. Here's what this day covers:"
   ]
  },
  {
   "cell_type": "markdown",
   "id": "a0f96e03-e925-4ec2-8716-2f02fd416200",
   "metadata": {},
   "source": [
    "---"
   ]
  },
  {
   "cell_type": "markdown",
   "id": "7704f3ea-5696-4a86-be62-64d990be9846",
   "metadata": {},
   "source": [
    "## Theory: Types of Hypothesis Tests\n",
    "\n",
    "### Types of Hypothesis Tests:\n",
    "1. **One-tailed Test**: \n",
    "   - Tests if a parameter is significantly greater or less than a specific value.\n",
    "\n",
    "2. **Two-tailed Test**: \n",
    "   - Tests if a parameter is significantly different from a specific value (could be greater or lesser).\n",
    "\n",
    "---\n",
    "\n",
    "#### T-tests:\n",
    "T-tests are used to compare the means of two groups.\n",
    "\n",
    "#### Types of T-tests:\n",
    "- **One-sample T-test**: \n",
    "  - Compares the mean of a single sample to a known value.\n",
    "  \n",
    "- **Two-sample T-test**: \n",
    "  - Compares the means of two independent groups.\n",
    "  \n",
    "- **Paired T-test**: \n",
    "  - Compares the means of two related groups (e.g., before and after).\n",
    "\n",
    "---\n",
    "\n",
    "### Chi-Square Test:\n",
    "The Chi-Square test is used for testing relationships between categorical variables.\n",
    "\n",
    "#### Applications:\n",
    "- **Goodness-of-fit Test**: \n",
    "  - Checks if sample data fits a distribution.\n",
    "  \n",
    "- **Test for Independence**: \n",
    "  - Checks if two categorical variables are independent.\n"
   ]
  },
  {
   "cell_type": "markdown",
   "id": "40563fd5-dde6-4a11-84e4-b9af5ee218b1",
   "metadata": {},
   "source": [
    "---"
   ]
  },
  {
   "cell_type": "markdown",
   "id": "85d57e54-865d-44bc-983e-1277adef45d9",
   "metadata": {},
   "source": [
    "## Practical Exercise:\n",
    "Let’s implement T-tests and Chi-Square tests using Python libraries like SciPy and Pandas.\n",
    "\n",
    "### 1. T-tests Example"
   ]
  },
  {
   "cell_type": "code",
   "execution_count": 6,
   "id": "c5d625af-6a2f-4a9b-ba58-cf423127f691",
   "metadata": {},
   "outputs": [
    {
     "name": "stdout",
     "output_type": "stream",
     "text": [
      "One-sample T-test: t-statistic=-0.18, p-value=0.8645\n",
      "Two-sample T-test: t-statistic=3.77, p-value=0.0055\n",
      "Paired T-test: t-statistic=-6.53, p-value=0.0028\n"
     ]
    }
   ],
   "source": [
    "import numpy as np\n",
    "from scipy.stats import ttest_1samp, ttest_ind, ttest_rel\n",
    "\n",
    "data = [1.2, 2.3, 1.8, 2.5, 1.9, 2.1]\n",
    "population_mean = 2.0\n",
    "t_stat, p_val = ttest_1samp(data, population_mean)\n",
    "print(f\"One-sample T-test: t-statistic={t_stat:.2f}, p-value={p_val:.4f}\")\n",
    "\n",
    "group1 = [2.1, 2.3, 2.5, 2.0, 2.2]\n",
    "group2 = [1.8, 1.9, 1.7, 2.0, 1.6]\n",
    "t_stat, p_val = ttest_ind(group1, group2)\n",
    "print(f\"Two-sample T-test: t-statistic={t_stat:.2f}, p-value={p_val:.4f}\")\n",
    "\n",
    "before = [3.1, 2.9, 3.5, 3.0, 3.2]\n",
    "after = [3.3, 3.0, 3.7, 3.1, 3.4]\n",
    "t_stat, p_val = ttest_rel(before, after)\n",
    "print(f\"Paired T-test: t-statistic={t_stat:.2f}, p-value={p_val:.4f}\")"
   ]
  },
  {
   "cell_type": "markdown",
   "id": "e4aa3082-e00e-4ff5-b06c-654ec3609ecc",
   "metadata": {},
   "source": [
    "### 2. Chi-Square Test Example"
   ]
  },
  {
   "cell_type": "code",
   "execution_count": 7,
   "id": "28b1fda8-41ef-4117-ab8e-da309a00f3c6",
   "metadata": {},
   "outputs": [
    {
     "name": "stdout",
     "output_type": "stream",
     "text": [
      "Chi-Square Test: chi2=10.53, p-value=0.0012\n",
      "Degrees of Freedom: 1\n",
      "Expected Frequencies Table:\n",
      "[[40. 40.]\n",
      " [30. 30.]]\n"
     ]
    }
   ],
   "source": [
    "import numpy as np\n",
    "from scipy.stats import chi2_contingency\n",
    "\n",
    "data = np.array([[50, 30], [20, 40]])  # Rows: categories, Columns: outcomes\n",
    "chi2, p, dof, expected = chi2_contingency(data)\n",
    "\n",
    "print(f\"Chi-Square Test: chi2={chi2:.2f}, p-value={p:.4f}\")\n",
    "print(f\"Degrees of Freedom: {dof}\")\n",
    "print(\"Expected Frequencies Table:\")\n",
    "print(expected)"
   ]
  },
  {
   "cell_type": "markdown",
   "id": "410edb06-034c-46d8-afe3-773f5a27ca26",
   "metadata": {},
   "source": [
    "### Explanation of Results:\n",
    "#### T-tests:\n",
    "\n",
    "The t-statistic measures the difference between the sample mean(s) and the population/group mean, scaled by the variability in the data.\n",
    "The p-value indicates whether the difference is statistically significant (commonly using a threshold of 0.05).\n",
    "#### Chi-Square Test:\n",
    "\n",
    "The chi2 value assesses how much observed data deviate from expected frequencies.\n",
    "The p-value determines if the relationship between variables is significant.\n"
   ]
  },
  {
   "cell_type": "markdown",
   "id": "13ebc0b8-c2fd-46a8-abbc-d251e0053f10",
   "metadata": {},
   "source": [
    "---"
   ]
  },
  {
   "cell_type": "markdown",
   "id": "15cb1b74-9dbf-42b0-b0ba-c189b2b1cd1a",
   "metadata": {},
   "source": [
    "## Summary\n",
    "This day focuses on applying these statistical tools to better understand relationships and test hypotheses in real-world data analysis tasks."
   ]
  },
  {
   "cell_type": "markdown",
   "id": "be81d05c-b1af-48db-aeb7-bf244c18f07e",
   "metadata": {},
   "source": [
    "---"
   ]
  },
  {
   "cell_type": "code",
   "execution_count": null,
   "id": "b55b5e99-7f48-4aab-b528-d277f5e9826a",
   "metadata": {},
   "outputs": [],
   "source": []
  }
 ],
 "metadata": {
  "kernelspec": {
   "display_name": "Python 3 (ipykernel)",
   "language": "python",
   "name": "python3"
  },
  "language_info": {
   "codemirror_mode": {
    "name": "ipython",
    "version": 3
   },
   "file_extension": ".py",
   "mimetype": "text/x-python",
   "name": "python",
   "nbconvert_exporter": "python",
   "pygments_lexer": "ipython3",
   "version": "3.11.5"
  }
 },
 "nbformat": 4,
 "nbformat_minor": 5
}
