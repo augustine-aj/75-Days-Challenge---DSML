{
 "cells": [
  {
   "cell_type": "markdown",
   "id": "cc9ea4c4-ab74-41c0-bbf1-4fe99708f7ee",
   "metadata": {},
   "source": [
    "# Multiple Linear Regression and Logistic Regression\n",
    "\n",
    "## 📖 Theory Explanation\n",
    "\n",
    "### Multiple Linear Regression\n",
    "\n",
    "#### Definition\n",
    "A statistical method that extends simple linear regression to predict a dependent variable (target) using multiple independent variables (features).\n",
    "\n",
    "### Equation\n",
    "$$\n",
    "Y = \\beta_0 + \\beta_1 X_1 + \\beta_2 X_2 + \\dots + \\beta_n X_n + \\epsilon\n",
    "$$"
   ]
  },
  {
   "cell_type": "markdown",
   "id": "90e33317-efaf-487e-aa61-e5ba9c4bfff3",
   "metadata": {},
   "source": [
    "Where:\n",
    "\n",
    "$$\n",
    "\\begin{aligned}\n",
    "- \\, & Y: \\text{Dependent variable (target).} \\\\\n",
    "- \\, & X_1, X_2, \\dots, X_n: \\text{Independent variables (features).} \\\\\n",
    "- \\, & \\beta_0: \\text{Intercept.} \\\\\n",
    "- \\, & \\beta_1, \\dots, \\beta_n: \\text{Coefficients for each feature.} \\\\\n",
    "- \\, & \\epsilon: \\text{Error term (difference between predicted and actual values).}\n",
    "\\end{aligned}\n",
    "$$\n",
    "\n",
    "\n",
    "#### Applications\n",
    "- Predicting house prices based on factors like size, location, and age.\n",
    "- Estimating sales revenue based on marketing spend and customer demographics.\n",
    "\n",
    "---\n",
    "\n",
    "### Logistic Regression\n",
    "\n",
    "#### Definition\n",
    "A classification algorithm used for binary outcomes, such as Yes/No, True/False.\n",
    "\n",
    "#### Sigmoid Function\n",
    "Converts linear output to probabilities:\n",
    "\n",
    "$$\n",
    "P(Y = 1 \\mid X) = \\frac{1}{1 + e^{-\\left(\\beta_0 + \\beta_1 X_1 + \\dots + \\beta_n X_n\\right)}}\n",
    "$$"
   ]
  },
  {
   "cell_type": "markdown",
   "id": "bcbc4e6e-f45b-4ff9-a5a6-e5a27e05842f",
   "metadata": {},
   "source": [
    "#### Key Points\n",
    "\n",
    "$$\r\n",
    "\\begin{aligned}\r\n",
    "- \\, & P(Y = 1 \\mid X): \\text{Probability of the dependent variable being 1, given } X. \\\\\r\n",
    "- \\, & \\beta_0, \\beta_1, \\dots, \\beta_n: \\text{Parameters learned from data.}\r\n",
    "\\end{aligned}$$\r\n",
    "\n",
    "\n",
    "\n",
    "#### Goal\n",
    "Predict probabilities and classify based on a threshold (commonly 0.5).\n",
    "\n",
    "#### Applications\n",
    "- Predicting whether a customer will churn.\n",
    "- Classifying emails as spam or not spam."
   ]
  },
  {
   "cell_type": "markdown",
   "id": "ad1d2d5a-1800-4d30-abfd-6adf329ed6f7",
   "metadata": {},
   "source": [
    "## 💻 Practical Implementation\n",
    "### 1. Multiple Linear Regression Example"
   ]
  },
  {
   "cell_type": "code",
   "execution_count": 6,
   "id": "d9119532-54a7-4200-8cd0-03e7b71b6f4a",
   "metadata": {},
   "outputs": [
    {
     "name": "stdout",
     "output_type": "stream",
     "text": [
      "Predicted Prices: [303125. 353125. 403125. 431250. 509375.]\n",
      "Mean Squared Error (MSE): 93750000.0\n"
     ]
    }
   ],
   "source": [
    "import pandas as pd\n",
    "from sklearn.linear_model import LinearRegression\n",
    "from sklearn.metrics import mean_squared_error\n",
    "\n",
    "# Sample dataset\n",
    "data = {'Area': [1200, 1500, 1800, 2000, 2500],\n",
    "        'Rooms': [2, 3, 4, 4, 5],\n",
    "        'Price': [300000, 350000, 400000, 450000, 500000]}\n",
    "\n",
    "df = pd.DataFrame(data)\n",
    "\n",
    "X = df[['Area', 'Rooms']]\n",
    "y = df['Price']\n",
    "\n",
    "model = LinearRegression()\n",
    "model.fit(X, y)\n",
    "\n",
    "predictions = model.predict(X)\n",
    "mse = mean_squared_error(y, predictions)\n",
    "\n",
    "print(\"Predicted Prices:\", predictions)\n",
    "print(\"Mean Squared Error (MSE):\", mse)"
   ]
  },
  {
   "cell_type": "markdown",
   "id": "9b6d22f4-7834-4522-b58f-ed2f4abe4f69",
   "metadata": {},
   "source": [
    "#### Output Explanation:\n",
    "\n",
    "- **Predicted Prices:** Estimated prices based on the input features.\n",
    "- **MSE:** Measures how close the predicted values are to the actual values; lower is better."
   ]
  },
  {
   "cell_type": "markdown",
   "id": "d72afe48-003d-4770-8fa1-e2e437544e22",
   "metadata": {},
   "source": [
    "### 3. Logistic Regression Example"
   ]
  },
  {
   "cell_type": "code",
   "execution_count": 7,
   "id": "6033c0c6-8cba-431c-9487-6b6922c1211c",
   "metadata": {},
   "outputs": [
    {
     "name": "stdout",
     "output_type": "stream",
     "text": [
      "Predicted Classes: [0 0 1 1 1]\n",
      "Predicted Probabilities: [[0.8157613  0.1842387 ]\n",
      " [0.60836998 0.39163002]\n",
      " [0.35275336 0.64724664]\n",
      " [0.16051755 0.83948245]\n",
      " [0.06286686 0.93713314]]\n",
      "Accuracy Score: 1.0\n",
      "Classification Report:\n",
      "               precision    recall  f1-score   support\n",
      "\n",
      "           0       1.00      1.00      1.00         2\n",
      "           1       1.00      1.00      1.00         3\n",
      "\n",
      "    accuracy                           1.00         5\n",
      "   macro avg       1.00      1.00      1.00         5\n",
      "weighted avg       1.00      1.00      1.00         5\n",
      "\n"
     ]
    }
   ],
   "source": [
    "from sklearn.linear_model import LogisticRegression\n",
    "from sklearn.metrics import accuracy_score, classification_report\n",
    "\n",
    "# Sample dataset\n",
    "data = {'Hours_Studied': [1, 2, 3, 4, 5],\n",
    "        'Pass': [0, 0, 1, 1, 1]}  # 0: Fail, 1: Pass\n",
    "\n",
    "df = pd.DataFrame(data)\n",
    "\n",
    "X = df[['Hours_Studied']]\n",
    "y = df['Pass']\n",
    "\n",
    "log_model = LogisticRegression()\n",
    "log_model.fit(X, y)\n",
    "\n",
    "predictions = log_model.predict(X)\n",
    "probabilities = log_model.predict_proba(X)\n",
    "\n",
    "print(\"Predicted Classes:\", predictions)\n",
    "print(\"Predicted Probabilities:\", probabilities)\n",
    "print(\"Accuracy Score:\", accuracy_score(y, predictions))\n",
    "print(\"Classification Report:\\n\", classification_report(y, predictions))"
   ]
  },
  {
   "cell_type": "markdown",
   "id": "f20145f0-d710-4d54-bb27-114a096b88e8",
   "metadata": {},
   "source": [
    "#### Output Explanation:\n",
    "\n",
    "- **Predicted Classes:** Indicates pass (1) or fail (0) based on the logistic function.\n",
    "- **Predicted Probabilities:** Gives the likelihood of each class (e.g., [0.2, 0.8] for fail vs. pass).\n",
    "- **Classification Report:** Shows precision, recall, and F1-score for the model."
   ]
  },
  {
   "cell_type": "markdown",
   "id": "496c0bcd-77dd-4054-a59d-d044d91f41e1",
   "metadata": {},
   "source": [
    "---"
   ]
  },
  {
   "cell_type": "markdown",
   "id": "684898a4-9ecb-4162-b11b-f589a9bd7d43",
   "metadata": {},
   "source": [
    "## 🔑 Key Takeaways\n",
    "- **Multiple Linear Regression:** Effective for predicting continuous outcomes influenced by multiple factors.\n",
    "- **Logistic Regression:** Ideal for binary classification problems.\n",
    "- Both models provide fundamental techniques for supervised learning in machine learning."
   ]
  },
  {
   "cell_type": "markdown",
   "id": "541f18eb-1b3f-4b85-acc4-f8249663892a",
   "metadata": {},
   "source": [
    "---"
   ]
  },
  {
   "cell_type": "markdown",
   "id": "4fc93f1c-e844-4942-acbc-bf291a1de2c8",
   "metadata": {},
   "source": [
    "## Conclusion\n",
    "These models serve as the building blocks for more advanced predictive and classification tasks in real-world applications! 🚀"
   ]
  },
  {
   "cell_type": "markdown",
   "id": "9a262bb8-bb77-47f5-8794-03e2e9e80ffc",
   "metadata": {},
   "source": [
    "---"
   ]
  },
  {
   "cell_type": "code",
   "execution_count": null,
   "id": "b0d10c87-b387-4954-a3ad-4aecfe549339",
   "metadata": {},
   "outputs": [],
   "source": []
  }
 ],
 "metadata": {
  "kernelspec": {
   "display_name": "Python 3 (ipykernel)",
   "language": "python",
   "name": "python3"
  },
  "language_info": {
   "codemirror_mode": {
    "name": "ipython",
    "version": 3
   },
   "file_extension": ".py",
   "mimetype": "text/x-python",
   "name": "python",
   "nbconvert_exporter": "python",
   "pygments_lexer": "ipython3",
   "version": "3.11.5"
  }
 },
 "nbformat": 4,
 "nbformat_minor": 5
}
