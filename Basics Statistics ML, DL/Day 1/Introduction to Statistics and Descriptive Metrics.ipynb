{
 "cells": [
  {
   "cell_type": "markdown",
   "id": "e784eafd-b0f1-4b6d-ad8b-50a576ccf1de",
   "metadata": {},
   "source": [
    "# Introduction to Statistics and Descriptive Metrics"
   ]
  },
  {
   "cell_type": "markdown",
   "id": "4da61bce-d091-4f3e-9ade-81666a7875b3",
   "metadata": {},
   "source": [
    "## Theory\n",
    "### Overview of Statistics:\n",
    "\n",
    "Statistics is the science of collecting, analyzing, interpreting, and presenting data.\n",
    "Essential for ***data-driven decision-making***, especially in fields like `machine learning (ML)` and `deep learning (DL)`, where understanding data patterns and variability is crucial for building predictive models.\n",
    "### Importance in ML/DL:\n",
    "\n",
    "- **Data Understanding**: Helps in data exploration to uncover insights, detect outliers, and understand data distribution.\n",
    "- **Model Performance**: Statistical knowledge is key to evaluating model results, selecting features, and optimizing parameters.\n",
    "### Types of Data:\n",
    "\n",
    "- **Nominal**: Categorical data without any order (e.g., gender, colors).\n",
    "- **Ordinal**: Categorical data with a meaningful order, but intervals are not consistent (e.g., ratings like poor, fair, good).\n",
    "- **Interval**: Numeric data with equal intervals, but no true zero (e.g., temperature in Celsius).\n",
    "- **Ratio**: Numeric data with equal intervals and a true zero, allowing meaningful ratios (e.g., age, weight).\n",
    "### Descriptive Statistics:\n",
    "\n",
    "- **Mean**: The average of all values.\n",
    "- **Median**: The middle value when data is ordered.\n",
    "- **Mode**: The most frequently occurring value.\n",
    "- **Range**: The difference between the highest and lowest values.\n",
    "- **Variance**: Measures the spread of data points around the mean.\n",
    "- **Standard Deviation**: The square root of variance, indicating the typical distance from the mean."
   ]
  },
  {
   "cell_type": "markdown",
   "id": "369da0da-8974-4833-b420-dba83fcc673b",
   "metadata": {},
   "source": [
    "---"
   ]
  },
  {
   "cell_type": "markdown",
   "id": "e9fa1c05-27a0-483f-b7fb-1b4798a7bd2c",
   "metadata": {},
   "source": [
    "## Practical: Calculating Descriptive Statistics in Python\n",
    "Let's apply these concepts using Python with NumPy and Pandas."
   ]
  },
  {
   "cell_type": "markdown",
   "id": "beaede6d-4aef-4e5b-9a4a-8d84daa9f204",
   "metadata": {},
   "source": [
    "#### Step 1: Import Required Libraries"
   ]
  },
  {
   "cell_type": "code",
   "execution_count": 1,
   "id": "2b0101d8-42bf-428a-9005-4196e6b5fbc2",
   "metadata": {},
   "outputs": [],
   "source": [
    "import numpy as np\n",
    "import pandas as pd"
   ]
  },
  {
   "cell_type": "markdown",
   "id": "c416d9e0-89bb-48f6-ac67-6f2994208c2a",
   "metadata": {},
   "source": [
    "#### Step 2: Create a Sample Dataset"
   ]
  },
  {
   "cell_type": "code",
   "execution_count": 2,
   "id": "6791e8ec-6605-4615-906e-6f4fd8b419f0",
   "metadata": {},
   "outputs": [],
   "source": [
    "data = [12, 15, 14, 10, 18, 20, 16, 15, 19, 11]"
   ]
  },
  {
   "cell_type": "markdown",
   "id": "b367fcd8-948e-4d7a-a26f-11563516256b",
   "metadata": {},
   "source": [
    "#### Step 3: Calculate Descriptive Statistics"
   ]
  },
  {
   "cell_type": "markdown",
   "id": "b892f70f-1bcf-43a5-98ab-cba0dbddddbb",
   "metadata": {},
   "source": [
    "#### 1.Mean"
   ]
  },
  {
   "cell_type": "code",
   "execution_count": 3,
   "id": "656bebc5-dbca-47a9-9823-54655d1985ea",
   "metadata": {},
   "outputs": [
    {
     "name": "stdout",
     "output_type": "stream",
     "text": [
      "Mean: 15.0\n"
     ]
    }
   ],
   "source": [
    "mean_value = np.mean(data)\n",
    "print(f\"Mean: {mean_value}\")"
   ]
  },
  {
   "cell_type": "markdown",
   "id": "161ebf3b-bebc-4412-9813-76a483bcf52a",
   "metadata": {},
   "source": [
    "#### 2. Median "
   ]
  },
  {
   "cell_type": "code",
   "execution_count": 4,
   "id": "d56a39e4-8ea1-4a04-bd75-7c5e16d1bf9e",
   "metadata": {},
   "outputs": [
    {
     "name": "stdout",
     "output_type": "stream",
     "text": [
      "Median: 15.0\n"
     ]
    }
   ],
   "source": [
    "median_value = np.median(data)\n",
    "print(f\"Median: {median_value}\")"
   ]
  },
  {
   "cell_type": "markdown",
   "id": "c89f15cb-61a8-4750-a335-53465739649b",
   "metadata": {},
   "source": [
    "#### 3. Mode"
   ]
  },
  {
   "cell_type": "code",
   "execution_count": 5,
   "id": "f814eb72-9e28-4149-bf1d-4fbabc15043e",
   "metadata": {},
   "outputs": [
    {
     "name": "stdout",
     "output_type": "stream",
     "text": [
      "Mode: 15\n"
     ]
    }
   ],
   "source": [
    "mode_value = pd.Series(data).mode()[0]  # Using Pandas for mode\n",
    "print(f\"Mode: {mode_value}\")"
   ]
  },
  {
   "cell_type": "markdown",
   "id": "65e5cd97-ebc6-42ec-9e10-21ab243db7a6",
   "metadata": {},
   "source": [
    "#### 4. Range"
   ]
  },
  {
   "cell_type": "code",
   "execution_count": 6,
   "id": "86fa63cb-5093-48fe-9c31-292e51fb264e",
   "metadata": {},
   "outputs": [
    {
     "name": "stdout",
     "output_type": "stream",
     "text": [
      "Range: 10\n"
     ]
    }
   ],
   "source": [
    "range_value = np.max(data) - np.min(data)\n",
    "print(f\"Range: {range_value}\")"
   ]
  },
  {
   "cell_type": "markdown",
   "id": "914fe973-2b4d-46a9-8068-a5fb6d78d75c",
   "metadata": {},
   "source": [
    "#### 5. Variance"
   ]
  },
  {
   "cell_type": "code",
   "execution_count": 7,
   "id": "d16265b0-60f5-4558-a513-847242cd8c14",
   "metadata": {},
   "outputs": [
    {
     "name": "stdout",
     "output_type": "stream",
     "text": [
      "Variance: 11.333333333333334\n"
     ]
    }
   ],
   "source": [
    "variance_value = np.var(data, ddof=1)  # Using sample variance (ddof=1)\n",
    "print(f\"Variance: {variance_value}\")"
   ]
  },
  {
   "cell_type": "code",
   "execution_count": null,
   "id": "1aa987e2-9ede-4348-b372-68b1fc95491d",
   "metadata": {},
   "outputs": [],
   "source": [
    "#### 6. Standard Deviation"
   ]
  }
 ],
 "metadata": {
  "kernelspec": {
   "display_name": "Python 3 (ipykernel)",
   "language": "python",
   "name": "python3"
  },
  "language_info": {
   "codemirror_mode": {
    "name": "ipython",
    "version": 3
   },
   "file_extension": ".py",
   "mimetype": "text/x-python",
   "name": "python",
   "nbconvert_exporter": "python",
   "pygments_lexer": "ipython3",
   "version": "3.11.5"
  }
 },
 "nbformat": 4,
 "nbformat_minor": 5
}
