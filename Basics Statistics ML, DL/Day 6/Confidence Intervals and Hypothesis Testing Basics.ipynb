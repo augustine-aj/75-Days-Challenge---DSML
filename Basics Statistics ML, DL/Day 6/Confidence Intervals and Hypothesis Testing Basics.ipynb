{
 "cells": [
  {
   "cell_type": "markdown",
   "id": "20a3ea94-eb79-4ee9-93c7-f189324cab6d",
   "metadata": {},
   "source": [
    "# Day 6: Confidence Intervals and Hypothesis Testing Basics\n",
    "\n",
    "Today’s focus on **Confidence Intervals** and **Hypothesis Testing** marks an essential step in understanding how to draw conclusions from data. Both techniques are fundamental in inferential statistics, enabling us to make generalizations about populations from sample data and assess the likelihood of hypotheses.\n",
    "\n",
    "---"
   ]
  },
  {
   "cell_type": "markdown",
   "id": "f968f4f9-3d10-49e8-8550-49e40e781bb7",
   "metadata": {},
   "source": [
    "## Theory Overview:\n",
    "\n",
    "### Confidence Intervals (CI):\n",
    "- A **confidence interval** provides a range within which we expect a population parameter (like the mean) to lie, based on our sample data, with a specified level of confidence.\n",
    "- **Margin of Error**: The margin of error represents the amount of uncertainty around a sample estimate, with smaller margins indicating greater precision. For example, a 95% CI means that if we took 100 samples and computed a 95% CI for each, approximately 95 of them would contain the true population mean.\n",
    "- The interval is typically calculated as:\n",
    "\n",
    "  $$\n",
    "  \\text{CI} = \\text{sample mean} \\pm (\\text{critical value}) \\times \\text{standard error}\n",
    "  $$\n",
    "\n",
    "- The **critical value** depends on the desired confidence level and whether we use a z-score (for large samples) or t-score (for smaller samples).\n",
    "\n",
    "### Hypothesis Testing:\n",
    "- **Hypothesis testing** helps us decide if there’s enough evidence in our sample data to infer that a certain condition is true for the entire population.\n",
    "  \n",
    "  #### Null Hypothesis (H₀) vs. Alternative Hypothesis (H₁):\n",
    "  - The **null hypothesis (H₀)** generally represents a default position (e.g., no effect, no difference).\n",
    "  - The **alternative hypothesis (H₁)** is what we seek to support with our data.\n",
    "\n",
    "- **P-Value**: This measures the probability of observing the test results, assuming the null hypothesis is true. A small p-value (commonly < 0.05) indicates that the observed result is unlikely under H₀, suggesting we may reject it in favor of H₁."
   ]
  },
  {
   "cell_type": "markdown",
   "id": "2d01f3be-0582-41cc-b7a9-6b0a700614ad",
   "metadata": {},
   "source": [
    "---"
   ]
  },
  {
   "cell_type": "markdown",
   "id": "611912cd-25d6-47a0-a4d8-9cbf7a251d6d",
   "metadata": {},
   "source": [
    "## Practical: Calculating Confidence Intervals and Conducting Hypothesis Tests in Python\n",
    "Let's see how to calculate a confidence interval and perform a hypothesis test using Python.\n",
    "\n",
    "### 1. Confidence Interval Calculation\n",
    "Suppose we have a sample data representing the heights of individuals. We’ll calculate a 95% confidence interval for the sample mean."
   ]
  },
  {
   "cell_type": "code",
   "execution_count": 1,
   "id": "54c017bf-3e5e-4090-bac8-8f11d8e6bf8c",
   "metadata": {},
   "outputs": [
    {
     "name": "stdout",
     "output_type": "stream",
     "text": [
      "Sample Mean: 167.98812604753738\n",
      "95% Confidence Interval: (164.51451746987308, 171.46173462520167)\n"
     ]
    }
   ],
   "source": [
    "import numpy as np\n",
    "import scipy.stats as stats\n",
    "\n",
    "data = np.random.normal(170, 10, 30)\n",
    "mean = np.mean(data)\n",
    "std_error = stats.sem(data)\n",
    "\n",
    "confidence_level = 0.95\n",
    "confidence_interval = stats.t.interval(confidence_level, len(data)-1, loc=mean, scale=std_error)\n",
    "\n",
    "print(f\"Sample Mean: {mean}\")\n",
    "print(f\"95% Confidence Interval: {confidence_interval}\")"
   ]
  },
  {
   "cell_type": "markdown",
   "id": "9fa7eb02-ac8d-4434-9b33-57ec10f3ca4c",
   "metadata": {},
   "source": [
    "Here, the stats.t.interval function computes the interval, taking into account the sample size (small, so we use the t-distribution)."
   ]
  },
  {
   "cell_type": "markdown",
   "id": "c50eee44-375f-406e-b0bc-466950361de1",
   "metadata": {},
   "source": [
    "### 2. Hypothesis Testing: One-Sample t-Test\n",
    "Suppose we want to test if our sample mean height significantly differs from a hypothesized population mean, say 170 cm.\n",
    "\n",
    "python\n",
    "Copy code\n"
   ]
  },
  {
   "cell_type": "code",
   "execution_count": null,
   "id": "97f22174-3a06-467f-94e6-14361cf5494d",
   "metadata": {},
   "outputs": [],
   "source": []
  }
 ],
 "metadata": {
  "kernelspec": {
   "display_name": "Python 3 (ipykernel)",
   "language": "python",
   "name": "python3"
  },
  "language_info": {
   "codemirror_mode": {
    "name": "ipython",
    "version": 3
   },
   "file_extension": ".py",
   "mimetype": "text/x-python",
   "name": "python",
   "nbconvert_exporter": "python",
   "pygments_lexer": "ipython3",
   "version": "3.11.5"
  }
 },
 "nbformat": 4,
 "nbformat_minor": 5
}
