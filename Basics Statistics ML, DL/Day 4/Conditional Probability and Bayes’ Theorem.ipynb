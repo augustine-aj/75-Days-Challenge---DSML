{
 "cells": [
  {
   "cell_type": "markdown",
   "id": "f0afb432-a7ac-4495-a3fc-84491b273129",
   "metadata": {},
   "source": [
    "# Conditional Probability and Bayes’ Theorem\n",
    "\n",
    "## Today’s Focus:\n",
    "- **Core Probability Concepts**: Joint, marginal, and conditional probabilities.\n",
    "- **Bayes’ Theorem**: Understanding and applying Bayes' theorem.\n",
    "- **Practical Applications**: Solving problems using conditional probability and Bayes’ theorem in Python."
   ]
  },
  {
   "cell_type": "markdown",
   "id": "d4b7debf-7b7b-42bd-bfdb-470cbb4abbab",
   "metadata": {},
   "source": [
    "---"
   ]
  },
  {
   "cell_type": "markdown",
   "id": "8c452338-a3ab-4690-a9b1-4698524887ae",
   "metadata": {},
   "source": [
    "## Theory Overview\n",
    "\n",
    "### Joint, Marginal, and Conditional Probability:\n",
    "- **Joint Probability**: The probability of two events occurring together. For example, the probability of picking a red card from a deck and it being a heart.\n",
    "- **Marginal Probability**: The probability of a single event occurring, irrespective of other events.\n",
    "- **Conditional Probability**: The probability of an event occurring given that another event has occurred.\n",
    "  \n",
    "$$\n",
    "P(A \\mid B) = \\frac{P(A \\text{ and } B)}{P(B)}\n",
    "$$\n",
    "\n",
    "### Bayes’ Theorem:\n",
    "Bayes’ theorem allows updating the probability of an event based on new information. It’s commonly used in machine learning for tasks such as classification.\n",
    "\n",
    "$$\n",
    "P(A \\mid B) = \\frac{P(B \\mid A) \\cdot P(A)}{P(B)}\n",
    "$$\n",
    "\n",
    "where:\n",
    "- \\( P(A \\mid B) \\) is the probability of event \\( A \\) given \\( B \\),\n",
    "- \\( P(B \\mid A) \\) is the probability of event \\( B \\) given \\( A \\),\n",
    "- \\( P(A) \\) and \\( P(B) \\) are the independent probabilities of \\( A \\) and \\( B \\), respectively.\n"
   ]
  },
  {
   "cell_type": "markdown",
   "id": "bd698233-940e-43bf-8307-4a93e572c4a0",
   "metadata": {},
   "source": [
    "---"
   ]
  },
  {
   "cell_type": "markdown",
   "id": "98322f23-83bd-4866-b918-c0e051923089",
   "metadata": {},
   "source": [
    "## Practical Exercise in Python\n",
    "### 1. Conditional Probability Example\n",
    "Let's calculate the conditional probability of drawing an ace from a deck, given that the card drawn is black."
   ]
  },
  {
   "cell_type": "code",
   "execution_count": 2,
   "id": "5eda9b21-c1c2-449f-9c97-a2efccb423c9",
   "metadata": {},
   "outputs": [
    {
     "name": "stdout",
     "output_type": "stream",
     "text": [
      "Probability of drawing an Ace given the card is black: 0.07692307692307693\n"
     ]
    }
   ],
   "source": [
    "# Define the probabilities\n",
    "P_black = 26 / 52  # Probability of drawing a black card\n",
    "P_ace_and_black = 2 / 52  # Probability of drawing a black ace (2 black aces out of 52 cards)\n",
    "\n",
    "# Calculate conditional probability\n",
    "P_ace_given_black = P_ace_and_black / P_black\n",
    "print(\"Probability of drawing an Ace given the card is black:\", P_ace_given_black)\n"
   ]
  },
  {
   "cell_type": "markdown",
   "id": "fbea305d-d72c-4417-9588-f116153b57c6",
   "metadata": {},
   "source": [
    "This calculation shows the probability of drawing an Ace, given that the card is black."
   ]
  },
  {
   "cell_type": "markdown",
   "id": "e39ab95f-1bbc-499d-9349-8e4d7e5b0e2c",
   "metadata": {},
   "source": [
    "### 2. Applying Bayes' Theorem\n",
    "\n",
    "Now, let's use Bayes' theorem in a medical testing context. Imagine:\n",
    "\n",
    "- The probability of having a disease is:\n",
    "\n",
    "  $$\n",
    "  P(\\text{Disease}) = 0.01\n",
    "  $$\n",
    "\n",
    "- The probability of a positive test result given the disease is:\n",
    "\n",
    "  $$\n",
    "  P(\\text{Positive} \\mid \\text{Disease}) = 0.99\n",
    "  $$\n",
    "\n",
    "- The probability of a positive test result given no disease is:\n",
    "\n",
    "  $$\n",
    "  P(\\text{Positive} \\mid \\text{No Disease}) = 0.05\n",
    "  $$\n",
    "\n",
    "We want to find the probability of having the disease given a positive test result:\n",
    "\n",
    "$$\n",
    "P(\\text{Disease} \\mid \\text{Positive})\n",
    "$$\n"
   ]
  },
  {
   "cell_type": "code",
   "execution_count": 3,
   "id": "94b00891-bc79-431b-a885-75da9c6b877d",
   "metadata": {},
   "outputs": [
    {
     "name": "stdout",
     "output_type": "stream",
     "text": [
      "Probability of having the disease given a positive test result: 0.16666666666666669\n"
     ]
    }
   ],
   "source": [
    "# Given probabilities\n",
    "P_disease = 0.01\n",
    "P_no_disease = 1 - P_disease\n",
    "P_positive_given_disease = 0.99\n",
    "P_positive_given_no_disease = 0.05\n",
    "\n",
    "# Calculate total probability of a positive test result (marginal probability)\n",
    "P_positive = (P_positive_given_disease * P_disease) + (P_positive_given_no_disease * P_no_disease)\n",
    "\n",
    "# Applying Bayes' theorem to find P(Disease|Positive)\n",
    "P_disease_given_positive = (P_positive_given_disease * P_disease) / P_positive\n",
    "print(\"Probability of having the disease given a positive test result:\", P_disease_given_positive)\n"
   ]
  },
  {
   "cell_type": "markdown",
   "id": "317e7ed7-337a-4cdc-b2d6-4286852aacd9",
   "metadata": {},
   "source": [
    "The result will indicate the likelihood of having the disease if the test result is positive, showing how Bayes' theorem allows us to update probabilities based on new information.\n"
   ]
  },
  {
   "cell_type": "code",
   "execution_count": null,
   "id": "57646cdf-f4c3-4c90-906d-d744efe68b13",
   "metadata": {},
   "outputs": [],
   "source": []
  },
  {
   "cell_type": "markdown",
   "id": "deb86b93-7995-4490-836d-d0fbdc7d157a",
   "metadata": {},
   "source": [
    "## Summary\n",
    "Today’s lesson covered:\n",
    "\n",
    "Conditional Probability: Calculated the probability of an event occurring given another event.\n",
    "Bayes’ Theorem: Used to update our beliefs based on new data, which is foundational for many machine learning algorithms, particularly in classification.\n",
    "By working through practical examples, you can now better understand how these concepts are applied in data analysis and machine learning tasks, where probabilities often need to be dynamically adjusted based on incoming data."
   ]
  },
  {
   "cell_type": "code",
   "execution_count": null,
   "id": "936fdd7e-7a5b-432e-b351-78a006fce5c4",
   "metadata": {},
   "outputs": [],
   "source": []
  }
 ],
 "metadata": {
  "kernelspec": {
   "display_name": "Python 3 (ipykernel)",
   "language": "python",
   "name": "python3"
  },
  "language_info": {
   "codemirror_mode": {
    "name": "ipython",
    "version": 3
   },
   "file_extension": ".py",
   "mimetype": "text/x-python",
   "name": "python",
   "nbconvert_exporter": "python",
   "pygments_lexer": "ipython3",
   "version": "3.11.5"
  }
 },
 "nbformat": 4,
 "nbformat_minor": 5
}
