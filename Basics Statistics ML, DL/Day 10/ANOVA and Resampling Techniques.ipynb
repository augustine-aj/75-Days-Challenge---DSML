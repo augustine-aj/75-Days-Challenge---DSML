{
 "cells": [
  {
   "cell_type": "markdown",
   "id": "271ef1ca-bbfa-4c5e-88b7-606191f81c0c",
   "metadata": {},
   "source": [
    "# ANOVA and Resampling Techniques\n",
    "\n",
    "---\n",
    "\n",
    "## Theory\n",
    "### 1. Analysis of Variance (ANOVA):\n",
    "- **Purpose:** ANOVA is used to compare the means of three or more groups to determine if at least one group mean is statistically different from the others.\n",
    "- **One-Way ANOVA:** Examines the impact of a single factor on the dependent variable.\n",
    "    - **Null Hypothesis (H₀):** All group means are equal.\n",
    "    - **Alternative Hypothesis (H₁):** At least one group mean is different.\n",
    "- **Key Metric:**\n",
    "    - **F-statistic:** Ratio of between-group variance to within-group variance. A higher F-statistic suggests a significant difference among groups.\n",
    "    - **p-value:** Determines if the observed differences are statistically significant (commonly, p < 0.05).\n",
    "### 2. Resampling Techniques\n",
    "These methods improve model evaluation and reliability without relying heavily on assumptions about data distributions.\n",
    "\n",
    "- **Bootstrapping:**\n",
    "\n",
    "    - Resamples the data with replacement to generate multiple datasets.\n",
    "    - Useful for estimating the confidence interval of a statistic (e.g., mean, median).\n",
    "- **Cross-Validation (CV):**\n",
    "\n",
    "    - Splits the dataset into training and validation subsets multiple times to assess model performance.\n",
    "    - **K-Fold Cross-Validation:** Divides data into K equally sized folds and trains the model K times, each time using one fold for validation and the remaining folds for training.\n",
    "\n",
    "---"
   ]
  },
  {
   "cell_type": "markdown",
   "id": "6d146ef5-6933-4931-ad65-dfe14cafcf44",
   "metadata": {},
   "source": [
    "## Practical\n",
    "### 1. Perform One-Way ANOVA in Python\n",
    "#### Sample Dataset"
   ]
  },
  {
   "cell_type": "code",
   "execution_count": 1,
   "id": "0552b0e4-0918-42d2-8cd1-0d6625a65e25",
   "metadata": {},
   "outputs": [
    {
     "name": "stdout",
     "output_type": "stream",
     "text": [
      "F-statistic: 5.4519906323185\n",
      "P-value: 0.020683384130136\n",
      "Reject the null hypothesis: At least one group mean is different.\n"
     ]
    }
   ],
   "source": [
    "import pandas as pd\n",
    "import numpy as np\n",
    "from scipy.stats import f_oneway\n",
    "\n",
    "# Sample data\n",
    "group_a = [22, 23, 19, 25, 30]\n",
    "group_b = [27, 29, 24, 32, 35]\n",
    "group_c = [20, 21, 19, 23, 26]\n",
    "\n",
    "f_stat, p_value = f_oneway(group_a, group_b, group_c)\n",
    "\n",
    "print(f\"F-statistic: {f_stat}\")\n",
    "print(f\"P-value: {p_value}\")\n",
    "\n",
    "if p_value < 0.05:\n",
    "    print(\"Reject the null hypothesis: At least one group mean is different.\")\n",
    "else:\n",
    "    print(\"Fail to reject the null hypothesis: Group means are not significantly different.\")"
   ]
  },
  {
   "cell_type": "markdown",
   "id": "4c1457dd-2377-429c-a757-577d69b0b0ed",
   "metadata": {},
   "source": [
    "### 2. Implement Cross-Validation in Python\n",
    "#### Example: K-Fold Cross-Validation with Scikit-Learn"
   ]
  },
  {
   "cell_type": "code",
   "execution_count": 2,
   "id": "cef43892-ac2c-4af3-949e-64786f1d2f9e",
   "metadata": {},
   "outputs": [
    {
     "name": "stdout",
     "output_type": "stream",
     "text": [
      "Cross-Validation R^2 Scores: [0.93741516 0.97012262 0.97072733 0.9325986  0.90936232]\n",
      "Mean R^2 Score: 0.944045206491732\n"
     ]
    }
   ],
   "source": [
    "from sklearn.model_selection import cross_val_score, KFold\n",
    "from sklearn.linear_model import LinearRegression\n",
    "from sklearn.datasets import make_regression\n",
    "\n",
    "X, y = make_regression(n_samples=100, n_features=1, noise=10, random_state=42)\n",
    "\n",
    "model = LinearRegression()\n",
    "\n",
    "kfold = KFold(n_splits=5, shuffle=True, random_state=42)\n",
    "scores = cross_val_score(model, X, y, cv=kfold, scoring='r2')\n",
    "\n",
    "print(\"Cross-Validation R^2 Scores:\", scores)\n",
    "print(\"Mean R^2 Score:\", np.mean(scores))"
   ]
  },
  {
   "cell_type": "markdown",
   "id": "37be7f04-6470-47bb-b914-504c8164a140",
   "metadata": {},
   "source": [
    "---"
   ]
  },
  {
   "cell_type": "markdown",
   "id": "dea4fcd6-db56-4e69-b3bd-8a4b1d6bad65",
   "metadata": {},
   "source": [
    "## Key Takeaways\n",
    "- **ANOVA** is essential for comparing means across multiple groups and identifying statistically significant differences.\n",
    "- **Bootstrapping** is a flexible resampling method to estimate confidence intervals without strong distributional assumptions.\n",
    "- **Cross-Validation** ensures robust model evaluation by testing on multiple data splits, reducing the risk of overfitting."
   ]
  },
  {
   "cell_type": "markdown",
   "id": "fba95f36-5abb-4be9-99c5-e4a0834a5af8",
   "metadata": {},
   "source": [
    "---"
   ]
  },
  {
   "cell_type": "markdown",
   "id": "93cbfeee-06ac-4fa0-9bf5-5e0b36bf7bea",
   "metadata": {},
   "source": [
    "## Conclusion\n",
    "Today’s focus on ANOVA and resampling techniques highlighted the importance of statistical testing and reliable model evaluation in data science. Here's a summary:\n",
    "\n",
    "- **ANOVA** enables us to compare the means of multiple groups to determine if any significant differences exist, a critical step in many hypothesis-testing scenarios.\n",
    "- **Resampling techniques** like bootstrapping and cross-validation are powerful tools to enhance the robustness of statistical estimates and model performance evaluation, ensuring reliability and minimizing bias.\n",
    "By performing ANOVA and applying cross-validation in Python, I strengthened my understanding of statistical testing and the critical role of resampling in modern data analysis and machine learning workflows.\n",
    "\n",
    "Looking forward to diving deeper into advanced statistical methods and machine learning techniques! 🚀"
   ]
  }
 ],
 "metadata": {
  "kernelspec": {
   "display_name": "Python 3 (ipykernel)",
   "language": "python",
   "name": "python3"
  },
  "language_info": {
   "codemirror_mode": {
    "name": "ipython",
    "version": 3
   },
   "file_extension": ".py",
   "mimetype": "text/x-python",
   "name": "python",
   "nbconvert_exporter": "python",
   "pygments_lexer": "ipython3",
   "version": "3.11.5"
  }
 },
 "nbformat": 4,
 "nbformat_minor": 5
}
