{
 "cells": [
  {
   "cell_type": "markdown",
   "id": "8cba9e51-82b9-414a-819b-0ab545743061",
   "metadata": {},
   "source": [
    "# Correlation, Covariance, and Simple Linear Regression\n",
    "\n",
    "This session explores the statistical relationships between variables and introduces simple linear regression, a foundational concept in machine learning and data science.\n",
    "\n",
    "---\n",
    "\n",
    "## 📘 Theory Explanation\n",
    "\n",
    "### 1. Correlation\n",
    "- **Definition**: Correlation measures the strength and direction of the linear relationship between two variables.\n",
    "- **Range**: \n",
    "  - \\( 1 \\): Perfect positive correlation (as one increases, the other increases proportionally).\n",
    "  - \\( -1 \\): Perfect negative correlation (as one increases, the other decreases proportionally).\n",
    "  - \\( 0 \\): No correlation.\n",
    "\n",
    "#### Formula for Correlation Coefficient (Pearson's \\( r \\)):\n",
    "$$\n",
    "r = \\frac{\\text{Cov}(X, Y)}{\\sigma_X \\cdot \\sigma_Y}\n",
    "$$\n",
    "\n",
    "Where:\r\n",
    "- \\( \\text{Cov}(X, Y) \\): Covariance between \\( X \\) and \\( Y \\).\r\n",
    "- \\( \\sigma_X \\) and \\( \\sigma_Y \\): Standard deviations of \\( X \\) and \\( Y \\.\r\n",
    "\n",
    "\n",
    "\n",
    "--\n",
    "\n",
    "### 2. Covariance\n",
    "- **Definition**: Measures how two variables change together.\n",
    "- **Interpretation**:\n",
    "  - **Positive**: Variables move in the same direction.\n",
    "  - **Negative**: Variables move in opposite directions.\n",
    "  - **Zero**: No relationship.\n",
    "\n",
    "#### Formula for Covariance:\n",
    "$$\n",
    "\\text{Cov}(X, Y) = \\frac{\\sum (X_i - \\bar{X})(Y_i - \\bar{Y})}{n - 1}\n",
    "$$\n",
    "\n",
    "---\n",
    "\n",
    "### 3. Simple Linear Regression\n",
    "- **Definition**: Models the linear relationship between a dependent variable (\\( y \\)) and an independent variable (\\( x \\)).\n",
    "- **Equation**:\n",
    "$$\n",
    "y = mx + b\n",
    "$$\n",
    "  - \\( m \\): Slope (rate of change of \\( y \\) with respect to \\( x \\)).\n",
    "  - \\( b \\): Intercept (value of \\( y \\) when \\( x = 0 \\)).\n",
    "\n",
    "- **Line of Best Fit**: Minimizes the sum of squared residuals (differences between actual and predicted \\( y \\)).\n",
    "\n",
    "---\n",
    "\n",
    "### 4. \\( R^2 \\) (R-squared)\n",
    "- **Definition**: Measures how well the regression line fits the data.\n",
    "- **Range**:\n",
    "  - \\( 1 \\): Perfect fit.\n",
    "  - \\( 0 \\): No explanatory power.\n",
    "\n",
    "#### Formula for \\( R^2 \\):\n",
    "$$\n",
    "R^2 = 1 - \\frac{\\text{SS}_{\\text{res}}}{\\text{SS}_{\\text{tot}}}\n",
    "$$\n",
    "Where:\n",
    "- \\( \\text{SS}_{\\text{res}} \\): Sum of squared residuals.\n",
    "- \\( \\text{SS}_{\\text{tot}} \\): Total sum of squares.\n"
   ]
  },
  {
   "cell_type": "markdown",
   "id": "498f596f-8d38-4ad9-90e7-ff6066440268",
   "metadata": {},
   "source": [
    "---"
   ]
  },
  {
   "cell_type": "markdown",
   "id": "00947bd3-6386-4e05-9554-79448ad0344b",
   "metadata": {},
   "source": [
    "## 💻 Practical Implementation\n",
    "### 1. Correlation and Covariance\n",
    "Calculate correlation coefficients and covariance between two variables using Python.\n",
    "\n",
    "### 2. Simple Linear Regression\n",
    "Use Python libraries to create a regression model, find the line of best fit, and evaluate \n",
    "\\( R^2 \\) "
   ]
  },
  {
   "cell_type": "code",
   "execution_count": 1,
   "id": "1a5eca0f-4a41-46ff-9981-67bfed24fe9a",
   "metadata": {},
   "outputs": [
    {
     "name": "stdout",
     "output_type": "stream",
     "text": [
      "Correlation: 0.7745966692414834\n",
      "Covariance: 1.5\n"
     ]
    },
    {
     "ename": "NameError",
     "evalue": "name 'p' is not defined",
     "output_type": "error",
     "traceback": [
      "\u001b[1;31m---------------------------------------------------------------------------\u001b[0m",
      "\u001b[1;31mNameError\u001b[0m                                 Traceback (most recent call last)",
      "Cell \u001b[1;32mIn[1], line 24\u001b[0m\n\u001b[0;32m     21\u001b[0m y_pred \u001b[38;5;241m=\u001b[39m model\u001b[38;5;241m.\u001b[39mpredict(X)\n\u001b[0;32m     23\u001b[0m r2 \u001b[38;5;241m=\u001b[39m r2_score(y, y_pred)\n\u001b[1;32m---> 24\u001b[0m \u001b[43mp\u001b[49m\n\u001b[0;32m     25\u001b[0m plt\u001b[38;5;241m.\u001b[39mscatter(df[\u001b[38;5;124m'\u001b[39m\u001b[38;5;124mX\u001b[39m\u001b[38;5;124m'\u001b[39m], df[\u001b[38;5;124m'\u001b[39m\u001b[38;5;124mY\u001b[39m\u001b[38;5;124m'\u001b[39m], color\u001b[38;5;241m=\u001b[39m\u001b[38;5;124m'\u001b[39m\u001b[38;5;124mblue\u001b[39m\u001b[38;5;124m'\u001b[39m, label\u001b[38;5;241m=\u001b[39m\u001b[38;5;124m'\u001b[39m\u001b[38;5;124mData Points\u001b[39m\u001b[38;5;124m'\u001b[39m)\n\u001b[0;32m     26\u001b[0m plt\u001b[38;5;241m.\u001b[39mplot(df[\u001b[38;5;124m'\u001b[39m\u001b[38;5;124mX\u001b[39m\u001b[38;5;124m'\u001b[39m], y_pred, color\u001b[38;5;241m=\u001b[39m\u001b[38;5;124m'\u001b[39m\u001b[38;5;124mred\u001b[39m\u001b[38;5;124m'\u001b[39m, label\u001b[38;5;241m=\u001b[39m\u001b[38;5;124m'\u001b[39m\u001b[38;5;124mRegression Line\u001b[39m\u001b[38;5;124m'\u001b[39m)\n",
      "\u001b[1;31mNameError\u001b[0m: name 'p' is not defined"
     ]
    }
   ],
   "source": [
    "import numpy as np\n",
    "import pandas as pd\n",
    "import matplotlib.pyplot as plt\n",
    "from sklearn.linear_model import LinearRegression\n",
    "from sklearn.metrics import r2_score\n",
    "\n",
    "data = {'X': [1, 2, 3, 4, 5], 'Y': [2, 4, 5, 4, 5]}\n",
    "df = pd.DataFrame(data)\n",
    "\n",
    "correlation = df['X'].corr(df['Y'])\n",
    "covariance = df['X'].cov(df['Y'])\n",
    "print(f\"Correlation: {correlation}\")\n",
    "print(f\"Covariance: {covariance}\")\n",
    "\n",
    "X = df['X'].values.reshape(-1, 1)\n",
    "y = df['Y'].values\n",
    "\n",
    "model = LinearRegression()\n",
    "model.fit(X, y)\n",
    "\n",
    "y_pred = model.predict(X)\n",
    "\n",
    "r2 = r2_score(y, y_pred)\n",
    "p\n",
    "plt.scatter(df['X'], df['Y'], color='blue', label='Data Points')\n",
    "plt.plot(df['X'], y_pred, color='red', label='Regression Line')\n",
    "plt.xlabel('X')\n",
    "plt.ylabel('Y')\n",
    "plt.title('Simple Linear Regression')\n",
    "plt.legend()\n",
    "plt.show()"
   ]
  },
  {
   "cell_type": "code",
   "execution_count": null,
   "id": "3e783a18-f974-49f9-ac20-79276b7a4d04",
   "metadata": {},
   "outputs": [],
   "source": []
  }
 ],
 "metadata": {
  "kernelspec": {
   "display_name": "Python 3 (ipykernel)",
   "language": "python",
   "name": "python3"
  },
  "language_info": {
   "codemirror_mode": {
    "name": "ipython",
    "version": 3
   },
   "file_extension": ".py",
   "mimetype": "text/x-python",
   "name": "python",
   "nbconvert_exporter": "python",
   "pygments_lexer": "ipython3",
   "version": "3.11.5"
  }
 },
 "nbformat": 4,
 "nbformat_minor": 5
}
