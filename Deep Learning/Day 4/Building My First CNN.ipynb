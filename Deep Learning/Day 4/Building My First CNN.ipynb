{
 "cells": [
  {
   "cell_type": "markdown",
   "id": "7c3a792a-4486-418c-a285-6a3a4fd1b02b",
   "metadata": {},
   "source": [
    "# **Building Your First CNN: A Hands-On Guide** 🖼️🤖\n",
    "\n",
    "Today, you'll learn to design and train a Convolutional Neural Network (CNN) for image classification using a dataset like CIFAR-10. Let's break down the process.\n",
    "\n",
    "---\n",
    "\n",
    "## **1️⃣ Designing a Basic CNN**\n",
    "\n",
    "A CNN processes image data by extracting features and classifying them. Here's how a typical CNN is structured:\n",
    "\n",
    "---\n",
    "\n",
    "### **Structure of a Basic CNN**\n",
    "\n",
    "#### **Input Layer**\n",
    "- **Purpose**: Accepts raw image data.\n",
    "- Example: CIFAR-10 images are \\(32 \\times 32\\) pixels with 3 RGB color channels.\n",
    "\n",
    "---\n",
    "\n",
    "#### **Convolutional Layers**\n",
    "- **Purpose**: Extract features such as edges, corners, and textures.\n",
    "- **How**: Perform convolution using small kernels (e.g., \\(3 \\times 3\\)) to scan the image and produce feature maps.\n",
    "- **Tip**: Use multiple filters to capture diverse features.\n",
    "\n",
    "---\n",
    "\n",
    "#### **Activation Function**\n",
    "- **Purpose**: Introduces non-linearity.\n",
    "- **Common Choice**: ReLU (Rectified Linear Unit) replaces negative values with zero, enabling the model to learn complex patterns.\n",
    "\n",
    "---\n",
    "\n",
    "#### **Pooling Layers**\n",
    "- **Purpose**: Downsample feature maps, reducing spatial dimensions while retaining essential features.\n",
    "- **Common Method**: Max pooling selects the maximum value in a \\(2 \\times 2\\) region.\n",
    "\n",
    "---\n",
    "\n",
    "#### **Flattening Layer**\n",
    "- **Purpose**: Converts the 2D feature maps into a 1D vector.\n",
    "- **Why**: This prepares the data for fully connected layers.\n",
    "\n",
    "---\n",
    "\n",
    "#### **Dense Layers**\n",
    "- **Purpose**: Fully connected layers that process the extracted features to make predictions.\n",
    "- **Structure**: Add one or more dense layers to learn non-linear combinations of features.\n",
    "\n",
    "---\n",
    "\n",
    "#### **Output Layer**\n",
    "- **Purpose**: Produces the final classification output.\n",
    "- **Activation**: Use **softmax** for multi-class classification (e.g., 10 categories in CIFAR-10).\n",
    "\n",
    "---"
   ]
  },
  {
   "cell_type": "markdown",
   "id": "ceee8cf9-7d52-4da8-997c-ebc319cc07f2",
   "metadata": {},
   "source": [
    "### **Example Architecture**"
   ]
  },
  {
   "cell_type": "code",
   "execution_count": 2,
   "id": "c7c3e2eb-bd69-4831-9b5a-0fac05c3a630",
   "metadata": {},
   "outputs": [],
   "source": [
    "from tensorflow.keras.models import Sequential\n",
    "from tensorflow.keras.layers import Conv2D, MaxPooling2D, Flatten, Dense"
   ]
  },
  {
   "cell_type": "code",
   "execution_count": 3,
   "id": "633e814c-fc73-41ef-af3a-9e5a7a356cc6",
   "metadata": {},
   "outputs": [
    {
     "name": "stderr",
     "output_type": "stream",
     "text": [
      "C:\\Users\\augus\\anaconda new\\Lib\\site-packages\\keras\\src\\layers\\convolutional\\base_conv.py:107: UserWarning: Do not pass an `input_shape`/`input_dim` argument to a layer. When using Sequential models, prefer using an `Input(shape)` object as the first layer in the model instead.\n",
      "  super().__init__(activity_regularizer=activity_regularizer, **kwargs)\n"
     ]
    }
   ],
   "source": [
    "model = Sequential([\n",
    "    Conv2D(32, (3, 3), activation='relu', input_shape=(32, 32, 3)),\n",
    "    MaxPooling2D(pool_size=(2, 2)),\n",
    "    Conv2D(64, (3, 3), activation='relu'),\n",
    "    MaxPooling2D(pool_size=(2, 2)),\n",
    "    Flatten(),\n",
    "    Dense(128, activation='relu'),\n",
    "    Dense(10, activation='softmax')\n",
    "])"
   ]
  },
  {
   "cell_type": "markdown",
   "id": "58040d7a-8657-4352-8165-572f379d8835",
   "metadata": {},
   "source": [
    "## **2️⃣ Training the CNN**\n",
    "### Dataset:\n",
    "\n",
    "- CIFAR-10: Contains 60,000 32x32 color images in 10 categories (e.g., airplanes, cars, birds).\n",
    "- Data Preprocessing:\n",
    "    - Normalize the pixel values to a range of 0 to 1 for faster convergence.\n",
    "    - Perform data augmentation (e.g., rotations, flips) to enhance model generalization.\n",
    "### Training Steps:\n",
    "\n",
    "**1. Compile the Model:**\n",
    "\n",
    "    - Specify the optimizer (e.g., Adam), loss function (e.g., categorical crossentropy), and evaluation metric (e.g., accuracy)."
   ]
  },
  {
   "cell_type": "code",
   "execution_count": 4,
   "id": "63aefeaa-88c1-4716-8262-45ffbfbefddb",
   "metadata": {},
   "outputs": [],
   "source": [
    "model.compile(optimizer='adam', loss='categorical_crossentropy', metrics=['accuracy'])"
   ]
  },
  {
   "cell_type": "markdown",
   "id": "35747c73-225c-48e5-b2f9-4c78b675805f",
   "metadata": {},
   "source": [
    "**2. fit the Model:**\n",
    "\n",
    "Train the model on the CIFAR-10 dataset for a few epochs."
   ]
  },
  {
   "cell_type": "code",
   "execution_count": null,
   "id": "6d6ff089-ee88-43c2-a6fe-68a66db718f3",
   "metadata": {},
   "outputs": [],
   "source": [
    "history = model.fit(X_train, y_train, validation_data=(X_test, y_test), epochs=10, batch_size=32)"
   ]
  },
  {
   "cell_type": "markdown",
   "id": "cd305514-2abb-4bd2-86ed-de84c6ce6da7",
   "metadata": {},
   "source": [
    "**3. Evaluate the Model:**\n",
    "\n",
    "Assess the model’s accuracy on the test set to determine its performance."
   ]
  },
  {
   "cell_type": "markdown",
   "id": "39770ffd-338a-46a9-8694-be7132b6b4c2",
   "metadata": {},
   "source": [
    "--- "
   ]
  },
  {
   "cell_type": "markdown",
   "id": "c44b51a8-addd-4a0d-8f43-9b521fcd9317",
   "metadata": {},
   "source": [
    "## 3️⃣ Why Use CIFAR-10?\n",
    "- **Real-World Application:** Contains images from different categories, representing real-world data.\n",
    "- **Compact Size:** Easy to work with and train quickly on standard hardware.\n",
    "- **Benchmarks:** Provides a standard dataset to compare model performance against other approaches.\n",
    "\n",
    "---\n",
    "\n",
    "## 4️⃣ Key Takeaways from This Day:\n",
    "- You learn to design, compile, and train a CNN for image classification.\n",
    "- CIFAR-10 introduces you to the challenges of real-world datasets like variability and class imbalance.\n",
    "- Training a basic CNN lays the groundwork for more complex architectures and applications.\n",
    " \n",
    "By the end of this task, you’ll have your first functional CNN model capable of classifying images into distinct categories! 🚀"
   ]
  },
  {
   "cell_type": "code",
   "execution_count": null,
   "id": "61b1e64b-6c8b-4fa4-a866-9cb592cbce25",
   "metadata": {},
   "outputs": [],
   "source": []
  }
 ],
 "metadata": {
  "kernelspec": {
   "display_name": "Python 3 (ipykernel)",
   "language": "python",
   "name": "python3"
  },
  "language_info": {
   "codemirror_mode": {
    "name": "ipython",
    "version": 3
   },
   "file_extension": ".py",
   "mimetype": "text/x-python",
   "name": "python",
   "nbconvert_exporter": "python",
   "pygments_lexer": "ipython3",
   "version": "3.11.5"
  }
 },
 "nbformat": 4,
 "nbformat_minor": 5
}
