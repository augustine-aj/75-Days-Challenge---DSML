{
 "cells": [
  {
   "cell_type": "markdown",
   "id": "0d3f5918-cb68-45c9-8b67-be4412705ce8",
   "metadata": {},
   "source": [
    "# TensorFlow and Keras Basics\n",
    "\n",
    "On Day 2, you focus on setting up your environment and gaining hands-on experience with TensorFlow and Keras, two powerful libraries for deep learning. \n",
    "\n",
    "Here's a breakdown of the activities:"
   ]
  },
  {
   "cell_type": "markdown",
   "id": "cdcea1dd-a9f0-4a6d-b8c8-686a23c6f649",
   "metadata": {},
   "source": [
    "---"
   ]
  },
  {
   "cell_type": "markdown",
   "id": "3831cc43-f659-4e4e-b876-fb76ad402ec6",
   "metadata": {},
   "source": [
    "## 1. Install TensorFlow and Keras\n",
    "***Why?***\n",
    "\n",
    "TensorFlow and Keras are essential tools for building and training deep learning models.\n",
    "\n",
    "- TensorFlow is an open-source platform for numerical computation and large-scale machine learning.\n",
    "- Keras, a high-level API within TensorFlow, simplifies model building and training.\n",
    "#### Steps:\n",
    "\n",
    "- Install the libraries using `pip`"
   ]
  },
  {
   "cell_type": "code",
   "execution_count": null,
   "id": "4e272548-5b76-4758-a423-af53da9de51b",
   "metadata": {},
   "outputs": [],
   "source": [
    "pip install tensorflow"
   ]
  },
  {
   "cell_type": "markdown",
   "id": "06be7cbb-d906-49dd-88cd-0c1b487438f4",
   "metadata": {},
   "source": [
    "- Verify the installation:"
   ]
  },
  {
   "cell_type": "code",
   "execution_count": 3,
   "id": "fa92896e-8beb-41d1-b3e2-4d44443399da",
   "metadata": {},
   "outputs": [
    {
     "name": "stdout",
     "output_type": "stream",
     "text": [
      "2.17.0\n"
     ]
    }
   ],
   "source": [
    "import tensorflow as tf\n",
    "print(tf.__version__)"
   ]
  },
  {
   "cell_type": "markdown",
   "id": "3fdf1ec2-04d3-48fb-92b6-472dac39862c",
   "metadata": {},
   "source": [
    "---"
   ]
  },
  {
   "cell_type": "markdown",
   "id": "4c392467-d6fc-41d4-b1ad-b457be2c6a0a",
   "metadata": {},
   "source": [
    "## 2. Understand the Basics of TensorFlow and Keras\n",
    "#### Objective:\n",
    "\n",
    "- Learn how to create a computational graph with TensorFlow.\n",
    "- Use Keras to quickly define and train models.\n",
    "#### Concepts Covered:\n",
    "\n",
    "- ***TensorFlow Basics:*** Understanding tensors, sessions, and operations.\n",
    "- ***Keras Basics:***\n",
    "    - Sequential model structure.\n",
    "    - Defining layers like `Dense`.\n",
    "    - Compiling models with loss functions and optimizers.\n",
    "    - Training models using `.fit()`."
   ]
  },
  {
   "cell_type": "markdown",
   "id": "71d493a9-d1ac-41d2-82be-607718cc573b",
   "metadata": {},
   "source": [
    "## 3. Practical Task: Implementing an ANN for MNIST Classification\n",
    "#### Dataset: MNIST\n",
    "The MNIST dataset contains images of handwritten digits (0-9). Each image is grayscale and has a size of 28x28 pixels.\n",
    "\n",
    "##### Steps to Implement the Model:\n",
    "- ***1. Load the Data:***\n",
    "Use TensorFlow to load the MNIST dataset."
   ]
  },
  {
   "cell_type": "code",
   "execution_count": 5,
   "id": "6089ccc3-39c3-42c1-a629-a5ed467976d1",
   "metadata": {},
   "outputs": [],
   "source": [
    "from tensorflow.keras.datasets import mnist\n",
    "(X_train, y_train), (X_test, y_test) = mnist.load_data()"
   ]
  },
  {
   "cell_type": "markdown",
   "id": "1a6e2a1d-1227-47f6-886f-a20146a9d488",
   "metadata": {},
   "source": [
    "- ***2. Preprocess the Data:***\n",
    "\n",
    "- Normalize pixel values to the range [0, 1].\n",
    "- Flatten 28x28 images into vectors of size 784 for input to the ANN."
   ]
  },
  {
   "cell_type": "code",
   "execution_count": 7,
   "id": "f8813b3e-bdcd-40be-8919-40d7e3973393",
   "metadata": {},
   "outputs": [],
   "source": [
    "X_train = X_train.reshape(-1, 784) / 255.0\n",
    "X_test = X_test.reshape(-1, 784) / 255.0"
   ]
  },
  {
   "cell_type": "markdown",
   "id": "daff8705-b35b-41aa-9d0c-dd62be94afc9",
   "metadata": {},
   "source": [
    "- ***3. Build the Model:***\n",
    "Use the Sequential API in Keras to create a simple ANN with an input layer, one or more hidden layers, and an output layer."
   ]
  },
  {
   "cell_type": "code",
   "execution_count": 9,
   "id": "ed31b4a3-7c46-4234-9540-f99ed5ec2e00",
   "metadata": {},
   "outputs": [
    {
     "name": "stderr",
     "output_type": "stream",
     "text": [
      "C:\\Users\\augus\\anaconda new\\Lib\\site-packages\\keras\\src\\layers\\core\\dense.py:87: UserWarning: Do not pass an `input_shape`/`input_dim` argument to a layer. When using Sequential models, prefer using an `Input(shape)` object as the first layer in the model instead.\n",
      "  super().__init__(activity_regularizer=activity_regularizer, **kwargs)\n"
     ]
    }
   ],
   "source": [
    "from tensorflow.keras.models import Sequential\n",
    "from tensorflow.keras.layers import Dense\n",
    "\n",
    "model = Sequential([\n",
    "    Dense(128, activation='relu', input_shape=(784,)),\n",
    "    Dense(64, activation='relu'),\n",
    "    Dense(10, activation='softmax')  # 10 classes for digits 0-9\n",
    "])"
   ]
  },
  {
   "cell_type": "markdown",
   "id": "4d509073-b6b8-414d-9426-f73f1e1611c1",
   "metadata": {},
   "source": [
    "- ***4. Compile the Model:***\n",
    "Specify the loss function, optimizer, and metrics."
   ]
  },
  {
   "cell_type": "code",
   "execution_count": 11,
   "id": "8e09e14c-49bd-45fb-82bf-f756f0ae35e1",
   "metadata": {},
   "outputs": [],
   "source": [
    "model.compile(optimizer='adam',\n",
    "              loss='sparse_categorical_crossentropy',\n",
    "              metrics=['accuracy'])"
   ]
  },
  {
   "cell_type": "markdown",
   "id": "a176da95-dfe4-4dee-8f16-5ce526c13945",
   "metadata": {},
   "source": [
    "- ***5. Train the Model:***\n",
    "Train the model on the training data and validate it on the test data."
   ]
  },
  {
   "cell_type": "code",
   "execution_count": null,
   "id": "01a28106-bd4a-4eb5-8ac8-de0e071a0406",
   "metadata": {},
   "outputs": [
    {
     "name": "stdout",
     "output_type": "stream",
     "text": [
      "Epoch 1/10\n",
      "\u001b[1m1875/1875\u001b[0m \u001b[32m━━━━━━━━━━━━━━━━━━━━\u001b[0m\u001b[37m\u001b[0m \u001b[1m6s\u001b[0m 3ms/step - accuracy: 0.8793 - loss: 0.4184 - val_accuracy: 0.9590 - val_loss: 0.1326\n",
      "Epoch 2/10\n",
      "\u001b[1m1875/1875\u001b[0m \u001b[32m━━━━━━━━━━━━━━━━━━━━\u001b[0m\u001b[37m\u001b[0m \u001b[1m4s\u001b[0m 2ms/step - accuracy: 0.9657 - loss: 0.1131 - val_accuracy: 0.9730 - val_loss: 0.0911\n",
      "Epoch 3/10\n",
      "\u001b[1m1875/1875\u001b[0m \u001b[32m━━━━━━━━━━━━━━━━━━━━\u001b[0m\u001b[37m\u001b[0m \u001b[1m5s\u001b[0m 3ms/step - accuracy: 0.9787 - loss: 0.0681 - val_accuracy: 0.9720 - val_loss: 0.0897\n",
      "Epoch 4/10\n",
      "\u001b[1m1875/1875\u001b[0m \u001b[32m━━━━━━━━━━━━━━━━━━━━\u001b[0m\u001b[37m\u001b[0m \u001b[1m5s\u001b[0m 3ms/step - accuracy: 0.9833 - loss: 0.0508 - val_accuracy: 0.9779 - val_loss: 0.0679\n",
      "Epoch 5/10\n",
      "\u001b[1m 621/1875\u001b[0m \u001b[32m━━━━━━\u001b[0m\u001b[37m━━━━━━━━━━━━━━\u001b[0m \u001b[1m2s\u001b[0m 2ms/step - accuracy: 0.9900 - loss: 0.0315"
     ]
    }
   ],
   "source": [
    "model.fit(X_train, y_train, epochs=10, validation_data=(X_test, y_test))"
   ]
  },
  {
   "cell_type": "code",
   "execution_count": null,
   "id": "092956d4-ae96-4eb4-bdcc-e4586a6937c0",
   "metadata": {},
   "outputs": [],
   "source": [
    "6. Evaluate the Model:\n",
    "Measure its accuracy on unseen test data."
   ]
  }
 ],
 "metadata": {
  "kernelspec": {
   "display_name": "Python 3 (ipykernel)",
   "language": "python",
   "name": "python3"
  },
  "language_info": {
   "codemirror_mode": {
    "name": "ipython",
    "version": 3
   },
   "file_extension": ".py",
   "mimetype": "text/x-python",
   "name": "python",
   "nbconvert_exporter": "python",
   "pygments_lexer": "ipython3",
   "version": "3.11.5"
  }
 },
 "nbformat": 4,
 "nbformat_minor": 5
}
