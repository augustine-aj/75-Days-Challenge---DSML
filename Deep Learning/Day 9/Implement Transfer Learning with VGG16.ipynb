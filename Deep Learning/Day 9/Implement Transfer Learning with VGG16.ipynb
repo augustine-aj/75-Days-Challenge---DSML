{
 "cells": [
  {
   "cell_type": "markdown",
   "id": "081ca560-3429-4851-a23b-38e3d0dc4eb7",
   "metadata": {},
   "source": [
    "# Implement Transfer Learning with VGG16\n",
    "Transfer Learning allows us to take advantage of models trained on vast datasets (like ImageNet) and adapt them to specific tasks. Today, we focus on loading the pre-trained VGG16 model and fine-tuning it for a new classification task, such as identifying cats and dogs.\n",
    "\n",
    "---\n",
    "\n",
    "## Key Steps Explained:\n",
    "### 1. Load Pre-Trained VGG16:\n",
    "\n",
    "- VGG16 is a powerful convolutional neural network (CNN) with 16 layers.\n",
    "- It's trained on ImageNet, a dataset containing over 1 million images.\n",
    "- Using Keras, you can easily load VGG16 without its top (output) layer to adapt it for new tasks."
   ]
  },
  {
   "cell_type": "code",
   "execution_count": null,
   "id": "f8b32fdd-fdc0-4fe4-957e-0ff80ac8e6cd",
   "metadata": {},
   "outputs": [],
   "source": [
    "from tensorflow.keras.applications import VGG16\n",
    "\n",
    "base_model = VGG16(weights='imagenet', include_top=False, input_shape=(224, 224, 3))"
   ]
  },
  {
   "cell_type": "markdown",
   "id": "63243e41-db18-4e48-b13d-77937fdacb13",
   "metadata": {},
   "source": [
    "---"
   ]
  },
  {
   "cell_type": "markdown",
   "id": "c1fa46c2-557c-45d8-bc10-90a84b76fe39",
   "metadata": {},
   "source": [
    "### 2. Dataset:\n",
    "- The `Cats vs. Dogs` dataset is a popular image classification challenge from Kaggle.\n",
    "- It contains labeled images of cats and dogs, requiring the model to predict the correct class."
   ]
  },
  {
   "cell_type": "markdown",
   "id": "47c307a7-eef6-42a9-812d-170cb7ada9d8",
   "metadata": {},
   "source": [
    "---"
   ]
  },
  {
   "cell_type": "markdown",
   "id": "8c8d4f92-fb46-4dd4-9ad6-7fa672822cee",
   "metadata": {},
   "source": [
    "### 3. Fine-Tuning:\n",
    "\n",
    "- **Freeze Some Layers:** Prevent initial layers (low-level features like edges/textures) from being updated.\n",
    "- **Add Custom Dense Layers:** Replace the top layers with your own fully connected layers to match the new classes (cats and dogs)."
   ]
  },
  {
   "cell_type": "code",
   "execution_count": null,
   "id": "47caa24f-b9bf-4947-a0be-3988fa6f71d7",
   "metadata": {},
   "outputs": [],
   "source": [
    "from tensorflow.keras.models import Model\n",
    "from tensorflow.keras.layers import Flatten, Dense\n",
    "\n",
    "base_model.trainable = False\n",
    "\n",
    "x = Flatten()(base_model.output)\n",
    "x = Dense(256, activation='relu')(x)\n",
    "x = Dense(1, activation='sigmoid')(x)\n",
    "model = Model(inputs=base_model.input, outputs=x)"
   ]
  },
  {
   "cell_type": "markdown",
   "id": "5f528b3a-0fc6-419b-b462-5e2093e64372",
   "metadata": {},
   "source": [
    "---"
   ]
  },
  {
   "cell_type": "markdown",
   "id": "f8cbd639-5d69-4919-9d0b-9a369831e740",
   "metadata": {},
   "source": [
    "### 4.Compile the Model:\n",
    "\n",
    "- Use binary cross-entropy loss, as this is a binary classification task.\n",
    "- Use Adam or RMSprop optimizer with a learning rate suitable for fine-tuning."
   ]
  },
  {
   "cell_type": "code",
   "execution_count": null,
   "id": "d3eab4f5-6ca5-41e4-aff9-bbb82a847dec",
   "metadata": {},
   "outputs": [],
   "source": [
    "model.compile(optimizer='adam', loss='binary_crossentropy', metrics=['accuracy'])"
   ]
  },
  {
   "cell_type": "markdown",
   "id": "dc5f3726-0d1c-4118-9fe7-56db07c323ef",
   "metadata": {},
   "source": [
    "### 5. Train the Model:\n",
    "\n",
    "- Use data augmentation (flip, rotate, zoom) to improve generalization.\n",
    "- Train the model on the dataset using batches of images."
   ]
  },
  {
   "cell_type": "code",
   "execution_count": null,
   "id": "02122339-784f-4082-ae96-1d7998465993",
   "metadata": {},
   "outputs": [],
   "source": [
    "from tensorflow.keras.preprocessing.image import ImageDataGenerator\n",
    "\n",
    "datagen = ImageDataGenerator(\n",
    "    rescale=1./255,\n",
    "    rotation_range=30,\n",
    "    width_shift_range=0.2,\n",
    "    height_shift_range=0.2,\n",
    "    horizontal_flip=True,\n",
    "    validation_split=0.2\n",
    ")\n",
    "\n",
    "train_generator = datagen.flow_from_directory(\n",
    "    'path_to_dataset',\n",
    "    target_size=(224, 224),\n",
    "    batch_size=32,\n",
    "    class_mode='binary',\n",
    "    subset='training'\n",
    ")\n",
    "\n",
    "validation_generator = datagen.flow_from_directory(\n",
    "    'path_to_dataset',\n",
    "    target_size=(224, 224),\n",
    "    batch_size=32,\n",
    "    class_mode='binary',\n",
    "    subset='validation'\n",
    ")\n",
    "\n",
    "# Train\n",
    "model.fit(\n",
    "    train_generator,\n",
    "    validation_data=validation_generator,\n",
    "    epochs=10\n",
    ")"
   ]
  },
  {
   "cell_type": "markdown",
   "id": "a7fa2e52-887f-4166-be34-df4a3d4a5513",
   "metadata": {},
   "source": [
    "---"
   ]
  },
  {
   "cell_type": "markdown",
   "id": "6fcfa548-cb25-4ca1-bf27-6f89a665fcdb",
   "metadata": {},
   "source": [
    "## 6. Evaluate Performance:\n",
    "\n",
    "- Evaluate the fine-tuned model on a validation/test set.\n",
    "- Metrics like accuracy and loss help measure the model’s performance."
   ]
  },
  {
   "cell_type": "code",
   "execution_count": null,
   "id": "7ec05290-8340-47cc-a918-805361485b98",
   "metadata": {},
   "outputs": [],
   "source": [
    "loss, accuracy = model.evaluate(validation_generator)\n",
    "print(f'Validation Accuracy: {accuracy:.2f}')"
   ]
  },
  {
   "cell_type": "markdown",
   "id": "46f5ca25-9973-44ec-a15c-a9bf5985eee0",
   "metadata": {},
   "source": [
    "---"
   ]
  },
  {
   "cell_type": "code",
   "execution_count": null,
   "id": "fcc3a316-ce48-40c1-bf9d-1a64be2b20a6",
   "metadata": {},
   "outputs": [],
   "source": [
    "##Summary of Benefits:\n",
    "- **Saves time:** Using VGG16 reduces training effort while maintaining accuracy.\n",
    "-Improves performance with pre-learned features.\n",
    "Easy to adapt for datasets like Cats vs. Dogs, making it an industry favorite for prototyping.\n",
    "You’ve now implemented Transfer Learning with VGG16—an efficient and effective deep learning approach!"
   ]
  }
 ],
 "metadata": {
  "kernelspec": {
   "display_name": "Python 3 (ipykernel)",
   "language": "python",
   "name": "python3"
  },
  "language_info": {
   "codemirror_mode": {
    "name": "ipython",
    "version": 3
   },
   "file_extension": ".py",
   "mimetype": "text/x-python",
   "name": "python",
   "nbconvert_exporter": "python",
   "pygments_lexer": "ipython3",
   "version": "3.11.5"
  }
 },
 "nbformat": 4,
 "nbformat_minor": 5
}
