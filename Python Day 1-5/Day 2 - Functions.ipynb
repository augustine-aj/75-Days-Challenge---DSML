{
 "cells": [
  {
   "cell_type": "markdown",
   "id": "7e7cbcf7-947b-410f-affb-bd82e1ae0e40",
   "metadata": {},
   "source": [
    "# Day 2: Functions and Lambda Expressions\n",
    "\n",
    "## Objectives:\n",
    "- Understand different types of functions in Python.\n",
    "- Explore function arguments and return values.\n",
    "- Learn how to write concise lambda functions.\n",
    "\n",
    "---\n",
    "\n",
    "## Topics to Cover:\n",
    "\n",
    "### 1. Function Types\n",
    "#### Built-in Functions:\n",
    "Python comes with a wide variety of built-in functions such as `print()`, `len()`, `type()`, and more."
   ]
  },
  {
   "cell_type": "code",
   "execution_count": 11,
   "id": "34e2ecb5-a42f-4022-af6b-b672ecba4256",
   "metadata": {},
   "outputs": [
    {
     "name": "stdout",
     "output_type": "stream",
     "text": [
      "11\n"
     ]
    }
   ],
   "source": [
    "print(len(\"Hello World\"))"
   ]
  },
  {
   "cell_type": "markdown",
   "id": "7090ce1e-b876-42c6-a757-0231bf1aa0df",
   "metadata": {},
   "source": [
    "#### 2. User-defined Functions\n",
    "\n",
    "User-defined functions are created using the `def` keyword to encapsulate reusable logic. These functions allow you to write code that can be reused multiple times without repetition.\n",
    "\n",
    "#### Key Points:\n",
    "- `def`: This keyword is used to define a new function.\n",
    "- `function_nam`: The name of the function, which should be descriptive of its task.\n",
    "- `parameters`: Inputs to the function. These are optional and can be none or many.\n",
    "- `Docstring`: A string that describes what the function does (optional but recommended).\n",
    "- `return`: The value returned by the function (optional).\n",
    "\n",
    "#### Syntax:\n",
    "```python\n",
    "def function_name(parameters):\n",
    "    \"\"\"Docstring explaining the function\"\"\"\n",
    "    # Code block\n",
    "    return value  # Optional"
   ]
  },
  {
   "cell_type": "markdown",
   "id": "37155c36-4444-4d29-b2e0-2d1661012196",
   "metadata": {},
   "source": [
    "#### Example:"
   ]
  },
  {
   "cell_type": "code",
   "execution_count": 12,
   "id": "eaa018b3-b06b-4d9c-b523-6f766d84e7b9",
   "metadata": {},
   "outputs": [
    {
     "name": "stdout",
     "output_type": "stream",
     "text": [
      "Hello, Alice!\n"
     ]
    }
   ],
   "source": [
    "def greet_user(name):\n",
    "    \"\"\"Function to greet the user\"\"\"\n",
    "    print(f\"Hello, {name}!\")\n",
    "\n",
    "greet_user(\"Alice\")    # Calling the function"
   ]
  },
  {
   "cell_type": "code",
   "execution_count": null,
   "id": "23926a55-2eba-4001-ae44-b8775001b00b",
   "metadata": {},
   "outputs": [],
   "source": []
  },
  {
   "cell_type": "markdown",
   "id": "d1807ead-0785-451c-8b36-e841a7801db5",
   "metadata": {},
   "source": [
    "### 2. Function Arguments\n",
    "\n",
    "#### Positional Arguments:\n",
    "Positional arguments are arguments that are passed to a function in the order in which they are defined. The position of each argument matters, and the function uses them in the order they are passed.\n",
    "\n",
    "#### Example:\n",
    "In this example, the values `\"Alice\"` and 30 are passed as positional arguments, where `\"Alice\"` corresponds to the name parameter and 30 to the age parameter."
   ]
  },
  {
   "cell_type": "code",
   "execution_count": 13,
   "id": "bc73fad7-2ecc-4387-86bc-dc0c421aff72",
   "metadata": {},
   "outputs": [
    {
     "name": "stdout",
     "output_type": "stream",
     "text": [
      "Name: Alice, Age: 30\n"
     ]
    }
   ],
   "source": [
    "def display_info(name, age):\n",
    "    \"\"\"Function to display name and age\"\"\"\n",
    "    print(f\"Name: {name}, Age: {age}\")\n",
    "\n",
    "display_info(\"Alice\", 30)    # Calling the function with positional arguments"
   ]
  },
  {
   "cell_type": "markdown",
   "id": "a613c754-f2c2-4bd5-844c-434145def5e2",
   "metadata": {},
   "source": [
    "#### Keyword Arguments:\n",
    "Keyword arguments are arguments passed to a function using the parameter names. This allows you to specify which value should be assigned to which parameter, regardless of their position in the function call.\n",
    "\n",
    "#### Example:\n",
    "\n",
    "In this example, the arguments are passed using the parameter names `(name and age)`, allowing them to be supplied in any order."
   ]
  },
  {
   "cell_type": "code",
   "execution_count": 14,
   "id": "faa18308-f3a0-4f87-b52b-5af913e67863",
   "metadata": {},
   "outputs": [
    {
     "name": "stdout",
     "output_type": "stream",
     "text": [
      "Name: Alice, Age: 30\n"
     ]
    }
   ],
   "source": [
    "def display_info(name, age):\n",
    "    \"\"\"Function to display name and age\"\"\"\n",
    "    print(f\"Name: {name}, Age: {age}\")\n",
    "\n",
    "display_info(age=30, name=\"Alice\")    # Calling the function with keyword arguments"
   ]
  },
  {
   "cell_type": "markdown",
   "id": "30fb2cda-874c-4d0e-bf53-e5227bfc3b24",
   "metadata": {},
   "source": [
    "#### Default Arguments:\n",
    "Default arguments allow you to provide default values for function parameters. If no argument is passed for a parameter with a default value, the default value will be used.\n",
    "\n",
    "#### Example:\n",
    "In this example, the parameter age has a default value of 25. If the function is called without providing an age, the default value is used."
   ]
  },
  {
   "cell_type": "code",
   "execution_count": 15,
   "id": "d7f7e520-c7be-4811-9d98-dda309758d83",
   "metadata": {},
   "outputs": [
    {
     "name": "stdout",
     "output_type": "stream",
     "text": [
      "Name: Alice, Age: 25\n",
      "Name: Bob, Age: 30\n"
     ]
    }
   ],
   "source": [
    "def display_info(name, age=25):\n",
    "    \"\"\"Function to display name and age, with a default age\"\"\"\n",
    "    print(f\"Name: {name}, Age: {age}\")\n",
    "\n",
    "# Calling the function with and without the age argument\n",
    "display_info(\"Alice\")       # Age will default to 25\n",
    "display_info(\"Bob\", 30)     # Age will be set to 30"
   ]
  },
  {
   "cell_type": "code",
   "execution_count": null,
   "id": "78f67d07-4490-421e-b0bd-b5e8f57b97bb",
   "metadata": {},
   "outputs": [],
   "source": []
  },
  {
   "cell_type": "markdown",
   "id": "eab70ac2-919a-475d-b6db-53364bafb1bc",
   "metadata": {},
   "source": [
    "### 3. Lambda Functions:\n",
    "Lambda functions are anonymous, small, one-line functions. They are often used for simple tasks without defining a formal function using the `def` keyword.\n",
    "\n",
    "#### Key Points:\n",
    "Lambda functions are defined using the lambda keyword.\n",
    "They can take multiple arguments but are limited to a single expression.\n",
    "Useful for short, simple operations, especially in cases like sorting or filtering data.\n",
    "\n",
    "#### Syntax:\n",
    "```python\n",
    "lambda arguments: expression"
   ]
  },
  {
   "cell_type": "markdown",
   "id": "4be865a5-e594-4b27-938c-16f1bfc21c13",
   "metadata": {},
   "source": [
    "Example:\n",
    "In this example, square `is` a `lambda` function that squares a number."
   ]
  },
  {
   "cell_type": "code",
   "execution_count": 16,
   "id": "a64bb282-4d52-4c06-8c35-bb83a95a6bb9",
   "metadata": {},
   "outputs": [
    {
     "name": "stdout",
     "output_type": "stream",
     "text": [
      "25\n"
     ]
    }
   ],
   "source": [
    "square = lambda x: x ** 2    # Lambda to square a number\n",
    "print(square(5))    # Outputs: 25"
   ]
  },
  {
   "cell_type": "markdown",
   "id": "4e3caa99-5f60-46e3-91d2-75d584f9ed53",
   "metadata": {},
   "source": [
    "#### `Lambda` with Multiple Arguments:\n",
    "Here, sum_two is a lambda function that takes two arguments and returns their sum.\n"
   ]
  },
  {
   "cell_type": "code",
   "execution_count": 17,
   "id": "93277740-bd16-497c-bf27-7296363d4300",
   "metadata": {},
   "outputs": [
    {
     "name": "stdout",
     "output_type": "stream",
     "text": [
      "30\n"
     ]
    }
   ],
   "source": [
    "sum_two = lambda a, b: a + b\n",
    "print(sum_two(10, 20))    # Outputs: 30"
   ]
  },
  {
   "cell_type": "code",
   "execution_count": null,
   "id": "068f0ba2-ad08-45cf-b6cd-53463f45fa5d",
   "metadata": {},
   "outputs": [],
   "source": []
  },
  {
   "cell_type": "markdown",
   "id": "ef2cf689-d5c3-4912-a707-7cf37a0bc383",
   "metadata": {},
   "source": [
    "### 4. Scope of Variables\n",
    "\n",
    "#### Local vs Global Variables:\n",
    "The scope of a variable determines where it can be accessed or modified in the program. Variables can be categorized as **local** or **global** depending on where they are defined.\n",
    "\n",
    "- **Global Variables**: Defined outside of all functions and accessible throughout the entire program.\n",
    "- **Local Variables**: Defined inside a function and only accessible within that function.\n",
    "\n",
    "#### Key Points:\n",
    "Global variables can be accessed inside functions but cannot be modified unless explicitly declared using the global keyword.\n",
    "Local variables are defined within a function and only exist during the function's execution.\n",
    "Changes to a local variable do not affect a global variable with the same name.\n",
    "\n",
    "#### Example:"
   ]
  },
  {
   "cell_type": "code",
   "execution_count": 18,
   "id": "b8600785-f0cc-43c2-8ee9-7884c154f746",
   "metadata": {},
   "outputs": [
    {
     "name": "stdout",
     "output_type": "stream",
     "text": [
      "5\n",
      "10\n"
     ]
    }
   ],
   "source": [
    "\n",
    "x = 10    # Global scope\n",
    "\n",
    "def local_scope():\n",
    "    x = 5    # Local variable\n",
    "    return x\n",
    "\n",
    "print(local_scope())    # Outputs: 5 (local variable inside the function)\n",
    "print(x)    # Outputs: 10 (global variable remains unchanged)"
   ]
  },
  {
   "cell_type": "code",
   "execution_count": null,
   "id": "b6df88f6-d816-4c08-bf91-153fe0ab8a92",
   "metadata": {},
   "outputs": [],
   "source": []
  },
  {
   "cell_type": "markdown",
   "id": "f8d5ac8c-a614-4d01-86b4-7f6559673ea3",
   "metadata": {},
   "source": [
    "## Exercises:\n",
    "\n",
    "### 1. Create a Function to Check if a Number is Prime\n",
    "Write a function that takes a number and returns whether the number is prime or not.\n",
    "\n",
    "### Solution:"
   ]
  },
  {
   "cell_type": "code",
   "execution_count": 20,
   "id": "04e5415c-527a-4ee6-a781-01bf7ba2c327",
   "metadata": {},
   "outputs": [
    {
     "name": "stdout",
     "output_type": "stream",
     "text": [
      "True\n",
      "False\n"
     ]
    }
   ],
   "source": [
    "def is_prime(num):\n",
    "    \"\"\"Function to check if a number is prime\"\"\"\n",
    "    if num < 2:\n",
    "        return False\n",
    "    for i in range(2, int(num ** 0.5) + 1):\n",
    "        if num % i == 0:\n",
    "            return False\n",
    "    return True\n",
    "\n",
    "# Test the function\n",
    "print(is_prime(17))    # Outputs: True\n",
    "print(is_prime(18))    # Outputs: False"
   ]
  },
  {
   "cell_type": "markdown",
   "id": "802b688a-8e1e-47db-aa2e-7b1c642e8b64",
   "metadata": {},
   "source": [
    "### Explanation:\n",
    "- A prime number is only divisible by 1 and itself.\n",
    "- The function checks numbers from 2 up to the square root of the given number for divisibility.\n",
    "- If any number divides evenly, the function returns `False` (not prime).\n",
    "- If no such number is found, the function returns `True` (prime)."
   ]
  },
  {
   "cell_type": "markdown",
   "id": "097a2516-ae4e-4c32-9f22-cd13d2f8c612",
   "metadata": {},
   "source": [
    "### 2. Write a Lambda Function to Find the Maximum of Two Numbers\n",
    "Use a lambda function to return the maximum of two numbers.\n",
    "\n",
    "### Solution:"
   ]
  },
  {
   "cell_type": "code",
   "execution_count": 21,
   "id": "4db2f546-98bf-4f0d-ad52-1bb2fedda540",
   "metadata": {},
   "outputs": [
    {
     "name": "stdout",
     "output_type": "stream",
     "text": [
      "20\n"
     ]
    }
   ],
   "source": [
    "max_num = lambda x, y: x if x > y else y\n",
    "\n",
    "# Test the lambda function\n",
    "print(max_num(10, 20))    # Outputs: 20"
   ]
  },
  {
   "cell_type": "markdown",
   "id": "bb27974e-5ebc-4523-b160-00c944d6a20c",
   "metadata": {},
   "source": [
    "### Explanation:\n",
    "- This lambda function takes two arguments, `x` and `y`.\n",
    "- It uses a conditional expression to `return` `x` if it is greater than `y`; otherwise, it returns `y`.\n",
    "- The result is the maximum of the two numbers passed to the function."
   ]
  },
  {
   "cell_type": "markdown",
   "id": "6160c57c-2844-4e94-a9a0-51334e879366",
   "metadata": {},
   "source": [
    "### 3. Use Default Arguments in a Function to Calculate Exponentiation\n",
    "Write a function with a default argument to calculate the exponentiation of a number.\n",
    "\n",
    "### Solution:"
   ]
  },
  {
   "cell_type": "code",
   "execution_count": null,
   "id": "98f46ef4-2aa5-450c-a64f-232d470bddfd",
   "metadata": {},
   "outputs": [],
   "source": [
    "def power(base, exponent=2):\n",
    "    \"\"\"Function to calculate exponentiation with a default exponent of 2\"\"\"\n",
    "    return base ** exponent\n",
    "\n",
    "# Test the function\n",
    "print(power(5))        # Outputs: 25 (5 squared)\n",
    "print(power(3, 3))     # Outputs: 27 (3 cubed)"
   ]
  },
  {
   "cell_type": "markdown",
   "id": "45cc7bcb-a832-46a0-b716-0cc142149160",
   "metadata": {},
   "source": [
    "### Explanation:\n",
    "- The function `power` takes two parameters: `base` and `exponent`.\n",
    "- The `exponent` parameter has a default value of `2`, meaning if no value is provided, it will calculate the square of the base.\n",
    "- If an exponent value is provided, the function will compute the base raised to that exponent."
   ]
  },
  {
   "cell_type": "code",
   "execution_count": null,
   "id": "01c84c46-fd08-408a-91fc-5960493bc5b7",
   "metadata": {},
   "outputs": [],
   "source": [
    "Summary:\n",
    "Today, we covered:\n",
    "\n",
    "Different types of functions in Python.\n",
    "Function arguments: positional, keyword, and default.\n",
    "Lambda expressions for concise code.\n",
    "Scope of variables within functions."
   ]
  }
 ],
 "metadata": {
  "kernelspec": {
   "display_name": "Python 3 (ipykernel)",
   "language": "python",
   "name": "python3"
  },
  "language_info": {
   "codemirror_mode": {
    "name": "ipython",
    "version": 3
   },
   "file_extension": ".py",
   "mimetype": "text/x-python",
   "name": "python",
   "nbconvert_exporter": "python",
   "pygments_lexer": "ipython3",
   "version": "3.11.5"
  }
 },
 "nbformat": 4,
 "nbformat_minor": 5
}
