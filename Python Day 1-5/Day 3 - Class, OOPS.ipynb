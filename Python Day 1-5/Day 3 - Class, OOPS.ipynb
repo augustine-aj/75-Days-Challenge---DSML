{
 "cells": [
  {
   "cell_type": "markdown",
   "id": "a82f5664-1d96-4ee7-96aa-c120a60ba536",
   "metadata": {},
   "source": [
    "# Day 3: Classes and Object-Oriented Programming (OOP)\n",
    "\n",
    "## Objectives:\n",
    "- Learn the basics of Object-Oriented Programming (OOP).\n",
    "- Understand how to define and use classes.\n",
    "\n",
    "---\n",
    "\n",
    "## Topics to Cover:\n",
    "\n",
    "### 1. Classes and Objects\n",
    "#### Defining a Class\n",
    "In Python, you can define a class using the `class` keyword."
   ]
  },
  {
   "cell_type": "code",
   "execution_count": 6,
   "id": "679083a9-e598-4e4c-9561-5a661f0270f6",
   "metadata": {},
   "outputs": [
    {
     "name": "stdout",
     "output_type": "stream",
     "text": [
      "Augustine\n",
      "30\n"
     ]
    }
   ],
   "source": [
    "class Person:\n",
    "    species = \"Human\"\n",
    "\n",
    "    def __init__(self, name, age):\n",
    "        self.name = name\n",
    "        self.age = age\n",
    "\n",
    "person1 = Person(\"Augustine\", 30)\n",
    "print(person1.name)\n",
    "print(person1.age)"
   ]
  },
  {
   "cell_type": "markdown",
   "id": "63044bad-070f-4522-8c34-166f1dbeb4f3",
   "metadata": {},
   "source": [
    "#### Class Attributes and Instance Attributes\n",
    "- **Class attributes** are shared across all instances.\n",
    "- **Instance attributes** are specific to each object."
   ]
  },
  {
   "cell_type": "code",
   "execution_count": 2,
   "id": "c23eb4f2-7c51-4945-999e-7fca7779b17b",
   "metadata": {},
   "outputs": [
    {
     "name": "stdout",
     "output_type": "stream",
     "text": [
      "Human\n"
     ]
    }
   ],
   "source": [
    "print(person1.species)"
   ]
  },
  {
   "cell_type": "markdown",
   "id": "cbbaef68-2301-4983-8c8f-249877485e8e",
   "metadata": {},
   "source": [
    "#### `__init__()` Method\n",
    "The __init__() method initializes the instance attributes."
   ]
  },
  {
   "cell_type": "code",
   "execution_count": 3,
   "id": "dbfa8aaa-aa61-4e3d-aa70-1a14f00fe6ae",
   "metadata": {},
   "outputs": [
    {
     "name": "stdout",
     "output_type": "stream",
     "text": [
      "Buddy\n",
      "Golden Retriever\n"
     ]
    }
   ],
   "source": [
    "class Dog:\n",
    "    def __init__(self, name, breed):\n",
    "        self.name = name\n",
    "        self.breed = breed\n",
    "\n",
    "dog1 = Dog(\"Buddy\", \"Golden Retriever\")\n",
    "print(dog1.name)  # Outputs: Buddy\n",
    "print(dog1.breed)"
   ]
  },
  {
   "cell_type": "code",
   "execution_count": null,
   "id": "3bcdc7fd-7e79-45d6-bde3-780830aed1ac",
   "metadata": {},
   "outputs": [],
   "source": []
  },
  {
   "cell_type": "markdown",
   "id": "60d75fdc-bc83-490a-836d-9c7178264707",
   "metadata": {},
   "source": [
    "#### 3. Methods\n",
    "#### The `self` Parameter\n",
    "The `self` parameter refers to the instance of the class and is used to access instance attributes and methods."
   ]
  },
  {
   "cell_type": "code",
   "execution_count": 4,
   "id": "7cfb45f9-3456-4bc4-8384-fc4fae16f2f7",
   "metadata": {},
   "outputs": [
    {
     "name": "stdout",
     "output_type": "stream",
     "text": [
      "1\n"
     ]
    }
   ],
   "source": [
    "class Counter:\n",
    "    def __init__(self):\n",
    "        self.count = 0\n",
    "\n",
    "    def increment(self):\n",
    "        self.count += 1\n",
    "\n",
    "counter = Counter()\n",
    "counter.increment()\n",
    "print(counter.count)"
   ]
  },
  {
   "cell_type": "markdown",
   "id": "cedf3f3f-b23b-4706-ae26-5d60945ec17d",
   "metadata": {},
   "source": [
    "#### Class Methods and Static Methods\n",
    "- Class methods are defined with the `@classmethod` decorator and take `cls` as the first parameter.\n",
    "- Static methods are defined with the `@staticmethod` decorator and do not take `self` or `cls` as parameters."
   ]
  },
  {
   "cell_type": "code",
   "execution_count": 5,
   "id": "ea7653b6-1171-4460-b718-cec00885488a",
   "metadata": {},
   "outputs": [
    {
     "name": "stdout",
     "output_type": "stream",
     "text": [
      "15\n"
     ]
    }
   ],
   "source": [
    "class Math:\n",
    "    @staticmethod\n",
    "    def add(x, y):\n",
    "        return x + y\n",
    "\n",
    "    @classmethod\n",
    "    def identity(cls):\n",
    "        return cls()\n",
    "\n",
    "print(Math.add(5, 10))"
   ]
  },
  {
   "cell_type": "code",
   "execution_count": null,
   "id": "8308d9bb-db57-4d5b-8dcb-59dcfb1508cd",
   "metadata": {},
   "outputs": [],
   "source": []
  },
  {
   "cell_type": "markdown",
   "id": "1283c2fa-dead-44ae-bdb5-3b33391f8a5c",
   "metadata": {},
   "source": [
    "### 3. OOP Concepts\n",
    "#### Encapsulation|\n",
    "Encapsulation is the bundling of data and methods that operate on that data within one unit (class)."
   ]
  },
  {
   "cell_type": "code",
   "execution_count": 7,
   "id": "64a624d1-2e26-4a22-8123-cc4acd609f9a",
   "metadata": {},
   "outputs": [
    {
     "name": "stdout",
     "output_type": "stream",
     "text": [
      "50\n"
     ]
    }
   ],
   "source": [
    "class BankAccount:\n",
    "    def __init__(self, owner, balance=0):\n",
    "        self.owner = owner\n",
    "        self.__balance = balance\n",
    "\n",
    "    def deposit(self, amount):\n",
    "        self.__balance += amount\n",
    "        return self.__balance\n",
    "\n",
    "    def withdraw(self, amount):\n",
    "        if amount <= self.__balance:\n",
    "            self.__balance -= amount\n",
    "            return self.__balance\n",
    "        else:\n",
    "            return \"Insufficient funds\"\n",
    "\n",
    "account = BankAccount(\"John\")\n",
    "account.deposit(100)\n",
    "print(account.withdraw(50))"
   ]
  },
  {
   "cell_type": "markdown",
   "id": "fe4cf51c-2b36-4b99-aea7-623c7701f878",
   "metadata": {},
   "source": [
    "#### Inheritance\n",
    "Inheritance allows a new class to inherit attributes and methods from an existing class."
   ]
  },
  {
   "cell_type": "code",
   "execution_count": 8,
   "id": "5d838245-102b-4eb9-b56d-d0ff31388292",
   "metadata": {},
   "outputs": [
    {
     "name": "stdout",
     "output_type": "stream",
     "text": [
      "Toyota\n",
      "Petrol\n"
     ]
    }
   ],
   "source": [
    "class Vehicle:\n",
    "    def __init__(self, brand):\n",
    "        self.brand = brand\n",
    "\n",
    "class Car(Vehicle):\n",
    "    def __init__(self, brand, fuel_type):\n",
    "        super().__init__(brand)\n",
    "        self.fuel_type = fuel_type\n",
    "\n",
    "my_car = Car(\"Toyota\", \"Petrol\")\n",
    "print(my_car.brand)\n",
    "print(my_car.fuel_type)"
   ]
  },
  {
   "cell_type": "markdown",
   "id": "fb09512d-a24d-4f63-bebc-898c94c1cce3",
   "metadata": {},
   "source": [
    "#### Polymorphism\n",
    "Polymorphism allows methods to be defined in a way that they can operate on different data types."
   ]
  },
  {
   "cell_type": "code",
   "execution_count": 9,
   "id": "f75d67ac-de1f-4517-b619-067d3389c047",
   "metadata": {},
   "outputs": [
    {
     "name": "stdout",
     "output_type": "stream",
     "text": [
      "Woof!\n",
      "Meow!\n"
     ]
    }
   ],
   "source": [
    "class Animal:\n",
    "    def speak(self):\n",
    "        pass\n",
    "\n",
    "class Dog(Animal):\n",
    "    def speak(self):\n",
    "        return \"Woof!\"\n",
    "\n",
    "class Cat(Animal):\n",
    "    def speak(self):\n",
    "        return \"Meow!\"\n",
    "\n",
    "\n",
    "def animal_sound(animal):\n",
    "    print(animal.speak())\n",
    "\n",
    "dog = Dog()\n",
    "cat = Cat()\n",
    "animal_sound(dog)\n",
    "animal_sound(cat)\n"
   ]
  },
  {
   "cell_type": "code",
   "execution_count": null,
   "id": "54eea858-cce4-4e0d-9b3f-acb934859b1e",
   "metadata": {},
   "outputs": [],
   "source": []
  },
  {
   "cell_type": "markdown",
   "id": "d0c5ad5c-453b-4574-bfce-c7c87d668069",
   "metadata": {},
   "source": [
    "### Exercises:\n",
    "#### 1. Create a Class Person\n",
    "Create a class Person with attributes name and age, and methods to display details and increment age."
   ]
  },
  {
   "cell_type": "code",
   "execution_count": 10,
   "id": "5d0247d5-28d7-47e9-a8a3-2c481a4cf71a",
   "metadata": {},
   "outputs": [
    {
     "name": "stdout",
     "output_type": "stream",
     "text": [
      "Name: Augustine, Age: 30\n",
      "Name: Augustine, Age: 31\n"
     ]
    }
   ],
   "source": [
    "class Person:\n",
    "    def __init__(self, name, age):\n",
    "        self.name = name\n",
    "        self.age = age\n",
    "\n",
    "    def display_details(self):\n",
    "        print(f\"Name: {self.name}, Age: {self.age}\")\n",
    "\n",
    "    def increment_age(self):\n",
    "        self.age += 1\n",
    "\n",
    "# Test the Person class\n",
    "person = Person(\"Augustine\", 30)\n",
    "person.display_details()\n",
    "person.increment_age()\n",
    "person.display_details()"
   ]
  },
  {
   "cell_type": "markdown",
   "id": "ace0cda9-9648-4868-850b-ca74dde2069e",
   "metadata": {},
   "source": [
    "#### 2. Implement a Class Car\n",
    "Implement a class `Car` that inherits from a base class Vehicle and adds specific properties like fuel_type."
   ]
  },
  {
   "cell_type": "code",
   "execution_count": null,
   "id": "3c3ffccf-8fe9-4120-a815-a313eaa4e83b",
   "metadata": {},
   "outputs": [],
   "source": []
  },
  {
   "cell_type": "code",
   "execution_count": null,
   "id": "9e2ca668-82d0-4cd5-ba37-d15523fa9bd6",
   "metadata": {},
   "outputs": [],
   "source": []
  }
 ],
 "metadata": {
  "kernelspec": {
   "display_name": "Python 3 (ipykernel)",
   "language": "python",
   "name": "python3"
  },
  "language_info": {
   "codemirror_mode": {
    "name": "ipython",
    "version": 3
   },
   "file_extension": ".py",
   "mimetype": "text/x-python",
   "name": "python",
   "nbconvert_exporter": "python",
   "pygments_lexer": "ipython3",
   "version": "3.11.5"
  }
 },
 "nbformat": 4,
 "nbformat_minor": 5
}
