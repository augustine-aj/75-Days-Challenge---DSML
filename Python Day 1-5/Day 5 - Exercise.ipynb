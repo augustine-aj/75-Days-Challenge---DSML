{
 "cells": [
  {
   "cell_type": "markdown",
   "id": "ddba619d-3b76-49d9-aa98-2919b72f10c7",
   "metadata": {},
   "source": [
    "# Final Exercise: Inventory Management System\n",
    "## Objective:\n",
    "Combine your knowledge of classes, file handling, and data structures to create an Inventory Management System.\n",
    "## Requirements:\n",
    "- Store product data in a CSV, JSON, or text file.\n",
    "- Provide functions to add, update, delete, and search products.\n",
    "- Use classes to represent different product types (e.g., electronics, groceries) and use inheritance to handle shared attributes.\n",
    "\n",
    "***Example Skeleton for Inventory Management***:"
   ]
  },
  {
   "cell_type": "code",
   "execution_count": 1,
   "id": "a2564115-6728-473e-af9d-0baccb6f49cd",
   "metadata": {},
   "outputs": [
    {
     "ename": "TypeError",
     "evalue": "Product.__init__() got an unexpected keyword argument 'warranty'",
     "output_type": "error",
     "traceback": [
      "\u001b[1;31m---------------------------------------------------------------------------\u001b[0m",
      "\u001b[1;31mTypeError\u001b[0m                                 Traceback (most recent call last)",
      "Cell \u001b[1;32mIn[1], line 38\u001b[0m\n\u001b[0;32m     31\u001b[0m inventory \u001b[38;5;241m=\u001b[39m [\n\u001b[0;32m     32\u001b[0m     Electronics(\u001b[38;5;124m\"\u001b[39m\u001b[38;5;124mLaptop\u001b[39m\u001b[38;5;124m\"\u001b[39m, \u001b[38;5;241m1200\u001b[39m, \u001b[38;5;241m10\u001b[39m, \u001b[38;5;124m\"\u001b[39m\u001b[38;5;124m2 years\u001b[39m\u001b[38;5;124m\"\u001b[39m),\n\u001b[0;32m     33\u001b[0m     Grocery(\u001b[38;5;124m\"\u001b[39m\u001b[38;5;124mMilk\u001b[39m\u001b[38;5;124m\"\u001b[39m, \u001b[38;5;241m3.5\u001b[39m, \u001b[38;5;241m50\u001b[39m, \u001b[38;5;124m\"\u001b[39m\u001b[38;5;124m2024-01-15\u001b[39m\u001b[38;5;124m\"\u001b[39m)\n\u001b[0;32m     34\u001b[0m ]\n\u001b[0;32m     36\u001b[0m save_inventory(inventory)\n\u001b[1;32m---> 38\u001b[0m loaded_inventory \u001b[38;5;241m=\u001b[39m load_inventory()\n\u001b[0;32m     39\u001b[0m \u001b[38;5;28;01mfor\u001b[39;00m product \u001b[38;5;129;01min\u001b[39;00m loaded_inventory:\n\u001b[0;32m     40\u001b[0m     \u001b[38;5;28mprint\u001b[39m(product\u001b[38;5;241m.\u001b[39mdisplay())\n",
      "Cell \u001b[1;32mIn[1], line 29\u001b[0m, in \u001b[0;36mload_inventory\u001b[1;34m(filename)\u001b[0m\n\u001b[0;32m     27\u001b[0m \u001b[38;5;28;01mwith\u001b[39;00m \u001b[38;5;28mopen\u001b[39m(filename, \u001b[38;5;124m'\u001b[39m\u001b[38;5;124mr\u001b[39m\u001b[38;5;124m'\u001b[39m) \u001b[38;5;28;01mas\u001b[39;00m json_file:\n\u001b[0;32m     28\u001b[0m     data \u001b[38;5;241m=\u001b[39m json\u001b[38;5;241m.\u001b[39mload(json_file)\n\u001b[1;32m---> 29\u001b[0m \u001b[38;5;28;01mreturn\u001b[39;00m [Product(\u001b[38;5;241m*\u001b[39m\u001b[38;5;241m*\u001b[39mitem) \u001b[38;5;28;01mfor\u001b[39;00m item \u001b[38;5;129;01min\u001b[39;00m data]\n",
      "Cell \u001b[1;32mIn[1], line 29\u001b[0m, in \u001b[0;36m<listcomp>\u001b[1;34m(.0)\u001b[0m\n\u001b[0;32m     27\u001b[0m \u001b[38;5;28;01mwith\u001b[39;00m \u001b[38;5;28mopen\u001b[39m(filename, \u001b[38;5;124m'\u001b[39m\u001b[38;5;124mr\u001b[39m\u001b[38;5;124m'\u001b[39m) \u001b[38;5;28;01mas\u001b[39;00m json_file:\n\u001b[0;32m     28\u001b[0m     data \u001b[38;5;241m=\u001b[39m json\u001b[38;5;241m.\u001b[39mload(json_file)\n\u001b[1;32m---> 29\u001b[0m \u001b[38;5;28;01mreturn\u001b[39;00m [Product(\u001b[38;5;241m*\u001b[39m\u001b[38;5;241m*\u001b[39mitem) \u001b[38;5;28;01mfor\u001b[39;00m item \u001b[38;5;129;01min\u001b[39;00m data]\n",
      "\u001b[1;31mTypeError\u001b[0m: Product.__init__() got an unexpected keyword argument 'warranty'"
     ]
    }
   ],
   "source": [
    "import json\n",
    "\n",
    "class Product:\n",
    "    def __init__(self, name, price, quantity):\n",
    "        self.name = name\n",
    "        self.price = price\n",
    "        self.quantity = quantity\n",
    "\n",
    "    def display(self):\n",
    "        return f\"{self.name}: ${self.price}, Quantity: {self.quantity}\"\n",
    "\n",
    "class Electronics(Product):\n",
    "    def __init__(self, name, price, quantity, warranty):\n",
    "        super().__init__(name, price, quantity)\n",
    "        self.warranty = warranty\n",
    "\n",
    "class Grocery(Product):\n",
    "    def __init__(self, name, price, quantity, expiration_date):\n",
    "        super().__init__(name, price, quantity)\n",
    "        self.expiration_date = expiration_date\n",
    "\n",
    "def save_inventory(products, filename='inventory.json'):\n",
    "    with open(filename, 'w') as json_file:\n",
    "        json.dump([product.__dict__ for product in products], json_file)\n",
    "\n",
    "def load_inventory(filename='inventory.json'):\n",
    "    with open(filename, 'r') as json_file:\n",
    "        data = json.load(json_file)\n",
    "    return [Product(**item) for item in data]\n",
    "\n",
    "inventory = [\n",
    "    Electronics(\"Laptop\", 1200, 10, \"2 years\"),\n",
    "    Grocery(\"Milk\", 3.5, 50, \"2024-01-15\")\n",
    "]\n",
    "\n",
    "save_inventory(inventory)\n",
    "\n",
    "loaded_inventory = load_inventory()\n",
    "for product in loaded_inventory:\n",
    "    print(product.display())"
   ]
  },
  {
   "cell_type": "code",
   "execution_count": null,
   "id": "83eb5ce0-4549-4745-8a42-b39c6bea008e",
   "metadata": {},
   "outputs": [],
   "source": []
  }
 ],
 "metadata": {
  "kernelspec": {
   "display_name": "Python 3 (ipykernel)",
   "language": "python",
   "name": "python3"
  },
  "language_info": {
   "codemirror_mode": {
    "name": "ipython",
    "version": 3
   },
   "file_extension": ".py",
   "mimetype": "text/x-python",
   "name": "python",
   "nbconvert_exporter": "python",
   "pygments_lexer": "ipython3",
   "version": "3.11.5"
  }
 },
 "nbformat": 4,
 "nbformat_minor": 5
}
