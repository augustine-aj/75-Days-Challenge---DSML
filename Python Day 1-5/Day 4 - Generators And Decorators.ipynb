{
 "cells": [
  {
   "cell_type": "markdown",
   "id": "3ffaf6f9-1060-4a9e-9c80-f2eb2dbeef31",
   "metadata": {},
   "source": [
    "# Day 4: Generators and Decorators"
   ]
  },
  {
   "cell_type": "markdown",
   "id": "b7e3feba-9b15-419a-9a79-62686c7f60f4",
   "metadata": {},
   "source": [
    "## Objectives:\n",
    "\n",
    "- Learn about generators for memory-efficient data processing. \n",
    "- Understand decorators and how to use them for extending functionality.\n"
   ]
  },
  {
   "cell_type": "markdown",
   "id": "3f79cebe-c0bf-41ed-9897-0548659e5e6e",
   "metadata": {},
   "source": [
    "### Generators:\n",
    "Generators are a great way to create iterators in Python, particularly useful when dealing with large datasets. They allow you to generate data on the fly without storing everything in memory."
   ]
  },
  {
   "cell_type": "markdown",
   "id": "c1102242-9181-4235-b50b-bcd9709eefe7",
   "metadata": {},
   "source": [
    "### Topics to Cover:\n",
    "\n",
    "#### 1. Defining Generators:\n",
    "\n",
    "- Generators are created using the yield statement.\n",
    "- Instead of returning a value, they yield a value and maintain their state for the next call."
   ]
  },
  {
   "cell_type": "code",
   "execution_count": 25,
   "id": "538cc3d0-3185-4e63-ba44-820fcb53ab76",
   "metadata": {},
   "outputs": [],
   "source": [
    "def count_up_to(max):\n",
    "    count = 1\n",
    "    while count <= max:\n",
    "        yield count\n",
    "        count += 1"
   ]
  },
  {
   "cell_type": "markdown",
   "id": "170a99d3-622a-470f-a8be-f545d9820da9",
   "metadata": {},
   "source": [
    "#### 2. Accessing generator values\n",
    "- Using  `for` loop"
   ]
  },
  {
   "cell_type": "code",
   "execution_count": 26,
   "id": "5e46cfa1-00ed-4542-af24-a0502fe00fea",
   "metadata": {},
   "outputs": [
    {
     "name": "stdout",
     "output_type": "stream",
     "text": [
      "Yield No:  1\n",
      "Yield No:  2\n",
      "Yield No:  3\n",
      "Yield No:  4\n",
      "Yield No:  5\n"
     ]
    }
   ],
   "source": [
    "counts = count_up_to(5)\n",
    "\n",
    "for count in counts:\n",
    "    print('Yield No: ',count)"
   ]
  },
  {
   "cell_type": "markdown",
   "id": "0063c36c-6c59-4456-8cfd-76f51ed85b0a",
   "metadata": {},
   "source": [
    "- using `next` function"
   ]
  },
  {
   "cell_type": "code",
   "execution_count": 27,
   "id": "fea2929b-1eca-4b88-aacf-54d360ee7ebc",
   "metadata": {},
   "outputs": [
    {
     "name": "stdout",
     "output_type": "stream",
     "text": [
      "Yield No:  1\n",
      "Yield No:  2\n",
      "Yield No:  3\n",
      "Yield No:  4\n",
      "Yield No:  5\n"
     ]
    }
   ],
   "source": [
    "counter = count_up_to(5)\n",
    "\n",
    "print('Yield No: ', next(counter))\n",
    "print('Yield No: ', next(counter))\n",
    "print('Yield No: ', next(counter))\n",
    "print('Yield No: ', next(counter))\n",
    "print('Yield No: ', next(counter))"
   ]
  },
  {
   "cell_type": "markdown",
   "id": "1fd4eb26-5f45-4d48-8533-4c814a903274",
   "metadata": {},
   "source": [
    "#### 3. Generator Expressions:\n",
    "\n",
    "Similar to list comprehensions but for creating generators."
   ]
  },
  {
   "cell_type": "code",
   "execution_count": 28,
   "id": "3518b28f-72ec-4fcb-939c-6776efee7c17",
   "metadata": {},
   "outputs": [
    {
     "name": "stdout",
     "output_type": "stream",
     "text": [
      "0\n",
      "1\n",
      "4\n",
      "9\n",
      "16\n",
      "25\n",
      "36\n",
      "49\n",
      "64\n",
      "81\n"
     ]
    }
   ],
   "source": [
    "my_gen = (x**2 for x in range(10))\n",
    "for value in my_gen:\n",
    "    print(value)"
   ]
  },
  {
   "cell_type": "markdown",
   "id": "2a8a67a4-b9e5-460b-9fad-d8e2e9c59c25",
   "metadata": {},
   "source": [
    "#### 4. Use Cases for Generators:\n",
    "\n",
    "- Useful in large data processing where storing all data in memory at once is not feasible.\n",
    "- Commonly used for lazy loading or streaming data pipelines."
   ]
  },
  {
   "cell_type": "markdown",
   "id": "cb61921c-fa63-4344-8b78-1790015654bd",
   "metadata": {},
   "source": [
    "## Decorators:\n",
    "Decorators are a design pattern in Python that allows you to add new functionality to an existing object (function, method, or class) without modifying its structure. Functions are first-class objects in Python, meaning they can be passed around and used as arguments.\n",
    "\n",
    "### Topics to Cover:\n",
    "\n",
    "#### 1. Functions as First-Class Objects:\n",
    "\n",
    "You can pass functions as arguments, return them from other functions, and assign them to variables."
   ]
  },
  {
   "cell_type": "code",
   "execution_count": 29,
   "id": "0a4abf21-8949-4eae-84e4-ef66e7d07ad3",
   "metadata": {},
   "outputs": [
    {
     "name": "stdout",
     "output_type": "stream",
     "text": [
      "Hello, Augustine\n"
     ]
    }
   ],
   "source": [
    "def greet(name):\n",
    "    return f\"Hello, {name}\"\n",
    "\n",
    "say_hello = greet\n",
    "print(say_hello(\"Augustine\"))"
   ]
  },
  {
   "cell_type": "markdown",
   "id": "a5aaedd7-2612-4830-95c1-6485620a88a8",
   "metadata": {},
   "source": [
    "#### Creating Decorators:\n",
    "\n",
    "A decorator is a function that takes another function as an argument and extends or alters its behavior."
   ]
  },
  {
   "cell_type": "code",
   "execution_count": 30,
   "id": "a6de9c37-2fd7-465a-b22c-617b9ed12851",
   "metadata": {},
   "outputs": [
    {
     "name": "stdout",
     "output_type": "stream",
     "text": [
      "Hy, Augustine \n",
      "How are you.?\n"
     ]
    }
   ],
   "source": [
    "def my_decorator(func):\n",
    "    def wrapper():\n",
    "        print(\"Hy, \", end ='')\n",
    "        func()\n",
    "        print(\"How are you.?\")\n",
    "    return wrapper\n",
    "\n",
    "@my_decorator\n",
    "def say_hello():\n",
    "    print(\"Augustine \")\n",
    "\n",
    "say_hello()"
   ]
  },
  {
   "cell_type": "markdown",
   "id": "b33870e0-ff74-4164-b6fb-d3e10a714699",
   "metadata": {},
   "source": [
    "#### 3. Common Use Cases:\n",
    "\n",
    "- Logging: Logging the execution of a function.\n",
    "- Timing: Measuring the time a function takes to run.\n",
    "- Access Control: Restricting access to functions."
   ]
  },
  {
   "cell_type": "markdown",
   "id": "4b0abafd-1beb-4542-af2a-276ebe8b4509",
   "metadata": {},
   "source": [
    "## Exercises:\n",
    "### 1. Fibonacci Generator:\n",
    "Write a generator that yields the first n Fibonacci numbers."
   ]
  },
  {
   "cell_type": "code",
   "execution_count": 31,
   "id": "519f8c0d-445c-42b6-97d8-a0b37bafa989",
   "metadata": {},
   "outputs": [
    {
     "name": "stdout",
     "output_type": "stream",
     "text": [
      "0\n",
      "1\n",
      "1\n",
      "2\n",
      "3\n",
      "5\n",
      "8\n",
      "13\n",
      "21\n",
      "34\n"
     ]
    }
   ],
   "source": [
    "def fibonacci(n):\n",
    "    a, b = 0, 1\n",
    "    for _ in range(n):\n",
    "        yield a\n",
    "        a, b = b, a + b\n",
    "\n",
    "for num in fibonacci(10):\n",
    "    print(num)"
   ]
  },
  {
   "cell_type": "markdown",
   "id": "6fe51f26-377c-4ee8-a399-68e5ed02b5c1",
   "metadata": {},
   "source": [
    "### 2. Execution Time Decorator:\n",
    "create a decorator that logs the execution time of a function."
   ]
  },
  {
   "cell_type": "code",
   "execution_count": 32,
   "id": "a428dbdb-e74a-474c-9774-51d07b643859",
   "metadata": {},
   "outputs": [
    {
     "name": "stdout",
     "output_type": "stream",
     "text": [
      "Function completed!\n",
      "Execution time: 5.005260467529297 seconds\n"
     ]
    }
   ],
   "source": [
    "import time\n",
    "\n",
    "def timer_decorator(func):\n",
    "    def wrapper(*args, **kwargs):\n",
    "        start_time = time.time()\n",
    "        result = func(*args, **kwargs)\n",
    "        end_time = time.time()\n",
    "        print(f\"Execution time: {end_time - start_time} seconds\")\n",
    "        return result\n",
    "    return wrapper\n",
    "\n",
    "@timer_decorator\n",
    "def example_function():\n",
    "    time.sleep(5)\n",
    "    print(\"Function completed!\")\n",
    "\n",
    "example_function()"
   ]
  },
  {
   "cell_type": "code",
   "execution_count": null,
   "id": "4827d2c7-e47c-4917-ba88-297370bbf9b8",
   "metadata": {},
   "outputs": [],
   "source": []
  }
 ],
 "metadata": {
  "kernelspec": {
   "display_name": "Python 3 (ipykernel)",
   "language": "python",
   "name": "python3"
  },
  "language_info": {
   "codemirror_mode": {
    "name": "ipython",
    "version": 3
   },
   "file_extension": ".py",
   "mimetype": "text/x-python",
   "name": "python",
   "nbconvert_exporter": "python",
   "pygments_lexer": "ipython3",
   "version": "3.11.5"
  }
 },
 "nbformat": 4,
 "nbformat_minor": 5
}
