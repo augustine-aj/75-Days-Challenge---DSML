{
 "cells": [
  {
   "cell_type": "markdown",
   "id": "250864a8-cfee-4812-9119-932640176cd0",
   "metadata": {},
   "source": [
    "# Day 5: File Handling with JSON and CSV, Exception Handling\n",
    "---"
   ]
  },
  {
   "cell_type": "markdown",
   "id": "b07cb147-37c3-4990-b4e4-f1b3daa9ab99",
   "metadata": {},
   "source": [
    "## Objectives:\n",
    "- Learn to handle structured data formats like JSON and CSV files.\n",
    "- Develop advanced error handling techniques to make code more robust.\n",
    "## Topics to Cover:\n",
    "---"
   ]
  },
  {
   "cell_type": "markdown",
   "id": "0c70dfc3-954a-49bf-800c-93dba17d3038",
   "metadata": {},
   "source": [
    "## Working with Text Files:\n",
    "- ***Reading from and writing*** to text files using Python's built-in `open()` function.\n",
    "- Basic operations like reading lines, writing content, and appending data.\n",
    "\n",
    "Example of reading from and writing to text files:"
   ]
  },
  {
   "cell_type": "code",
   "execution_count": 2,
   "id": "0a61561c-131c-4347-8567-937c185e832f",
   "metadata": {},
   "outputs": [
    {
     "name": "stdout",
     "output_type": "stream",
     "text": [
      "Hello, I am Augustine.\n",
      "Learning file handling is fun!\n"
     ]
    }
   ],
   "source": [
    "with open('sample.txt', 'w') as file:\n",
    "    file.write(\"Hello, I am Augustine.\\n\")\n",
    "    file.write(\"Learning file handling is fun!\")\n",
    "\n",
    "with open('sample.txt', 'r') as file:\n",
    "    content = file.read()\n",
    "    print(content)"
   ]
  },
  {
   "cell_type": "markdown",
   "id": "1cabf2ef-dba1-4028-a843-9736b9e36248",
   "metadata": {},
   "source": [
    "- Appending data to an existing text file:"
   ]
  },
  {
   "cell_type": "code",
   "execution_count": 5,
   "id": "ca0b1fcc-f9c0-4206-a1b2-4c5b3f7dc5bb",
   "metadata": {},
   "outputs": [],
   "source": [
    "with open('sample.txt', 'a') as file:\n",
    "    file.write(\"\\nAdding more content to the file.\")"
   ]
  },
  {
   "cell_type": "markdown",
   "id": "f1c27597-e178-4997-b63c-a2f9942ea7a0",
   "metadata": {},
   "source": [
    "---"
   ]
  },
  {
   "cell_type": "markdown",
   "id": "2c405cbb-06a4-4bef-84be-5cf240808640",
   "metadata": {},
   "source": [
    "## Working with CSV:\n",
    "- ***Reading from and writing to CSV files*** using the `csv` module.\n",
    "- ***Parsing CSV data into dictionaries or lists.***\n",
    "\n",
    "Example of reading and writing CSV files:"
   ]
  },
  {
   "cell_type": "code",
   "execution_count": 7,
   "id": "92803969-6c7c-4a7e-b1ee-d7e0fd8673ac",
   "metadata": {},
   "outputs": [
    {
     "name": "stdout",
     "output_type": "stream",
     "text": [
      "['Name', 'Age', 'Grade']\n",
      "['John', '20', 'A']\n",
      "['Alice', '22', 'B']\n"
     ]
    }
   ],
   "source": [
    "import csv\n",
    "\n",
    "with open('students.csv', 'w', newline='') as csvfile:\n",
    "    writer = csv.writer(csvfile)\n",
    "    writer.writerow([\"Name\", \"Age\", \"Grade\"])\n",
    "    writer.writerow([\"John\", 20, \"A\"])\n",
    "    writer.writerow([\"Alice\", 22, \"B\"])\n",
    "\n",
    "with open('students.csv', 'r') as csvfile:\n",
    "    reader = csv.reader(csvfile)\n",
    "    for row in reader:\n",
    "        print(row)"
   ]
  },
  {
   "cell_type": "markdown",
   "id": "2af912f2-3261-4cce-8db6-4e9aab63a2a8",
   "metadata": {},
   "source": [
    "---"
   ]
  },
  {
   "cell_type": "markdown",
   "id": "5a303894-e86c-4985-a8a7-7bbace42ee22",
   "metadata": {},
   "source": [
    "## Working with JSON:\n",
    "- ***Reading and writing JSON*** files using the `json` module.\n",
    "- Converting Python objects to `JSON` and vice versa.\n",
    "\n",
    "Example of reading and writing JSON files:"
   ]
  },
  {
   "cell_type": "code",
   "execution_count": 10,
   "id": "bca8a74e-f3e9-4127-ac86-2f4cea45b1a0",
   "metadata": {},
   "outputs": [
    {
     "name": "stdout",
     "output_type": "stream",
     "text": [
      "{'name': 'Augustine', 'age': 18, 'courses': ['Math', 'Science']}\n"
     ]
    }
   ],
   "source": [
    "import json\n",
    "\n",
    "student_data = {\n",
    "    \"name\": \"Augustine\",\n",
    "    \"age\": 18,\n",
    "    \"courses\": [\"Math\", \"Science\"]\n",
    "}\n",
    "with open('student_data.json', 'w') as json_file:\n",
    "    json.dump(student_data, json_file)\n",
    "\n",
    "with open('student_data.json', 'r') as json_file:\n",
    "    data = json.load(json_file)\n",
    "    print(data)"
   ]
  },
  {
   "cell_type": "markdown",
   "id": "d80cda72-bc82-4c0d-b91c-07ef4740094a",
   "metadata": {},
   "source": [
    "---"
   ]
  },
  {
   "cell_type": "markdown",
   "id": "6db95c3f-7bc6-4b28-977c-f026f7089f93",
   "metadata": {},
   "source": [
    "## Advanced Exception Handling:\n",
    "- ***Using `try`, `except`, `else`, and `finally` blocks*** to manage errors gracefully.\n",
    "- ***Creating custom exceptions*** by defining exception classes.\n",
    "\n",
    "Example of exception handling:"
   ]
  },
  {
   "cell_type": "code",
   "execution_count": 11,
   "id": "5d0697d8-9f43-4c34-bf90-52041d644397",
   "metadata": {},
   "outputs": [
    {
     "name": "stdin",
     "output_type": "stream",
     "text": [
      "Enter a number:  1\n"
     ]
    },
    {
     "name": "stdout",
     "output_type": "stream",
     "text": [
      "1\n",
      "Execution complete.\n"
     ]
    }
   ],
   "source": [
    "class NegativeNumberError(Exception):\n",
    "    pass\n",
    "\n",
    "def check_positive(number):\n",
    "    if number < 0:\n",
    "        raise NegativeNumberError(\"Negative numbers are not allowed!\")\n",
    "    return number\n",
    "\n",
    "try:\n",
    "    num = int(input(\"Enter a number: \"))\n",
    "    print(check_positive(num))\n",
    "except NegativeNumberError as e:\n",
    "    print(f\"Error: {e}\")\n",
    "except ValueError:\n",
    "    print(\"Please enter a valid number.\")\n",
    "finally:\n",
    "    print(\"Execution complete.\")"
   ]
  },
  {
   "cell_type": "markdown",
   "id": "c9d5fbf9-8926-4870-969d-8e545ec8ef30",
   "metadata": {},
   "source": [
    "---"
   ]
  },
  {
   "cell_type": "markdown",
   "id": "49c97221-2aaf-41d0-bff1-c635e04246a9",
   "metadata": {},
   "source": [
    "## Exercises:\n",
    "#### 1. Text File Exercise:\n",
    "Write a program to read from a text file, process the data (e.g., counting words), and write the result to a new file."
   ]
  },
  {
   "cell_type": "code",
   "execution_count": 19,
   "id": "2696b425-af92-412d-b8a8-b709d94b1bf9",
   "metadata": {},
   "outputs": [],
   "source": [
    "with open('sample.txt', 'r') as file:\n",
    "    content = file.read()\n",
    "    word_count = len(content.split())\n",
    "\n",
    "with open('output_text.txt', 'w') as file:\n",
    "    file.write(f\"Word Count: {word_count}\")"
   ]
  },
  {
   "cell_type": "markdown",
   "id": "56eb7c61-d2cb-4569-99f0-a1e2604037c5",
   "metadata": {},
   "source": [
    "#### 2. CSV Exercise:\n",
    "Write a program that reads a list of user data from a CSV file, processes it, and outputs the results to a new CSV file."
   ]
  },
  {
   "cell_type": "code",
   "execution_count": 20,
   "id": "9ff24eb6-02d3-4596-89c7-2649b640a7e5",
   "metadata": {},
   "outputs": [],
   "source": [
    "import csv\n",
    "\n",
    "sample_data = [\n",
    "    {'Name': 'Alice', 'Age': '20', 'Grade': 'A'},\n",
    "    {'Name': 'Bob', 'Age': '22', 'Grade': 'B'},\n",
    "    {'Name': 'Charlie', 'Age': '21', 'Grade': 'C'}\n",
    "]\n",
    "\n",
    "# Create 'input_users.csv' file\n",
    "with open('input_users.csv', 'w', newline='') as file:\n",
    "    fieldnames = ['Name', 'Age', 'Grade']\n",
    "    writer = csv.DictWriter(file, fieldnames=fieldnames)\n",
    "    writer.writeheader()  # Write the header row\n",
    "    writer.writerows(sample_data)\n",
    "\n",
    "with open('input_users.csv', 'r') as input_file:\n",
    "    reader = csv.DictReader(input_file)\n",
    "    users = [row for row in reader]\n",
    "\n",
    "for user in users:\n",
    "    user['Age'] = str(int(user['Age']) + 1)\n",
    "\n",
    "with open('output_users.csv', 'w', newline='') as output_file:\n",
    "    fieldnames = ['Name', 'Age', 'Grade']\n",
    "    writer = csv.DictWriter(output_file, fieldnames=fieldnames)\n",
    "    writer.writeheader()\n",
    "    writer.writerows(users)"
   ]
  },
  {
   "cell_type": "markdown",
   "id": "258fb618-936c-4c71-ab7b-c5aacf145f6d",
   "metadata": {},
   "source": [
    "#### 3. JSON Exercise:\n",
    "Create a JSON file storing a list of students and read it back into a Python dictionary."
   ]
  },
  {
   "cell_type": "code",
   "execution_count": 21,
   "id": "c70f5b3c-6ae0-4a62-b417-5ec990f12ae2",
   "metadata": {},
   "outputs": [
    {
     "name": "stdout",
     "output_type": "stream",
     "text": [
      "[{'name': 'John', 'age': 20, 'major': 'Physics'}, {'name': 'Alice', 'age': 22, 'major': 'Math'}]\n"
     ]
    }
   ],
   "source": [
    "import json\n",
    "\n",
    "students = [\n",
    "    {\"name\": \"John\", \"age\": 20, \"major\": \"Physics\"},\n",
    "    {\"name\": \"Alice\", \"age\": 22, \"major\": \"Math\"}\n",
    "]\n",
    "\n",
    "with open('students.json', 'w') as json_file:\n",
    "    json.dump(students, json_file)\n",
    "\n",
    "with open('students.json', 'r') as json_file:\n",
    "    data = json.load(json_file)\n",
    "    print(data)"
   ]
  },
  {
   "cell_type": "markdown",
   "id": "36251db3-64cf-4d38-9dda-d01e5692a314",
   "metadata": {},
   "source": [
    "---"
   ]
  },
  {
   "cell_type": "markdown",
   "id": "5bc22639-6d36-4563-b830-26f54071320a",
   "metadata": {},
   "source": [
    "## Conclusion:\n",
    "Day 5 has covered essential aspects of **file handling** with `text`, `JSON`, and `CSV` files, as well as **exception handling** in Python. You've learned how to manage data across different formats and ensure code robustness using exception handling. Keep practicing, and use these concepts in more advanced projects!"
   ]
  },
  {
   "cell_type": "code",
   "execution_count": null,
   "id": "b5c37505-d9ad-451b-bd1d-aae669df3f23",
   "metadata": {},
   "outputs": [],
   "source": []
  }
 ],
 "metadata": {
  "kernelspec": {
   "display_name": "Python 3 (ipykernel)",
   "language": "python",
   "name": "python3"
  },
  "language_info": {
   "codemirror_mode": {
    "name": "ipython",
    "version": 3
   },
   "file_extension": ".py",
   "mimetype": "text/x-python",
   "name": "python",
   "nbconvert_exporter": "python",
   "pygments_lexer": "ipython3",
   "version": "3.11.5"
  }
 },
 "nbformat": 4,
 "nbformat_minor": 5
}
