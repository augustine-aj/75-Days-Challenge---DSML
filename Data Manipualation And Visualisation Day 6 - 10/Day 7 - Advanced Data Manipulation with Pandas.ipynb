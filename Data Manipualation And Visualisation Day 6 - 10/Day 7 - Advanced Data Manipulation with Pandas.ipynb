{
 "cells": [
  {
   "cell_type": "markdown",
   "id": "4d8c775b-bc39-42a5-968b-fae0b49f4a79",
   "metadata": {},
   "source": [
    "# Day 7: Advanced Data Manipulation with Pandas\n",
    "\n",
    "## Objectives:\n",
    "- Perform more advanced operations on Pandas DataFrames.\n",
    "- Understand how to clean and preprocess data.\n",
    "### Topics to Cover:\n",
    "#### Handling Missing Data:\n",
    "\n",
    "Use methods like `isnull()`, `dropna()`, and `fillna()` to identify and manage missing values in your DataFrame."
   ]
  },
  {
   "cell_type": "code",
   "execution_count": 15,
   "id": "190fb1ce-da43-453c-8601-d04ad5c861ff",
   "metadata": {},
   "outputs": [
    {
     "data": {
      "text/html": [
       "<div>\n",
       "<style scoped>\n",
       "    .dataframe tbody tr th:only-of-type {\n",
       "        vertical-align: middle;\n",
       "    }\n",
       "\n",
       "    .dataframe tbody tr th {\n",
       "        vertical-align: top;\n",
       "    }\n",
       "\n",
       "    .dataframe thead th {\n",
       "        text-align: right;\n",
       "    }\n",
       "</style>\n",
       "<table border=\"1\" class=\"dataframe\">\n",
       "  <thead>\n",
       "    <tr style=\"text-align: right;\">\n",
       "      <th></th>\n",
       "      <th>Gender</th>\n",
       "      <th>Height</th>\n",
       "      <th>Weight</th>\n",
       "      <th>Index</th>\n",
       "    </tr>\n",
       "  </thead>\n",
       "  <tbody>\n",
       "    <tr>\n",
       "      <th>0</th>\n",
       "      <td>Male</td>\n",
       "      <td>161</td>\n",
       "      <td>89</td>\n",
       "      <td>4</td>\n",
       "    </tr>\n",
       "    <tr>\n",
       "      <th>1</th>\n",
       "      <td>Male</td>\n",
       "      <td>179</td>\n",
       "      <td>127</td>\n",
       "      <td>4</td>\n",
       "    </tr>\n",
       "    <tr>\n",
       "      <th>2</th>\n",
       "      <td>Male</td>\n",
       "      <td>172</td>\n",
       "      <td>139</td>\n",
       "      <td>5</td>\n",
       "    </tr>\n",
       "    <tr>\n",
       "      <th>3</th>\n",
       "      <td>Male</td>\n",
       "      <td>153</td>\n",
       "      <td>104</td>\n",
       "      <td>5</td>\n",
       "    </tr>\n",
       "    <tr>\n",
       "      <th>4</th>\n",
       "      <td>Male</td>\n",
       "      <td>165</td>\n",
       "      <td>68</td>\n",
       "      <td>2</td>\n",
       "    </tr>\n",
       "  </tbody>\n",
       "</table>\n",
       "</div>"
      ],
      "text/plain": [
       "  Gender  Height  Weight  Index\n",
       "0   Male     161      89      4\n",
       "1   Male     179     127      4\n",
       "2   Male     172     139      5\n",
       "3   Male     153     104      5\n",
       "4   Male     165      68      2"
      ]
     },
     "execution_count": 15,
     "metadata": {},
     "output_type": "execute_result"
    }
   ],
   "source": [
    "import pandas as pd\n",
    "\n",
    "df = pd.read_csv(\"D:/75 Days Challenge/Day_6_bmi_dataset.csv\")\n",
    "df.head()"
   ]
  },
  {
   "cell_type": "markdown",
   "id": "037034a5-5ad8-4113-91e4-d711e3df5c80",
   "metadata": {},
   "source": [
    "- Identify missing values."
   ]
  },
  {
   "cell_type": "code",
   "execution_count": 16,
   "id": "c84acc79-7c8d-4ff0-8a50-a19a7b73f3b6",
   "metadata": {},
   "outputs": [
    {
     "data": {
      "text/plain": [
       "Gender    0\n",
       "Height    0\n",
       "Weight    0\n",
       "Index     0\n",
       "dtype: int64"
      ]
     },
     "execution_count": 16,
     "metadata": {},
     "output_type": "execute_result"
    }
   ],
   "source": [
    "missing_data = df.isnull().sum()\n",
    "missing_data"
   ]
  },
  {
   "cell_type": "markdown",
   "id": "cefda730-1c11-4edc-9180-dc508e0ff0de",
   "metadata": {},
   "source": [
    "- Drop rows with any missing values."
   ]
  },
  {
   "cell_type": "code",
   "execution_count": 17,
   "id": "f4bd169a-1a18-4e71-9395-e253038321f6",
   "metadata": {},
   "outputs": [],
   "source": [
    "df_cleaned = df.dropna()"
   ]
  },
  {
   "cell_type": "markdown",
   "id": "810c167e-cb85-4dcf-a0ce-9d1e535ee546",
   "metadata": {},
   "source": [
    "- Fill missing values with a specific value"
   ]
  },
  {
   "cell_type": "code",
   "execution_count": null,
   "id": "8fd6505b-f494-470b-a4b3-d70340485c11",
   "metadata": {},
   "outputs": [],
   "source": [
    "df['column_name'].fillna(value=0, inplace=True)"
   ]
  },
  {
   "cell_type": "markdown",
   "id": "1eb1bcfb-f8a5-4d79-8037-52241b363032",
   "metadata": {},
   "source": [
    "---"
   ]
  },
  {
   "cell_type": "markdown",
   "id": "1f75df14-d90a-4f6a-9616-eb36ac71683a",
   "metadata": {},
   "source": [
    "#### 2. Grouping and Aggregation:"
   ]
  },
  {
   "cell_type": "markdown",
   "id": "e1a7041c-0e77-4ef1-92f4-0916d63f8594",
   "metadata": {},
   "source": [
    "- Use `groupby()` to group data based on one or more columns and then apply aggregation functions like `mean()`, `sum()`, etc."
   ]
  },
  {
   "cell_type": "code",
   "execution_count": 23,
   "id": "4735bd69-5f30-4ca4-ba85-023f7e149a3d",
   "metadata": {},
   "outputs": [
    {
     "data": {
      "text/html": [
       "<div>\n",
       "<style scoped>\n",
       "    .dataframe tbody tr th:only-of-type {\n",
       "        vertical-align: middle;\n",
       "    }\n",
       "\n",
       "    .dataframe tbody tr th {\n",
       "        vertical-align: top;\n",
       "    }\n",
       "\n",
       "    .dataframe thead th {\n",
       "        text-align: right;\n",
       "    }\n",
       "</style>\n",
       "<table border=\"1\" class=\"dataframe\">\n",
       "  <thead>\n",
       "    <tr style=\"text-align: right;\">\n",
       "      <th></th>\n",
       "      <th>Height</th>\n",
       "      <th>Weight</th>\n",
       "      <th>Index</th>\n",
       "      <th>Height_MM</th>\n",
       "    </tr>\n",
       "    <tr>\n",
       "      <th>Gender</th>\n",
       "      <th></th>\n",
       "      <th></th>\n",
       "      <th></th>\n",
       "      <th></th>\n",
       "    </tr>\n",
       "  </thead>\n",
       "  <tbody>\n",
       "    <tr>\n",
       "      <th>Female</th>\n",
       "      <td>170.810</td>\n",
       "      <td>104.93</td>\n",
       "      <td>3.650</td>\n",
       "      <td>1708.10</td>\n",
       "    </tr>\n",
       "    <tr>\n",
       "      <th>Male</th>\n",
       "      <td>169.915</td>\n",
       "      <td>107.19</td>\n",
       "      <td>3.825</td>\n",
       "      <td>1699.15</td>\n",
       "    </tr>\n",
       "  </tbody>\n",
       "</table>\n",
       "</div>"
      ],
      "text/plain": [
       "         Height  Weight  Index  Height_MM\n",
       "Gender                                   \n",
       "Female  170.810  104.93  3.650    1708.10\n",
       "Male    169.915  107.19  3.825    1699.15"
      ]
     },
     "execution_count": 23,
     "metadata": {},
     "output_type": "execute_result"
    }
   ],
   "source": [
    "grouped_data = df.groupby('Gender').mean()\n",
    "grouped_data"
   ]
  },
  {
   "cell_type": "markdown",
   "id": "f378e2bf-8617-4dc9-9e18-c14c10b97237",
   "metadata": {},
   "source": [
    "---"
   ]
  },
  {
   "cell_type": "markdown",
   "id": "cbb69f5f-7add-4a68-b837-fb3a3fd93f1a",
   "metadata": {},
   "source": [
    "#### 3. Merging and Joining DataFrames:\n",
    "- Use `merge()` and `join()` to combine two DataFrames based on common columns or indices."
   ]
  },
  {
   "cell_type": "code",
   "execution_count": 34,
   "id": "000adf2b-ce2d-4a21-8145-6e3b9ef437a4",
   "metadata": {},
   "outputs": [],
   "source": [
    "data1 = {\n",
    "    'common_column': [1, 2, 3, 4],\n",
    "    'Product': ['Laptop', 'Smartphone', 'Tablet', 'Smartwatch'],\n",
    "    'Sales': [1000, 500, 300, 250]\n",
    "}\n",
    "\n",
    "df1 = pd.DataFrame(data1)"
   ]
  },
  {
   "cell_type": "code",
   "execution_count": 35,
   "id": "42456ec5-8b89-4810-a910-b222169cadc6",
   "metadata": {},
   "outputs": [],
   "source": [
    "data2 = {\n",
    "    'common_column': [2, 3, 4, 5],\n",
    "    'Price': [700, 300, 250, 400],\n",
    "    'Rating': [4.5, 4.0, 3.5, 5.0]\n",
    "}\n",
    "\n",
    "df2 = pd.DataFrame(data2)"
   ]
  },
  {
   "cell_type": "code",
   "execution_count": 37,
   "id": "9a8f3247-fe07-4994-b813-6d35968d0b1d",
   "metadata": {},
   "outputs": [
    {
     "data": {
      "text/html": [
       "<div>\n",
       "<style scoped>\n",
       "    .dataframe tbody tr th:only-of-type {\n",
       "        vertical-align: middle;\n",
       "    }\n",
       "\n",
       "    .dataframe tbody tr th {\n",
       "        vertical-align: top;\n",
       "    }\n",
       "\n",
       "    .dataframe thead th {\n",
       "        text-align: right;\n",
       "    }\n",
       "</style>\n",
       "<table border=\"1\" class=\"dataframe\">\n",
       "  <thead>\n",
       "    <tr style=\"text-align: right;\">\n",
       "      <th></th>\n",
       "      <th>common_column</th>\n",
       "      <th>Product</th>\n",
       "      <th>Sales</th>\n",
       "      <th>Price</th>\n",
       "      <th>Rating</th>\n",
       "    </tr>\n",
       "  </thead>\n",
       "  <tbody>\n",
       "    <tr>\n",
       "      <th>0</th>\n",
       "      <td>2</td>\n",
       "      <td>Smartphone</td>\n",
       "      <td>500</td>\n",
       "      <td>700</td>\n",
       "      <td>4.5</td>\n",
       "    </tr>\n",
       "    <tr>\n",
       "      <th>1</th>\n",
       "      <td>3</td>\n",
       "      <td>Tablet</td>\n",
       "      <td>300</td>\n",
       "      <td>300</td>\n",
       "      <td>4.0</td>\n",
       "    </tr>\n",
       "    <tr>\n",
       "      <th>2</th>\n",
       "      <td>4</td>\n",
       "      <td>Smartwatch</td>\n",
       "      <td>250</td>\n",
       "      <td>250</td>\n",
       "      <td>3.5</td>\n",
       "    </tr>\n",
       "  </tbody>\n",
       "</table>\n",
       "</div>"
      ],
      "text/plain": [
       "   common_column     Product  Sales  Price  Rating\n",
       "0              2  Smartphone    500    700     4.5\n",
       "1              3      Tablet    300    300     4.0\n",
       "2              4  Smartwatch    250    250     3.5"
      ]
     },
     "execution_count": 37,
     "metadata": {},
     "output_type": "execute_result"
    }
   ],
   "source": [
    "merged_df = pd.merge(df1, df2, on='common_column', how='inner')\n",
    "merged_df"
   ]
  },
  {
   "cell_type": "markdown",
   "id": "34330330-cfd4-4ad6-95c5-c1bf913d346d",
   "metadata": {},
   "source": [
    "#### 4. Applying Functions Using `apply()`:\n",
    "- Use the `apply()` method to apply a custom function to your DataFrame or Series."
   ]
  },
  {
   "cell_type": "code",
   "execution_count": 22,
   "id": "702f9f65-d35b-42d0-b142-7a122ba11947",
   "metadata": {},
   "outputs": [
    {
     "data": {
      "text/html": [
       "<div>\n",
       "<style scoped>\n",
       "    .dataframe tbody tr th:only-of-type {\n",
       "        vertical-align: middle;\n",
       "    }\n",
       "\n",
       "    .dataframe tbody tr th {\n",
       "        vertical-align: top;\n",
       "    }\n",
       "\n",
       "    .dataframe thead th {\n",
       "        text-align: right;\n",
       "    }\n",
       "</style>\n",
       "<table border=\"1\" class=\"dataframe\">\n",
       "  <thead>\n",
       "    <tr style=\"text-align: right;\">\n",
       "      <th></th>\n",
       "      <th>Gender</th>\n",
       "      <th>Height</th>\n",
       "      <th>Weight</th>\n",
       "      <th>Index</th>\n",
       "      <th>Height_MM</th>\n",
       "    </tr>\n",
       "  </thead>\n",
       "  <tbody>\n",
       "    <tr>\n",
       "      <th>0</th>\n",
       "      <td>Male</td>\n",
       "      <td>161</td>\n",
       "      <td>89</td>\n",
       "      <td>4</td>\n",
       "      <td>1610</td>\n",
       "    </tr>\n",
       "    <tr>\n",
       "      <th>1</th>\n",
       "      <td>Male</td>\n",
       "      <td>179</td>\n",
       "      <td>127</td>\n",
       "      <td>4</td>\n",
       "      <td>1790</td>\n",
       "    </tr>\n",
       "    <tr>\n",
       "      <th>2</th>\n",
       "      <td>Male</td>\n",
       "      <td>172</td>\n",
       "      <td>139</td>\n",
       "      <td>5</td>\n",
       "      <td>1720</td>\n",
       "    </tr>\n",
       "    <tr>\n",
       "      <th>3</th>\n",
       "      <td>Male</td>\n",
       "      <td>153</td>\n",
       "      <td>104</td>\n",
       "      <td>5</td>\n",
       "      <td>1530</td>\n",
       "    </tr>\n",
       "    <tr>\n",
       "      <th>4</th>\n",
       "      <td>Male</td>\n",
       "      <td>165</td>\n",
       "      <td>68</td>\n",
       "      <td>2</td>\n",
       "      <td>1650</td>\n",
       "    </tr>\n",
       "  </tbody>\n",
       "</table>\n",
       "</div>"
      ],
      "text/plain": [
       "  Gender  Height  Weight  Index  Height_MM\n",
       "0   Male     161      89      4       1610\n",
       "1   Male     179     127      4       1790\n",
       "2   Male     172     139      5       1720\n",
       "3   Male     153     104      5       1530\n",
       "4   Male     165      68      2       1650"
      ]
     },
     "execution_count": 22,
     "metadata": {},
     "output_type": "execute_result"
    }
   ],
   "source": [
    "def my_function(x):\n",
    "    return x * 10\n",
    "\n",
    "df['Height_MM'] = df['Height'].apply(my_function)\n",
    "df.head()"
   ]
  },
  {
   "cell_type": "markdown",
   "id": "5c275ac0-ddcf-46c1-8b08-997a35abc62f",
   "metadata": {},
   "source": [
    "#### 5. Working with Dates and Times:\n",
    "- Utilize the `datetime` module and `pd.to_datetime()` to work with date and time data effectively."
   ]
  },
  {
   "cell_type": "code",
   "execution_count": 38,
   "id": "76f4b651-6ed3-43a9-8bb8-fad67e399aec",
   "metadata": {},
   "outputs": [],
   "source": [
    "data = {\n",
    "    'Product': ['Laptop', 'Smartphone', 'Tablet', 'Smartwatch'],\n",
    "    'Sales': [1000, 500, 300, 250],\n",
    "    'date_column': ['2024-01-15', '2024-02-20', '2024-03-10', '2024-04-25']  # Dates as strings\n",
    "}\n",
    "\n",
    "df = pd.DataFrame(data)"
   ]
  },
  {
   "cell_type": "code",
   "execution_count": 40,
   "id": "963d8f52-06b9-48d2-a9bb-8bd02ba7843e",
   "metadata": {},
   "outputs": [
    {
     "data": {
      "text/plain": [
       "0   2024-01-15\n",
       "1   2024-02-20\n",
       "2   2024-03-10\n",
       "3   2024-04-25\n",
       "Name: date_column, dtype: datetime64[ns]"
      ]
     },
     "execution_count": 40,
     "metadata": {},
     "output_type": "execute_result"
    }
   ],
   "source": [
    "df['date_column'] = pd.to_datetime(df['date_column'])\n",
    "df['date_column']"
   ]
  },
  {
   "cell_type": "markdown",
   "id": "a19cafe2-463c-4b71-af4b-0bf07ee4be48",
   "metadata": {},
   "source": [
    "---"
   ]
  },
  {
   "cell_type": "markdown",
   "id": "11c760e8-fb5a-4e72-b674-fe279a3b6f47",
   "metadata": {},
   "source": [
    "### Exercises:\n",
    "**1. Clean a Dataset:** Load a dataset and handle missing values using the methods discussed."
   ]
  },
  {
   "cell_type": "code",
   "execution_count": 41,
   "id": "4b40ce44-40e8-4620-9dde-7a18ff7a1ae4",
   "metadata": {},
   "outputs": [
    {
     "name": "stderr",
     "output_type": "stream",
     "text": [
      "C:\\Users\\augus\\AppData\\Local\\Temp\\ipykernel_16052\\3355698697.py:2: FutureWarning: DataFrame.fillna with 'method' is deprecated and will raise in a future version. Use obj.ffill() or obj.bfill() instead.\n",
      "  df.fillna(method='ffill', inplace=True)\n"
     ]
    }
   ],
   "source": [
    "df = pd.read_csv('D:/75 Days Challenge/Day_6_bmi_dataset.csv')\n",
    "df.fillna(method='ffill', inplace=True)"
   ]
  },
  {
   "cell_type": "markdown",
   "id": "bdbe85ad-4ea0-4669-885a-97fede13886a",
   "metadata": {},
   "source": [
    "**2. Group Data**: Group the dataset based on categorical columns and calculate aggregations such as mean or sum."
   ]
  },
  {
   "cell_type": "code",
   "execution_count": 43,
   "id": "8fade97e-e24d-4dff-85d9-ca5eab9d9179",
   "metadata": {},
   "outputs": [
    {
     "name": "stdout",
     "output_type": "stream",
     "text": [
      "         Height\n",
      "Gender         \n",
      "Female  170.810\n",
      "Male    169.915\n"
     ]
    }
   ],
   "source": [
    "grouped_data = df.groupby('Gender').agg({'Height': 'mean'})\n",
    "print(grouped_data)"
   ]
  },
  {
   "cell_type": "markdown",
   "id": "c255f553-1bc4-4ca0-9a0b-361bbee3f345",
   "metadata": {},
   "source": [
    "**3. Merge Two DataFrames**: Create two DataFrames and merge them using a common key."
   ]
  },
  {
   "cell_type": "code",
   "execution_count": 45,
   "id": "8a18c2c0-e2b1-4f53-ad51-35e90ec9354d",
   "metadata": {},
   "outputs": [
    {
     "data": {
      "text/html": [
       "<div>\n",
       "<style scoped>\n",
       "    .dataframe tbody tr th:only-of-type {\n",
       "        vertical-align: middle;\n",
       "    }\n",
       "\n",
       "    .dataframe tbody tr th {\n",
       "        vertical-align: top;\n",
       "    }\n",
       "\n",
       "    .dataframe thead th {\n",
       "        text-align: right;\n",
       "    }\n",
       "</style>\n",
       "<table border=\"1\" class=\"dataframe\">\n",
       "  <thead>\n",
       "    <tr style=\"text-align: right;\">\n",
       "      <th></th>\n",
       "      <th>key</th>\n",
       "      <th>value_x</th>\n",
       "      <th>value_y</th>\n",
       "    </tr>\n",
       "  </thead>\n",
       "  <tbody>\n",
       "    <tr>\n",
       "      <th>0</th>\n",
       "      <td>A</td>\n",
       "      <td>1</td>\n",
       "      <td>4</td>\n",
       "    </tr>\n",
       "    <tr>\n",
       "      <th>1</th>\n",
       "      <td>B</td>\n",
       "      <td>2</td>\n",
       "      <td>5</td>\n",
       "    </tr>\n",
       "  </tbody>\n",
       "</table>\n",
       "</div>"
      ],
      "text/plain": [
       "  key  value_x  value_y\n",
       "0   A        1        4\n",
       "1   B        2        5"
      ]
     },
     "execution_count": 45,
     "metadata": {},
     "output_type": "execute_result"
    }
   ],
   "source": [
    "df1 = pd.DataFrame({'key': ['A', 'B', 'C'], 'value': [1, 2, 3]})\n",
    "df2 = pd.DataFrame({'key': ['A', 'B', 'D'], 'value': [4, 5, 6]})\n",
    "merged_df = pd.merge(df1, df2, on='key', how='inner')\n",
    "merged_df"
   ]
  },
  {
   "cell_type": "markdown",
   "id": "42efaea8-672b-4686-bdec-34c9901f8197",
   "metadata": {},
   "source": [
    "---"
   ]
  }
 ],
 "metadata": {
  "kernelspec": {
   "display_name": "Python 3 (ipykernel)",
   "language": "python",
   "name": "python3"
  },
  "language_info": {
   "codemirror_mode": {
    "name": "ipython",
    "version": 3
   },
   "file_extension": ".py",
   "mimetype": "text/x-python",
   "name": "python",
   "nbconvert_exporter": "python",
   "pygments_lexer": "ipython3",
   "version": "3.11.5"
  }
 },
 "nbformat": 4,
 "nbformat_minor": 5
}
