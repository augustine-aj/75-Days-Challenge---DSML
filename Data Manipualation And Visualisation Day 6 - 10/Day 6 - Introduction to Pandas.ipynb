{
 "cells": [
  {
   "cell_type": "markdown",
   "id": "95034bfc-2766-4ec1-bd2a-ecc10bb21c20",
   "metadata": {},
   "source": [
    "# Day 6: Introduction to Pandas\n",
    "---"
   ]
  },
  {
   "cell_type": "markdown",
   "id": "62db9b57-8999-4c99-bedb-ce9602ed0bab",
   "metadata": {},
   "source": [
    "## Objectives:\n",
    "- Get familiar with the basics of Pandas for data manipulation.\n",
    "- Understand how to load data into Pandas DataFrames and perform basic operations."
   ]
  },
  {
   "cell_type": "markdown",
   "id": "bcd2ef86-cba4-417a-8a0c-e6889f504411",
   "metadata": {},
   "source": [
    "---"
   ]
  },
  {
   "cell_type": "markdown",
   "id": "beda6396-e067-4a85-b53f-8909e8805912",
   "metadata": {},
   "source": [
    "## Topics to Cover:\n",
    "### 1. Introduction to Pandas library and DataFrames:\n",
    "- #### What is Pandas?\n",
    "Pandas is an open-source data manipulation and analysis library built on top of NumPy. It provides powerful data structures like `DataFrame` and `Series` to manage and analyze data easily.\n",
    "- #### DataFrame and Series concepts:\n",
    "`DataFrame`: A 2D data structure (like a table with rows and columns) that holds data of different types (strings, integers, floats, etc.).\n",
    "`Series`: A one-dimensional array, often used to represent a single column of data in a DataFrame.\n",
    "- #### Why use Pandas for data analysis?\n",
    "Pandas makes data manipulation and analysis much easier due to its versatile functionality, like reading/writing data from different formats `(CSV, Excel, JSON)`, and its built-in methods for analyzing and processing data."
   ]
  },
  {
   "cell_type": "markdown",
   "id": "c6db9eb9-ec86-4c17-9cec-8da2fb3de043",
   "metadata": {},
   "source": [
    "---"
   ]
  },
  {
   "cell_type": "markdown",
   "id": "62d46d66-eaa7-4854-b37c-271c641ca3d2",
   "metadata": {},
   "source": [
    "### 2. Loading data into Pandas:\n",
    "- #### `pd.read_csv()`: ****Loading data from CSV files****\n",
    "This function allows you to read data from a CSV file and load it into a Pandas DataFrame."
   ]
  },
  {
   "cell_type": "markdown",
   "id": "c1e0092c-8a1c-4928-b6e4-beb9b3e97499",
   "metadata": {},
   "source": [
    "Example:"
   ]
  },
  {
   "cell_type": "code",
   "execution_count": null,
   "id": "c7d8dc8f-f072-4369-8775-ef8dc863a0b8",
   "metadata": {},
   "outputs": [],
   "source": [
    "import pandas as pd\n",
    "df = pd.read_csv('path_to_your_file.csv')"
   ]
  },
  {
   "cell_type": "markdown",
   "id": "04c9ec85-5aae-4912-923b-270dd7cb8514",
   "metadata": {},
   "source": [
    "- #### `pd.read_excel()`: Loading data from Excel files\n",
    "Similarly, you can load data from Excel files with this function."
   ]
  },
  {
   "cell_type": "markdown",
   "id": "3e4eb451-cf33-4578-a63e-ee36eca092d3",
   "metadata": {},
   "source": [
    "Example:"
   ]
  },
  {
   "cell_type": "code",
   "execution_count": null,
   "id": "fc64f79e-dd1d-4e92-8eb0-b1998e6fda82",
   "metadata": {},
   "outputs": [],
   "source": [
    "df = pd.read_excel('path_to_your_file.xlsx')"
   ]
  },
  {
   "cell_type": "markdown",
   "id": "70d8928c-8c1e-40f8-9bfb-0565c1bb3cd3",
   "metadata": {},
   "source": [
    "---"
   ]
  },
  {
   "cell_type": "markdown",
   "id": "98273150-21d9-467e-b7c6-3632aead157f",
   "metadata": {},
   "source": [
    "### 3. Basic operations on DataFrames:"
   ]
  },
  {
   "cell_type": "code",
   "execution_count": 1,
   "id": "44b28c26-9c30-4781-83dc-d5daa3dfc299",
   "metadata": {},
   "outputs": [],
   "source": [
    "import pandas as pd\n",
    "\n",
    "data = {\n",
    "    'Name': ['Alice', 'Bob', 'Charlie', 'David', 'Eva'],\n",
    "    'Age': [25, 30, 35, 40, 45],\n",
    "    'Salary': [50000, 60000, 70000, 80000, 90000],\n",
    "    'Department': ['HR', 'IT', 'Finance', 'IT', 'HR']\n",
    "}\n",
    "\n",
    "df = pd.DataFrame(data)"
   ]
  },
  {
   "cell_type": "markdown",
   "id": "f3435a1f-07f0-4775-aa20-43632843fab0",
   "metadata": {},
   "source": [
    "- #### `head()`: View the first few rows of the dataset"
   ]
  },
  {
   "cell_type": "markdown",
   "id": "3e1332e6-ff89-48e0-8a2a-f266322c4f41",
   "metadata": {},
   "source": [
    "This function helps you preview the first few rows of your dataset, which is useful to check if the data is loaded correctly."
   ]
  },
  {
   "cell_type": "code",
   "execution_count": 2,
   "id": "57abb4e8-25e1-4cb0-861a-428bf9914bda",
   "metadata": {},
   "outputs": [
    {
     "data": {
      "text/html": [
       "<div>\n",
       "<style scoped>\n",
       "    .dataframe tbody tr th:only-of-type {\n",
       "        vertical-align: middle;\n",
       "    }\n",
       "\n",
       "    .dataframe tbody tr th {\n",
       "        vertical-align: top;\n",
       "    }\n",
       "\n",
       "    .dataframe thead th {\n",
       "        text-align: right;\n",
       "    }\n",
       "</style>\n",
       "<table border=\"1\" class=\"dataframe\">\n",
       "  <thead>\n",
       "    <tr style=\"text-align: right;\">\n",
       "      <th></th>\n",
       "      <th>Name</th>\n",
       "      <th>Age</th>\n",
       "      <th>Salary</th>\n",
       "      <th>Department</th>\n",
       "    </tr>\n",
       "  </thead>\n",
       "  <tbody>\n",
       "    <tr>\n",
       "      <th>0</th>\n",
       "      <td>Alice</td>\n",
       "      <td>25</td>\n",
       "      <td>50000</td>\n",
       "      <td>HR</td>\n",
       "    </tr>\n",
       "    <tr>\n",
       "      <th>1</th>\n",
       "      <td>Bob</td>\n",
       "      <td>30</td>\n",
       "      <td>60000</td>\n",
       "      <td>IT</td>\n",
       "    </tr>\n",
       "    <tr>\n",
       "      <th>2</th>\n",
       "      <td>Charlie</td>\n",
       "      <td>35</td>\n",
       "      <td>70000</td>\n",
       "      <td>Finance</td>\n",
       "    </tr>\n",
       "    <tr>\n",
       "      <th>3</th>\n",
       "      <td>David</td>\n",
       "      <td>40</td>\n",
       "      <td>80000</td>\n",
       "      <td>IT</td>\n",
       "    </tr>\n",
       "    <tr>\n",
       "      <th>4</th>\n",
       "      <td>Eva</td>\n",
       "      <td>45</td>\n",
       "      <td>90000</td>\n",
       "      <td>HR</td>\n",
       "    </tr>\n",
       "  </tbody>\n",
       "</table>\n",
       "</div>"
      ],
      "text/plain": [
       "      Name  Age  Salary Department\n",
       "0    Alice   25   50000         HR\n",
       "1      Bob   30   60000         IT\n",
       "2  Charlie   35   70000    Finance\n",
       "3    David   40   80000         IT\n",
       "4      Eva   45   90000         HR"
      ]
     },
     "execution_count": 2,
     "metadata": {},
     "output_type": "execute_result"
    }
   ],
   "source": [
    "df.head()"
   ]
  },
  {
   "cell_type": "markdown",
   "id": "0c5a968b-67c4-45bc-b05b-abee19009a4b",
   "metadata": {},
   "source": [
    "- #### `info()`: Get metadata about the DataFrame\n",
    "This function gives an overview of the DataFrame, showing data types, column names, and the number of non-null entries in each column."
   ]
  },
  {
   "cell_type": "code",
   "execution_count": 3,
   "id": "d359bc54-0711-45f3-b6c7-813a1ac76c08",
   "metadata": {},
   "outputs": [
    {
     "name": "stdout",
     "output_type": "stream",
     "text": [
      "<class 'pandas.core.frame.DataFrame'>\n",
      "RangeIndex: 5 entries, 0 to 4\n",
      "Data columns (total 4 columns):\n",
      " #   Column      Non-Null Count  Dtype \n",
      "---  ------      --------------  ----- \n",
      " 0   Name        5 non-null      object\n",
      " 1   Age         5 non-null      int64 \n",
      " 2   Salary      5 non-null      int64 \n",
      " 3   Department  5 non-null      object\n",
      "dtypes: int64(2), object(2)\n",
      "memory usage: 292.0+ bytes\n"
     ]
    }
   ],
   "source": [
    "df.info()"
   ]
  },
  {
   "cell_type": "markdown",
   "id": "9a9bb9b1-a7e5-4d73-81dc-b0b2c019dbe2",
   "metadata": {},
   "source": [
    "- #### `describe()`: Summary statistics of numerical columns\n",
    "This method provides basic statistics (like mean, standard deviation, min, max) for numerical columns in your DataFrame."
   ]
  },
  {
   "cell_type": "code",
   "execution_count": 4,
   "id": "0bb7863f-06ae-4def-a489-b2f4af8f3b1f",
   "metadata": {},
   "outputs": [
    {
     "data": {
      "text/html": [
       "<div>\n",
       "<style scoped>\n",
       "    .dataframe tbody tr th:only-of-type {\n",
       "        vertical-align: middle;\n",
       "    }\n",
       "\n",
       "    .dataframe tbody tr th {\n",
       "        vertical-align: top;\n",
       "    }\n",
       "\n",
       "    .dataframe thead th {\n",
       "        text-align: right;\n",
       "    }\n",
       "</style>\n",
       "<table border=\"1\" class=\"dataframe\">\n",
       "  <thead>\n",
       "    <tr style=\"text-align: right;\">\n",
       "      <th></th>\n",
       "      <th>Age</th>\n",
       "      <th>Salary</th>\n",
       "    </tr>\n",
       "  </thead>\n",
       "  <tbody>\n",
       "    <tr>\n",
       "      <th>count</th>\n",
       "      <td>5.000000</td>\n",
       "      <td>5.000000</td>\n",
       "    </tr>\n",
       "    <tr>\n",
       "      <th>mean</th>\n",
       "      <td>35.000000</td>\n",
       "      <td>70000.000000</td>\n",
       "    </tr>\n",
       "    <tr>\n",
       "      <th>std</th>\n",
       "      <td>7.905694</td>\n",
       "      <td>15811.388301</td>\n",
       "    </tr>\n",
       "    <tr>\n",
       "      <th>min</th>\n",
       "      <td>25.000000</td>\n",
       "      <td>50000.000000</td>\n",
       "    </tr>\n",
       "    <tr>\n",
       "      <th>25%</th>\n",
       "      <td>30.000000</td>\n",
       "      <td>60000.000000</td>\n",
       "    </tr>\n",
       "    <tr>\n",
       "      <th>50%</th>\n",
       "      <td>35.000000</td>\n",
       "      <td>70000.000000</td>\n",
       "    </tr>\n",
       "    <tr>\n",
       "      <th>75%</th>\n",
       "      <td>40.000000</td>\n",
       "      <td>80000.000000</td>\n",
       "    </tr>\n",
       "    <tr>\n",
       "      <th>max</th>\n",
       "      <td>45.000000</td>\n",
       "      <td>90000.000000</td>\n",
       "    </tr>\n",
       "  </tbody>\n",
       "</table>\n",
       "</div>"
      ],
      "text/plain": [
       "             Age        Salary\n",
       "count   5.000000      5.000000\n",
       "mean   35.000000  70000.000000\n",
       "std     7.905694  15811.388301\n",
       "min    25.000000  50000.000000\n",
       "25%    30.000000  60000.000000\n",
       "50%    35.000000  70000.000000\n",
       "75%    40.000000  80000.000000\n",
       "max    45.000000  90000.000000"
      ]
     },
     "execution_count": 4,
     "metadata": {},
     "output_type": "execute_result"
    }
   ],
   "source": [
    "df.describe()"
   ]
  },
  {
   "cell_type": "markdown",
   "id": "e9693c69-c642-484b-b585-3986ab779609",
   "metadata": {},
   "source": [
    "---"
   ]
  },
  {
   "cell_type": "markdown",
   "id": "84b7d211-534f-4440-a778-7236e023e280",
   "metadata": {},
   "source": [
    "### 4. Accessing rows and columns:\n",
    "- #### Accessing columns directly:\n",
    "You can access a column by using its name as an attribute or as a key."
   ]
  },
  {
   "cell_type": "code",
   "execution_count": 5,
   "id": "32ff6713-9f0a-4148-bd65-6c33e8dac4a8",
   "metadata": {},
   "outputs": [
    {
     "data": {
      "text/plain": [
       "0      Alice\n",
       "1        Bob\n",
       "2    Charlie\n",
       "3      David\n",
       "4        Eva\n",
       "Name: Name, dtype: object"
      ]
     },
     "execution_count": 5,
     "metadata": {},
     "output_type": "execute_result"
    }
   ],
   "source": [
    "df['Name']"
   ]
  },
  {
   "cell_type": "code",
   "execution_count": 6,
   "id": "2a443f4a-9ec4-4b34-ba37-86e1de7ca335",
   "metadata": {},
   "outputs": [
    {
     "data": {
      "text/plain": [
       "0      Alice\n",
       "1        Bob\n",
       "2    Charlie\n",
       "3      David\n",
       "4        Eva\n",
       "Name: Name, dtype: object"
      ]
     },
     "execution_count": 6,
     "metadata": {},
     "output_type": "execute_result"
    }
   ],
   "source": [
    "df.Name"
   ]
  },
  {
   "cell_type": "markdown",
   "id": "49bfe369-29ad-4844-927f-3df610f9ef32",
   "metadata": {},
   "source": [
    "- #### Using `loc[]` for label-based indexing:\n",
    "`loc[]` allows you to access rows and columns by label names (column names or row indices)."
   ]
  },
  {
   "cell_type": "code",
   "execution_count": 7,
   "id": "9e09f904-8fef-4c0c-8ff7-fb846ee1a3b8",
   "metadata": {},
   "outputs": [
    {
     "data": {
      "text/plain": [
       "Name          Alice\n",
       "Age              25\n",
       "Salary        50000\n",
       "Department       HR\n",
       "Name: 0, dtype: object"
      ]
     },
     "execution_count": 7,
     "metadata": {},
     "output_type": "execute_result"
    }
   ],
   "source": [
    "df.loc[0]"
   ]
  },
  {
   "cell_type": "code",
   "execution_count": 8,
   "id": "2e2c690c-07e4-4ee0-aa85-f17d9106a539",
   "metadata": {},
   "outputs": [
    {
     "data": {
      "text/plain": [
       "0    25\n",
       "1    30\n",
       "2    35\n",
       "3    40\n",
       "4    45\n",
       "Name: Age, dtype: int64"
      ]
     },
     "execution_count": 8,
     "metadata": {},
     "output_type": "execute_result"
    }
   ],
   "source": [
    "df.loc[:, 'Age']"
   ]
  },
  {
   "cell_type": "markdown",
   "id": "85becb7c-ce5b-445d-8113-54dd8dfdd60b",
   "metadata": {},
   "source": [
    "- #### Using `iloc[]` for position-based indexing:\n",
    "`iloc[]` works by position (index number) rather than labels."
   ]
  },
  {
   "cell_type": "code",
   "execution_count": 9,
   "id": "027a74e9-5edb-40c8-a2ab-cb31a0550e83",
   "metadata": {},
   "outputs": [
    {
     "data": {
      "text/plain": [
       "Name          Alice\n",
       "Age              25\n",
       "Salary        50000\n",
       "Department       HR\n",
       "Name: 0, dtype: object"
      ]
     },
     "execution_count": 9,
     "metadata": {},
     "output_type": "execute_result"
    }
   ],
   "source": [
    "df.iloc[0]"
   ]
  },
  {
   "cell_type": "code",
   "execution_count": 10,
   "id": "a4b8182d-2037-4313-9369-2a672bd69ef8",
   "metadata": {},
   "outputs": [
    {
     "data": {
      "text/plain": [
       "0      Alice\n",
       "1        Bob\n",
       "2    Charlie\n",
       "3      David\n",
       "4        Eva\n",
       "Name: Name, dtype: object"
      ]
     },
     "execution_count": 10,
     "metadata": {},
     "output_type": "execute_result"
    }
   ],
   "source": [
    "df.iloc[:, 0]"
   ]
  },
  {
   "cell_type": "markdown",
   "id": "8f7367ac-2585-4d1e-a06c-63ee1d2cd488",
   "metadata": {},
   "source": [
    "---"
   ]
  },
  {
   "cell_type": "markdown",
   "id": "e92e3a4a-c67e-4694-bd85-2c9ddccdafa5",
   "metadata": {},
   "source": [
    "### 5. Adding and removing columns:"
   ]
  },
  {
   "cell_type": "code",
   "execution_count": 11,
   "id": "5a7d9f71-f81c-4a12-8a6b-bc523f15c64e",
   "metadata": {},
   "outputs": [],
   "source": [
    "new_df = pd.DataFrame(['John', 'Hob', 'Michael', 'Alex', 'Vincent'], columns=['Last_name'])\n",
    "df = pd.concat([df, new_df], axis=1)"
   ]
  },
  {
   "cell_type": "markdown",
   "id": "64efe8ee-25f1-44f8-a1fa-a4f9da7399b5",
   "metadata": {},
   "source": [
    "- #### Adding a new column:\n",
    "You can add a new column by performing operations on existing columns."
   ]
  },
  {
   "cell_type": "code",
   "execution_count": 12,
   "id": "04d3132d-8716-420f-a3ae-e2a86e37045b",
   "metadata": {},
   "outputs": [
    {
     "data": {
      "text/html": [
       "<div>\n",
       "<style scoped>\n",
       "    .dataframe tbody tr th:only-of-type {\n",
       "        vertical-align: middle;\n",
       "    }\n",
       "\n",
       "    .dataframe tbody tr th {\n",
       "        vertical-align: top;\n",
       "    }\n",
       "\n",
       "    .dataframe thead th {\n",
       "        text-align: right;\n",
       "    }\n",
       "</style>\n",
       "<table border=\"1\" class=\"dataframe\">\n",
       "  <thead>\n",
       "    <tr style=\"text-align: right;\">\n",
       "      <th></th>\n",
       "      <th>Name</th>\n",
       "      <th>Age</th>\n",
       "      <th>Salary</th>\n",
       "      <th>Department</th>\n",
       "      <th>Last_name</th>\n",
       "      <th>Full_name</th>\n",
       "    </tr>\n",
       "  </thead>\n",
       "  <tbody>\n",
       "    <tr>\n",
       "      <th>0</th>\n",
       "      <td>Alice</td>\n",
       "      <td>25</td>\n",
       "      <td>50000</td>\n",
       "      <td>HR</td>\n",
       "      <td>John</td>\n",
       "      <td>AliceJohn</td>\n",
       "    </tr>\n",
       "    <tr>\n",
       "      <th>1</th>\n",
       "      <td>Bob</td>\n",
       "      <td>30</td>\n",
       "      <td>60000</td>\n",
       "      <td>IT</td>\n",
       "      <td>Hob</td>\n",
       "      <td>BobHob</td>\n",
       "    </tr>\n",
       "    <tr>\n",
       "      <th>2</th>\n",
       "      <td>Charlie</td>\n",
       "      <td>35</td>\n",
       "      <td>70000</td>\n",
       "      <td>Finance</td>\n",
       "      <td>Michael</td>\n",
       "      <td>CharlieMichael</td>\n",
       "    </tr>\n",
       "    <tr>\n",
       "      <th>3</th>\n",
       "      <td>David</td>\n",
       "      <td>40</td>\n",
       "      <td>80000</td>\n",
       "      <td>IT</td>\n",
       "      <td>Alex</td>\n",
       "      <td>DavidAlex</td>\n",
       "    </tr>\n",
       "    <tr>\n",
       "      <th>4</th>\n",
       "      <td>Eva</td>\n",
       "      <td>45</td>\n",
       "      <td>90000</td>\n",
       "      <td>HR</td>\n",
       "      <td>Vincent</td>\n",
       "      <td>EvaVincent</td>\n",
       "    </tr>\n",
       "  </tbody>\n",
       "</table>\n",
       "</div>"
      ],
      "text/plain": [
       "      Name  Age  Salary Department Last_name       Full_name\n",
       "0    Alice   25   50000         HR      John       AliceJohn\n",
       "1      Bob   30   60000         IT       Hob          BobHob\n",
       "2  Charlie   35   70000    Finance   Michael  CharlieMichael\n",
       "3    David   40   80000         IT      Alex       DavidAlex\n",
       "4      Eva   45   90000         HR   Vincent      EvaVincent"
      ]
     },
     "execution_count": 12,
     "metadata": {},
     "output_type": "execute_result"
    }
   ],
   "source": [
    "df['Full_name'] = df['Name'] + df['Last_name']\n",
    "df"
   ]
  },
  {
   "cell_type": "markdown",
   "id": "fdbcaba3-a27a-4f45-ad7e-e73c3a9ce399",
   "metadata": {},
   "source": [
    "- #### Removing columns using `drop()`:\n",
    "`drop()` can be used to remove one or more columns from a DataFrame."
   ]
  },
  {
   "cell_type": "code",
   "execution_count": 13,
   "id": "c1f08b86-d60a-4214-8091-a1473ec3297b",
   "metadata": {},
   "outputs": [
    {
     "data": {
      "text/html": [
       "<div>\n",
       "<style scoped>\n",
       "    .dataframe tbody tr th:only-of-type {\n",
       "        vertical-align: middle;\n",
       "    }\n",
       "\n",
       "    .dataframe tbody tr th {\n",
       "        vertical-align: top;\n",
       "    }\n",
       "\n",
       "    .dataframe thead th {\n",
       "        text-align: right;\n",
       "    }\n",
       "</style>\n",
       "<table border=\"1\" class=\"dataframe\">\n",
       "  <thead>\n",
       "    <tr style=\"text-align: right;\">\n",
       "      <th></th>\n",
       "      <th>Name</th>\n",
       "      <th>Age</th>\n",
       "      <th>Salary</th>\n",
       "      <th>Department</th>\n",
       "      <th>Last_name</th>\n",
       "    </tr>\n",
       "  </thead>\n",
       "  <tbody>\n",
       "    <tr>\n",
       "      <th>0</th>\n",
       "      <td>Alice</td>\n",
       "      <td>25</td>\n",
       "      <td>50000</td>\n",
       "      <td>HR</td>\n",
       "      <td>John</td>\n",
       "    </tr>\n",
       "    <tr>\n",
       "      <th>1</th>\n",
       "      <td>Bob</td>\n",
       "      <td>30</td>\n",
       "      <td>60000</td>\n",
       "      <td>IT</td>\n",
       "      <td>Hob</td>\n",
       "    </tr>\n",
       "    <tr>\n",
       "      <th>2</th>\n",
       "      <td>Charlie</td>\n",
       "      <td>35</td>\n",
       "      <td>70000</td>\n",
       "      <td>Finance</td>\n",
       "      <td>Michael</td>\n",
       "    </tr>\n",
       "    <tr>\n",
       "      <th>3</th>\n",
       "      <td>David</td>\n",
       "      <td>40</td>\n",
       "      <td>80000</td>\n",
       "      <td>IT</td>\n",
       "      <td>Alex</td>\n",
       "    </tr>\n",
       "    <tr>\n",
       "      <th>4</th>\n",
       "      <td>Eva</td>\n",
       "      <td>45</td>\n",
       "      <td>90000</td>\n",
       "      <td>HR</td>\n",
       "      <td>Vincent</td>\n",
       "    </tr>\n",
       "  </tbody>\n",
       "</table>\n",
       "</div>"
      ],
      "text/plain": [
       "      Name  Age  Salary Department Last_name\n",
       "0    Alice   25   50000         HR      John\n",
       "1      Bob   30   60000         IT       Hob\n",
       "2  Charlie   35   70000    Finance   Michael\n",
       "3    David   40   80000         IT      Alex\n",
       "4      Eva   45   90000         HR   Vincent"
      ]
     },
     "execution_count": 13,
     "metadata": {},
     "output_type": "execute_result"
    }
   ],
   "source": [
    "df.drop(columns=['Full_name'], inplace=True)\n",
    "df"
   ]
  },
  {
   "cell_type": "markdown",
   "id": "6aa28c80-e935-40e2-850b-c4620e77b1ae",
   "metadata": {},
   "source": [
    "---"
   ]
  },
  {
   "cell_type": "markdown",
   "id": "4a2e049b-e03f-46f0-bb7c-0d16016f3252",
   "metadata": {},
   "source": [
    "### 6. DataFrame slicing, filtering, and sorting:\n",
    "- #### Slicing rows/columns:\n",
    "You can slice specific rows or columns from a DataFrame."
   ]
  },
  {
   "cell_type": "code",
   "execution_count": 14,
   "id": "786cedb5-1555-4a88-9e8e-0cb63f36574a",
   "metadata": {},
   "outputs": [
    {
     "data": {
      "text/html": [
       "<div>\n",
       "<style scoped>\n",
       "    .dataframe tbody tr th:only-of-type {\n",
       "        vertical-align: middle;\n",
       "    }\n",
       "\n",
       "    .dataframe tbody tr th {\n",
       "        vertical-align: top;\n",
       "    }\n",
       "\n",
       "    .dataframe thead th {\n",
       "        text-align: right;\n",
       "    }\n",
       "</style>\n",
       "<table border=\"1\" class=\"dataframe\">\n",
       "  <thead>\n",
       "    <tr style=\"text-align: right;\">\n",
       "      <th></th>\n",
       "      <th>Name</th>\n",
       "      <th>Age</th>\n",
       "      <th>Salary</th>\n",
       "      <th>Department</th>\n",
       "      <th>Last_name</th>\n",
       "    </tr>\n",
       "  </thead>\n",
       "  <tbody>\n",
       "    <tr>\n",
       "      <th>0</th>\n",
       "      <td>Alice</td>\n",
       "      <td>25</td>\n",
       "      <td>50000</td>\n",
       "      <td>HR</td>\n",
       "      <td>John</td>\n",
       "    </tr>\n",
       "    <tr>\n",
       "      <th>1</th>\n",
       "      <td>Bob</td>\n",
       "      <td>30</td>\n",
       "      <td>60000</td>\n",
       "      <td>IT</td>\n",
       "      <td>Hob</td>\n",
       "    </tr>\n",
       "    <tr>\n",
       "      <th>2</th>\n",
       "      <td>Charlie</td>\n",
       "      <td>35</td>\n",
       "      <td>70000</td>\n",
       "      <td>Finance</td>\n",
       "      <td>Michael</td>\n",
       "    </tr>\n",
       "    <tr>\n",
       "      <th>3</th>\n",
       "      <td>David</td>\n",
       "      <td>40</td>\n",
       "      <td>80000</td>\n",
       "      <td>IT</td>\n",
       "      <td>Alex</td>\n",
       "    </tr>\n",
       "    <tr>\n",
       "      <th>4</th>\n",
       "      <td>Eva</td>\n",
       "      <td>45</td>\n",
       "      <td>90000</td>\n",
       "      <td>HR</td>\n",
       "      <td>Vincent</td>\n",
       "    </tr>\n",
       "  </tbody>\n",
       "</table>\n",
       "</div>"
      ],
      "text/plain": [
       "      Name  Age  Salary Department Last_name\n",
       "0    Alice   25   50000         HR      John\n",
       "1      Bob   30   60000         IT       Hob\n",
       "2  Charlie   35   70000    Finance   Michael\n",
       "3    David   40   80000         IT      Alex\n",
       "4      Eva   45   90000         HR   Vincent"
      ]
     },
     "execution_count": 14,
     "metadata": {},
     "output_type": "execute_result"
    }
   ],
   "source": [
    "sliced_df = df.iloc[0:5, :]\n",
    "sliced_df"
   ]
  },
  {
   "cell_type": "markdown",
   "id": "9b0a6d91-2fa7-4166-bf98-429d3185f24c",
   "metadata": {},
   "source": [
    "- #### Filtering DataFrames using conditions:\n",
    "Apply conditions to filter rows in your DataFrame."
   ]
  },
  {
   "cell_type": "code",
   "execution_count": 16,
   "id": "00ffa9ff-13f8-4349-8873-5c9267a14009",
   "metadata": {},
   "outputs": [
    {
     "data": {
      "text/html": [
       "<div>\n",
       "<style scoped>\n",
       "    .dataframe tbody tr th:only-of-type {\n",
       "        vertical-align: middle;\n",
       "    }\n",
       "\n",
       "    .dataframe tbody tr th {\n",
       "        vertical-align: top;\n",
       "    }\n",
       "\n",
       "    .dataframe thead th {\n",
       "        text-align: right;\n",
       "    }\n",
       "</style>\n",
       "<table border=\"1\" class=\"dataframe\">\n",
       "  <thead>\n",
       "    <tr style=\"text-align: right;\">\n",
       "      <th></th>\n",
       "      <th>Name</th>\n",
       "      <th>Age</th>\n",
       "      <th>Salary</th>\n",
       "      <th>Department</th>\n",
       "      <th>Last_name</th>\n",
       "    </tr>\n",
       "  </thead>\n",
       "  <tbody>\n",
       "    <tr>\n",
       "      <th>3</th>\n",
       "      <td>David</td>\n",
       "      <td>40</td>\n",
       "      <td>80000</td>\n",
       "      <td>IT</td>\n",
       "      <td>Alex</td>\n",
       "    </tr>\n",
       "    <tr>\n",
       "      <th>4</th>\n",
       "      <td>Eva</td>\n",
       "      <td>45</td>\n",
       "      <td>90000</td>\n",
       "      <td>HR</td>\n",
       "      <td>Vincent</td>\n",
       "    </tr>\n",
       "  </tbody>\n",
       "</table>\n",
       "</div>"
      ],
      "text/plain": [
       "    Name  Age  Salary Department Last_name\n",
       "3  David   40   80000         IT      Alex\n",
       "4    Eva   45   90000         HR   Vincent"
      ]
     },
     "execution_count": 16,
     "metadata": {},
     "output_type": "execute_result"
    }
   ],
   "source": [
    "filtered_df = df[df['Salary'] > 75000]\n",
    "filtered_df"
   ]
  },
  {
   "cell_type": "markdown",
   "id": "d437b07c-979d-4423-9860-9fa4dbf42708",
   "metadata": {},
   "source": [
    "- #### Sorting DataFrames using sort_values():\n",
    "You can sort the DataFrame by specific columns."
   ]
  },
  {
   "cell_type": "code",
   "execution_count": 19,
   "id": "4aeeaf25-e443-421c-b029-6b2cd50b694d",
   "metadata": {},
   "outputs": [
    {
     "data": {
      "text/html": [
       "<div>\n",
       "<style scoped>\n",
       "    .dataframe tbody tr th:only-of-type {\n",
       "        vertical-align: middle;\n",
       "    }\n",
       "\n",
       "    .dataframe tbody tr th {\n",
       "        vertical-align: top;\n",
       "    }\n",
       "\n",
       "    .dataframe thead th {\n",
       "        text-align: right;\n",
       "    }\n",
       "</style>\n",
       "<table border=\"1\" class=\"dataframe\">\n",
       "  <thead>\n",
       "    <tr style=\"text-align: right;\">\n",
       "      <th></th>\n",
       "      <th>Name</th>\n",
       "      <th>Age</th>\n",
       "      <th>Salary</th>\n",
       "      <th>Department</th>\n",
       "      <th>Last_name</th>\n",
       "    </tr>\n",
       "  </thead>\n",
       "  <tbody>\n",
       "    <tr>\n",
       "      <th>4</th>\n",
       "      <td>Eva</td>\n",
       "      <td>45</td>\n",
       "      <td>90000</td>\n",
       "      <td>HR</td>\n",
       "      <td>Vincent</td>\n",
       "    </tr>\n",
       "    <tr>\n",
       "      <th>3</th>\n",
       "      <td>David</td>\n",
       "      <td>40</td>\n",
       "      <td>80000</td>\n",
       "      <td>IT</td>\n",
       "      <td>Alex</td>\n",
       "    </tr>\n",
       "    <tr>\n",
       "      <th>2</th>\n",
       "      <td>Charlie</td>\n",
       "      <td>35</td>\n",
       "      <td>70000</td>\n",
       "      <td>Finance</td>\n",
       "      <td>Michael</td>\n",
       "    </tr>\n",
       "    <tr>\n",
       "      <th>1</th>\n",
       "      <td>Bob</td>\n",
       "      <td>30</td>\n",
       "      <td>60000</td>\n",
       "      <td>IT</td>\n",
       "      <td>Hob</td>\n",
       "    </tr>\n",
       "    <tr>\n",
       "      <th>0</th>\n",
       "      <td>Alice</td>\n",
       "      <td>25</td>\n",
       "      <td>50000</td>\n",
       "      <td>HR</td>\n",
       "      <td>John</td>\n",
       "    </tr>\n",
       "  </tbody>\n",
       "</table>\n",
       "</div>"
      ],
      "text/plain": [
       "      Name  Age  Salary Department Last_name\n",
       "4      Eva   45   90000         HR   Vincent\n",
       "3    David   40   80000         IT      Alex\n",
       "2  Charlie   35   70000    Finance   Michael\n",
       "1      Bob   30   60000         IT       Hob\n",
       "0    Alice   25   50000         HR      John"
      ]
     },
     "execution_count": 19,
     "metadata": {},
     "output_type": "execute_result"
    }
   ],
   "source": [
    "sorted_df = df.sort_values(by='Salary', ascending=False)\n",
    "sorted_df"
   ]
  },
  {
   "cell_type": "markdown",
   "id": "8876f0db-3c96-4750-81fe-fc96555557bc",
   "metadata": {},
   "source": [
    "---"
   ]
  },
  {
   "cell_type": "markdown",
   "id": "3505d66e-656b-4b0e-83ac-a69c2d7bd032",
   "metadata": {},
   "source": [
    "## Exercises:\n",
    "### 1. Load a dataset:\n",
    "Load a dataset from a CSV file (for example, the Titanic dataset) and inspect the first few rows using `head()`."
   ]
  },
  {
   "cell_type": "code",
   "execution_count": 35,
   "id": "dbd8d67e-d548-46d7-97f3-1d593dfccd9d",
   "metadata": {},
   "outputs": [
    {
     "data": {
      "text/html": [
       "<div>\n",
       "<style scoped>\n",
       "    .dataframe tbody tr th:only-of-type {\n",
       "        vertical-align: middle;\n",
       "    }\n",
       "\n",
       "    .dataframe tbody tr th {\n",
       "        vertical-align: top;\n",
       "    }\n",
       "\n",
       "    .dataframe thead th {\n",
       "        text-align: right;\n",
       "    }\n",
       "</style>\n",
       "<table border=\"1\" class=\"dataframe\">\n",
       "  <thead>\n",
       "    <tr style=\"text-align: right;\">\n",
       "      <th></th>\n",
       "      <th>Gender</th>\n",
       "      <th>Height</th>\n",
       "      <th>Weight</th>\n",
       "      <th>Index</th>\n",
       "    </tr>\n",
       "  </thead>\n",
       "  <tbody>\n",
       "    <tr>\n",
       "      <th>0</th>\n",
       "      <td>Male</td>\n",
       "      <td>161</td>\n",
       "      <td>89</td>\n",
       "      <td>4</td>\n",
       "    </tr>\n",
       "    <tr>\n",
       "      <th>1</th>\n",
       "      <td>Male</td>\n",
       "      <td>179</td>\n",
       "      <td>127</td>\n",
       "      <td>4</td>\n",
       "    </tr>\n",
       "    <tr>\n",
       "      <th>2</th>\n",
       "      <td>Male</td>\n",
       "      <td>172</td>\n",
       "      <td>139</td>\n",
       "      <td>5</td>\n",
       "    </tr>\n",
       "    <tr>\n",
       "      <th>3</th>\n",
       "      <td>Male</td>\n",
       "      <td>153</td>\n",
       "      <td>104</td>\n",
       "      <td>5</td>\n",
       "    </tr>\n",
       "    <tr>\n",
       "      <th>4</th>\n",
       "      <td>Male</td>\n",
       "      <td>165</td>\n",
       "      <td>68</td>\n",
       "      <td>2</td>\n",
       "    </tr>\n",
       "  </tbody>\n",
       "</table>\n",
       "</div>"
      ],
      "text/plain": [
       "  Gender  Height  Weight  Index\n",
       "0   Male     161      89      4\n",
       "1   Male     179     127      4\n",
       "2   Male     172     139      5\n",
       "3   Male     153     104      5\n",
       "4   Male     165      68      2"
      ]
     },
     "execution_count": 35,
     "metadata": {},
     "output_type": "execute_result"
    }
   ],
   "source": [
    "import pandas as pd\n",
    "df = pd.read_csv(\"Day_6_bmi_dataset.csv\")\n",
    "df.head()"
   ]
  },
  {
   "cell_type": "markdown",
   "id": "4b6ae6e2-77a3-46c5-8bfe-c2885408fc0b",
   "metadata": {},
   "source": [
    "#### Explanation:\n",
    "This reads the Titanic dataset from a CSV file into a Pandas DataFrame and displays the first 5 rows using the `head()` method."
   ]
  },
  {
   "cell_type": "markdown",
   "id": "7bb17ac2-171c-4ddc-97d4-067aa92c8b6c",
   "metadata": {},
   "source": [
    "### 2. Perform basic column-wise operations:\n",
    "- Add a new column by performing an operation on existing columns (for example, calculating `BMI` from height and weight)."
   ]
  },
  {
   "cell_type": "code",
   "execution_count": 36,
   "id": "f0ac4425-3adb-4de4-87e8-12aab75e804c",
   "metadata": {},
   "outputs": [
    {
     "data": {
      "text/html": [
       "<div>\n",
       "<style scoped>\n",
       "    .dataframe tbody tr th:only-of-type {\n",
       "        vertical-align: middle;\n",
       "    }\n",
       "\n",
       "    .dataframe tbody tr th {\n",
       "        vertical-align: top;\n",
       "    }\n",
       "\n",
       "    .dataframe thead th {\n",
       "        text-align: right;\n",
       "    }\n",
       "</style>\n",
       "<table border=\"1\" class=\"dataframe\">\n",
       "  <thead>\n",
       "    <tr style=\"text-align: right;\">\n",
       "      <th></th>\n",
       "      <th>Gender</th>\n",
       "      <th>Height</th>\n",
       "      <th>Weight</th>\n",
       "      <th>Index</th>\n",
       "      <th>BMI</th>\n",
       "    </tr>\n",
       "  </thead>\n",
       "  <tbody>\n",
       "    <tr>\n",
       "      <th>0</th>\n",
       "      <td>Male</td>\n",
       "      <td>161</td>\n",
       "      <td>89</td>\n",
       "      <td>4</td>\n",
       "      <td>34.335095</td>\n",
       "    </tr>\n",
       "    <tr>\n",
       "      <th>1</th>\n",
       "      <td>Male</td>\n",
       "      <td>179</td>\n",
       "      <td>127</td>\n",
       "      <td>4</td>\n",
       "      <td>39.636715</td>\n",
       "    </tr>\n",
       "    <tr>\n",
       "      <th>2</th>\n",
       "      <td>Male</td>\n",
       "      <td>172</td>\n",
       "      <td>139</td>\n",
       "      <td>5</td>\n",
       "      <td>46.984857</td>\n",
       "    </tr>\n",
       "    <tr>\n",
       "      <th>3</th>\n",
       "      <td>Male</td>\n",
       "      <td>153</td>\n",
       "      <td>104</td>\n",
       "      <td>5</td>\n",
       "      <td>44.427357</td>\n",
       "    </tr>\n",
       "    <tr>\n",
       "      <th>4</th>\n",
       "      <td>Male</td>\n",
       "      <td>165</td>\n",
       "      <td>68</td>\n",
       "      <td>2</td>\n",
       "      <td>24.977043</td>\n",
       "    </tr>\n",
       "  </tbody>\n",
       "</table>\n",
       "</div>"
      ],
      "text/plain": [
       "  Gender  Height  Weight  Index        BMI\n",
       "0   Male     161      89      4  34.335095\n",
       "1   Male     179     127      4  39.636715\n",
       "2   Male     172     139      5  46.984857\n",
       "3   Male     153     104      5  44.427357\n",
       "4   Male     165      68      2  24.977043"
      ]
     },
     "execution_count": 36,
     "metadata": {},
     "output_type": "execute_result"
    }
   ],
   "source": [
    "df['BMI'] = df['Weight'] / (df['Height'] / 100) ** 2\n",
    "df.head()"
   ]
  },
  {
   "cell_type": "markdown",
   "id": "565df467-ed34-4378-aaf3-46e14b3b3d17",
   "metadata": {},
   "source": [
    "### Explanation:\n",
    "This adds a new column called `BMI` by dividing the weight by the square of the height in meters.\n",
    "\n",
    "- Remove an unnecessary column (e.g., drop the `Gender` column)."
   ]
  },
  {
   "cell_type": "code",
   "execution_count": 37,
   "id": "9ff36f4d-4cdc-4b0b-90cd-0448c0a58bbe",
   "metadata": {},
   "outputs": [
    {
     "data": {
      "text/html": [
       "<div>\n",
       "<style scoped>\n",
       "    .dataframe tbody tr th:only-of-type {\n",
       "        vertical-align: middle;\n",
       "    }\n",
       "\n",
       "    .dataframe tbody tr th {\n",
       "        vertical-align: top;\n",
       "    }\n",
       "\n",
       "    .dataframe thead th {\n",
       "        text-align: right;\n",
       "    }\n",
       "</style>\n",
       "<table border=\"1\" class=\"dataframe\">\n",
       "  <thead>\n",
       "    <tr style=\"text-align: right;\">\n",
       "      <th></th>\n",
       "      <th>Height</th>\n",
       "      <th>Weight</th>\n",
       "      <th>Index</th>\n",
       "      <th>BMI</th>\n",
       "    </tr>\n",
       "  </thead>\n",
       "  <tbody>\n",
       "    <tr>\n",
       "      <th>0</th>\n",
       "      <td>161</td>\n",
       "      <td>89</td>\n",
       "      <td>4</td>\n",
       "      <td>34.335095</td>\n",
       "    </tr>\n",
       "    <tr>\n",
       "      <th>1</th>\n",
       "      <td>179</td>\n",
       "      <td>127</td>\n",
       "      <td>4</td>\n",
       "      <td>39.636715</td>\n",
       "    </tr>\n",
       "    <tr>\n",
       "      <th>2</th>\n",
       "      <td>172</td>\n",
       "      <td>139</td>\n",
       "      <td>5</td>\n",
       "      <td>46.984857</td>\n",
       "    </tr>\n",
       "    <tr>\n",
       "      <th>3</th>\n",
       "      <td>153</td>\n",
       "      <td>104</td>\n",
       "      <td>5</td>\n",
       "      <td>44.427357</td>\n",
       "    </tr>\n",
       "    <tr>\n",
       "      <th>4</th>\n",
       "      <td>165</td>\n",
       "      <td>68</td>\n",
       "      <td>2</td>\n",
       "      <td>24.977043</td>\n",
       "    </tr>\n",
       "  </tbody>\n",
       "</table>\n",
       "</div>"
      ],
      "text/plain": [
       "   Height  Weight  Index        BMI\n",
       "0     161      89      4  34.335095\n",
       "1     179     127      4  39.636715\n",
       "2     172     139      5  46.984857\n",
       "3     153     104      5  44.427357\n",
       "4     165      68      2  24.977043"
      ]
     },
     "execution_count": 37,
     "metadata": {},
     "output_type": "execute_result"
    }
   ],
   "source": [
    "df = df.drop(columns=['Gender'])\n",
    "df.head()"
   ]
  },
  {
   "cell_type": "markdown",
   "id": "bed7578a-78ca-499e-8318-3c2b0c371974",
   "metadata": {},
   "source": [
    "#### Explanation:\n",
    "This removes the `Gender` column from the DataFrame using the `drop()` function."
   ]
  },
  {
   "cell_type": "markdown",
   "id": "db13afc7-e94c-47b0-9c13-45859f7f6224",
   "metadata": {},
   "source": [
    "### 3. Sort the dataset:\n",
    "- Sort the dataset based on a specific column (for example, sort by the `Index` column in descending order)."
   ]
  },
  {
   "cell_type": "code",
   "execution_count": 39,
   "id": "d4cef698-1007-4edb-ba2b-9f0ec620da14",
   "metadata": {},
   "outputs": [
    {
     "data": {
      "text/html": [
       "<div>\n",
       "<style scoped>\n",
       "    .dataframe tbody tr th:only-of-type {\n",
       "        vertical-align: middle;\n",
       "    }\n",
       "\n",
       "    .dataframe tbody tr th {\n",
       "        vertical-align: top;\n",
       "    }\n",
       "\n",
       "    .dataframe thead th {\n",
       "        text-align: right;\n",
       "    }\n",
       "</style>\n",
       "<table border=\"1\" class=\"dataframe\">\n",
       "  <thead>\n",
       "    <tr style=\"text-align: right;\">\n",
       "      <th></th>\n",
       "      <th>Height</th>\n",
       "      <th>Weight</th>\n",
       "      <th>Index</th>\n",
       "      <th>BMI</th>\n",
       "    </tr>\n",
       "  </thead>\n",
       "  <tbody>\n",
       "    <tr>\n",
       "      <th>200</th>\n",
       "      <td>186</td>\n",
       "      <td>146</td>\n",
       "      <td>5</td>\n",
       "      <td>42.201411</td>\n",
       "    </tr>\n",
       "    <tr>\n",
       "      <th>229</th>\n",
       "      <td>151</td>\n",
       "      <td>154</td>\n",
       "      <td>5</td>\n",
       "      <td>67.540897</td>\n",
       "    </tr>\n",
       "    <tr>\n",
       "      <th>188</th>\n",
       "      <td>142</td>\n",
       "      <td>91</td>\n",
       "      <td>5</td>\n",
       "      <td>45.129935</td>\n",
       "    </tr>\n",
       "    <tr>\n",
       "      <th>191</th>\n",
       "      <td>168</td>\n",
       "      <td>143</td>\n",
       "      <td>5</td>\n",
       "      <td>50.666100</td>\n",
       "    </tr>\n",
       "    <tr>\n",
       "      <th>196</th>\n",
       "      <td>144</td>\n",
       "      <td>88</td>\n",
       "      <td>5</td>\n",
       "      <td>42.438272</td>\n",
       "    </tr>\n",
       "  </tbody>\n",
       "</table>\n",
       "</div>"
      ],
      "text/plain": [
       "     Height  Weight  Index        BMI\n",
       "200     186     146      5  42.201411\n",
       "229     151     154      5  67.540897\n",
       "188     142      91      5  45.129935\n",
       "191     168     143      5  50.666100\n",
       "196     144      88      5  42.438272"
      ]
     },
     "execution_count": 39,
     "metadata": {},
     "output_type": "execute_result"
    }
   ],
   "source": [
    "sorted_df = df.sort_values(by='Index', ascending=False)\n",
    "sorted_df.head()"
   ]
  },
  {
   "cell_type": "markdown",
   "id": "5f90b580-67af-4174-a9f2-6a89b783738b",
   "metadata": {},
   "source": [
    "#### Explanation:\n",
    "This sorts the DataFrame by the Age column in descending order and displays the first 5 rows of the sorted DataFrame."
   ]
  },
  {
   "cell_type": "markdown",
   "id": "f02355a8-609c-47d2-a301-99c61b177fba",
   "metadata": {},
   "source": [
    "---"
   ]
  },
  {
   "cell_type": "markdown",
   "id": "7d08f083-9088-40bd-b314-a5dcbef54096",
   "metadata": {},
   "source": [
    "## Conclusion:\n",
    "On Day 6, we explored the fundamentals of the Pandas library, a powerful tool for data manipulation and analysis in Python. We learned how to load data into DataFrames, perform basic operations such as inspecting datasets, accessing rows and columns, and adding or removing data. Additionally, we covered methods for filtering, slicing, and sorting DataFrames. With these foundational skills, you can efficiently manage and analyze large datasets, setting the stage for more advanced data analysis techniques in the future."
   ]
  },
  {
   "cell_type": "markdown",
   "id": "4b443dbd-4321-4e02-bff3-a1fca0c9b050",
   "metadata": {},
   "source": [
    "***"
   ]
  },
  {
   "cell_type": "code",
   "execution_count": null,
   "id": "63ab24ea-cd64-4a8c-80fd-bbafe97a8f71",
   "metadata": {},
   "outputs": [],
   "source": []
  }
 ],
 "metadata": {
  "kernelspec": {
   "display_name": "Python 3 (ipykernel)",
   "language": "python",
   "name": "python3"
  },
  "language_info": {
   "codemirror_mode": {
    "name": "ipython",
    "version": 3
   },
   "file_extension": ".py",
   "mimetype": "text/x-python",
   "name": "python",
   "nbconvert_exporter": "python",
   "pygments_lexer": "ipython3",
   "version": "3.11.5"
  }
 },
 "nbformat": 4,
 "nbformat_minor": 5
}
