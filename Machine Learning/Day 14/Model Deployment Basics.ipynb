{
 "cells": [
  {
   "cell_type": "markdown",
   "id": "2b91cb51-72ee-4ffd-b2b7-34f6a5af2107",
   "metadata": {},
   "source": [
    "# Model Deployment Basics\n",
    "\n",
    "Model deployment is the final step in the machine learning pipeline, where the trained model is made available for real-world use. This involves creating a user-friendly interface for others to input data and receive predictions.\n",
    "\n",
    "## Key Concepts:\n",
    "### Model Deployment:\n",
    "\n",
    "The process of integrating a machine learning model into a production environment where it can be accessed by end users or systems.\n",
    "Common tools include Flask, Streamlit, or FastAPI for creating web applications.\n",
    "### Model Serialization:\n",
    "\n",
    "- Saving the trained model so it can be reused without retraining.\n",
    "- Use Python libraries such as:\n",
    "- #### joblib: \n",
    "Efficient for large models (e.g., Decision Trees, Random Forest).\n",
    "- #### pickle: \n",
    "Versatile for general-purpose serialization.\n",
    "### Building an App for Prediction:\n",
    "\n",
    "- ***Use Flask*** : A lightweight web framework for Python to create REST APIs.\n",
    "- ***Use Streamlit*** : A library to quickly create interactive web applications for data science projects."
   ]
  },
  {
   "cell_type": "markdown",
   "id": "228f2843-b600-4bfe-a9ef-52c37344d4d1",
   "metadata": {},
   "source": [
    "--- "
   ]
  },
  {
   "cell_type": "markdown",
   "id": "9564945c-36ad-4ee8-afb4-96a1b11aec09",
   "metadata": {},
   "source": [
    "## Practical Steps:\n",
    "### 1. Saving the Trained Model\n",
    "- After training your model, save it for future use:"
   ]
  },
  {
   "cell_type": "code",
   "execution_count": null,
   "id": "b6bb5bd0-37fe-40ef-845d-56918faa2c8c",
   "metadata": {},
   "outputs": [],
   "source": [
    "import joblib\n",
    "\n",
    "joblib.dump(model, 'churn_model.pkl')\n",
    "print(\"Model saved as churn_model.pkl\")"
   ]
  },
  {
   "cell_type": "markdown",
   "id": "7537b2d9-0d07-4c88-bd4c-95eee8fda797",
   "metadata": {},
   "source": [
    "### 2. Creating a Basic Flask App\n",
    "- Example of a simple Flask app for predictions:"
   ]
  },
  {
   "cell_type": "code",
   "execution_count": null,
   "id": "40cb81bd-71a2-48c7-8fe0-bea0856fbf1b",
   "metadata": {},
   "outputs": [],
   "source": [
    "from flask import Flask, request, jsonify\n",
    "import joblib\n",
    "import numpy as np\n",
    "\n",
    "app = Flask(__name__)\n",
    "model = joblib.load('churn_model.pkl') \n",
    "\n",
    "@app.route('/predict', methods=['POST'])\n",
    "def predict():\n",
    "    data = request.get_json() \n",
    "    features = np.array(data['features']).reshape(1, -1)\n",
    "    prediction = model.predict(features)[0]\n",
    "    return jsonify({'prediction': int(prediction)})\n",
    "\n",
    "if __name__ == '__main__':\n",
    "    app.run(debug=True)"
   ]
  },
  {
   "cell_type": "markdown",
   "id": "dd5efe89-34ab-4d03-8c4c-ba47f4892a5e",
   "metadata": {},
   "source": [
    "### 3. Creating a Basic Streamlit App\n",
    "- Example of a Streamlit app for predictions:"
   ]
  },
  {
   "cell_type": "code",
   "execution_count": null,
   "id": "4135c644-8358-4fb8-98ce-94d609a7a0d6",
   "metadata": {},
   "outputs": [],
   "source": [
    "import streamlit as st\n",
    "import joblib\n",
    "import numpy as np\n",
    "\n",
    "model = joblib.load('churn_model.pkl')\n",
    "\n",
    "st.title(\"Customer Churn Prediction\")\n",
    "st.write(\"Enter customer data to predict churn:\")\n",
    "\n",
    "age = st.number_input(\"Age\", min_value=18, max_value=100)\n",
    "monthly_charges = st.number_input(\"Monthly Charges\", min_value=0.0)\n",
    "contract_type = st.selectbox(\"Contract Type\", [\"Month-to-month\", \"One year\", \"Two year\"])\n",
    "\n",
    "if st.button(\"Predict\"):\n",
    "    # Convert inputs into a feature vector\n",
    "    features = np.array([age, monthly_charges, contract_type])\n",
    "    prediction = model.predict([features])[0]\n",
    "    st.write(f\"Prediction: {'Churn' if prediction == 1 else 'No Churn'}\")"
   ]
  },
  {
   "cell_type": "markdown",
   "id": "4c517232-9f31-4595-9a0b-78b3220fb403",
   "metadata": {},
   "source": [
    "### 4. Running the App\n",
    "- For Flask, run the Python script and access the app at http://127.0.0.1:5000.\n",
    "\n",
    "- For Streamlit, use the command:\n",
    "\n",
    "```streamlit run app.py```\n"
   ]
  },
  {
   "cell_type": "code",
   "execution_count": null,
   "id": "21ade4bc-afcb-4a45-83a0-f27a37f78037",
   "metadata": {},
   "outputs": [],
   "source": [
    "## Key Takeaways:\n",
    "- Serialization: Save models using joblib or pickle for reuse.\n",
    "- Frameworks: Use Flask for REST APIs or Streamlit for interactive apps.\n",
    "Deployment Goal: Make your model accessible and user-friendly for real-world applications.\n",
    "This is the first step towards deploying machine learning solutions, enabling integration into larger systems or as standalone applications!"
   ]
  }
 ],
 "metadata": {
  "kernelspec": {
   "display_name": "Python 3 (ipykernel)",
   "language": "python",
   "name": "python3"
  },
  "language_info": {
   "codemirror_mode": {
    "name": "ipython",
    "version": 3
   },
   "file_extension": ".py",
   "mimetype": "text/x-python",
   "name": "python",
   "nbconvert_exporter": "python",
   "pygments_lexer": "ipython3",
   "version": "3.11.5"
  }
 },
 "nbformat": 4,
 "nbformat_minor": 5
}
