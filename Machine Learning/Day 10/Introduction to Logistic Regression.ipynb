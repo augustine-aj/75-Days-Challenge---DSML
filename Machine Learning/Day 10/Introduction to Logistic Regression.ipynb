{
 "cells": [
  {
   "cell_type": "markdown",
   "id": "24fc394c-e37c-482e-99f1-0cd1193d000f",
   "metadata": {},
   "source": [
    "# Introduction to Logistic Regression\n",
    "\n",
    "Logistic Regression is a supervised learning algorithm primarily used for binary classification tasks. It predicts the probability of an instance belonging to a specific class and is widely applied in areas such as spam detection, churn prediction, and medical diagnosis.\n",
    "\n",
    "## Key Concepts\n",
    "\n",
    "### Logistic Regression\n",
    "- Unlike linear regression, logistic regression predicts probabilities instead of continuous values.\n",
    "- It utilizes the sigmoid function to map predicted values into a range between 0 and 1.\n",
    "\n",
    "### Sigmoid Function\n",
    "The sigmoid function is defined as:\n",
    "\n",
    "$$\n",
    "\\sigma(z) = \\frac{1}{1 + e^{-z}}\n",
    "$$\n",
    "\n",
    "Where \\( z \\) is the linear combination of features and coefficients:\n",
    "\n",
    "$$\n",
    "z = \\beta_0 + \\beta_1 X_1 + \\beta_2 X_2 + \\dots + \\beta_n X_n\n",
    "$$\n",
    "\n",
    "### Decision Threshold\n",
    "- The output of the sigmoid function is interpreted as a probability.\n",
    "- A threshold is used to determine class predictions:"
   ]
  },
  {
   "cell_type": "markdown",
   "id": "39971b2a-25a1-4efb-b9b3-dea502b77f02",
   "metadata": {},
   "source": [
    "   - If σ(z) >= 0.5: Class 1.\r",
    "   \n",
    "- If σ(z) < 0.5: Class 0\r\n"
   ]
  },
  {
   "cell_type": "markdown",
   "id": "a7a5d05d-9369-45c7-a1ea-83f6f516fcb7",
   "metadata": {},
   "source": [
    "### Evaluation Metrics\n",
    "1. **Confusion Matrix**: Summarizes the following:\n",
    "   - True Positives (TP)\n",
    "   - True Negatives (TN)\n",
    "   - False Positives (FP)\n",
    "   - False Negatives (FN)\n",
    "   \n",
    "2. **Classification Metrics**:\n",
    "   - **Accuracy**: Proportion of correctly classified instances.\n",
    "   - **Precision**: Ratio of true positives to the total predicted positives.\n",
    "   - **Recall**: Ratio of true positives to the total actual positives.\n",
    "   - **F1-Score**: Harmonic mean of precision and recall."
   ]
  },
  {
   "cell_type": "code",
   "execution_count": null,
   "id": "bfddc831-a3ce-4642-a13d-bed8d346282f",
   "metadata": {},
   "outputs": [],
   "source": [
    "--- "
   ]
  },
  {
   "cell_type": "markdown",
   "id": "0354782d-4552-4340-bee6-620db6a876c8",
   "metadata": {},
   "source": [
    "## Practical Implementation\n",
    "### Step 1: Import Libraries"
   ]
  },
  {
   "cell_type": "code",
   "execution_count": 1,
   "id": "b4730453-1510-4cc0-bca5-86710dd6570b",
   "metadata": {},
   "outputs": [],
   "source": [
    "import pandas as pd\n",
    "from sklearn.model_selection import train_test_split\n",
    "from sklearn.linear_model import LogisticRegression\n",
    "from sklearn.metrics import confusion_matrix, classification_report\n",
    "import matplotlib.pyplot as plt\n",
    "import seaborn as sns"
   ]
  },
  {
   "cell_type": "markdown",
   "id": "2d02eb48-a150-456d-a6f0-44709de31da6",
   "metadata": {},
   "source": [
    "### Step 2: Load and Preprocess Data"
   ]
  },
  {
   "cell_type": "code",
   "execution_count": 2,
   "id": "ff8db792-99c2-494a-9298-b3f894278129",
   "metadata": {},
   "outputs": [],
   "source": [
    "data = pd.DataFrame({\n",
    "    'Age': [22, 25, 47, 52, 46, 56, 55, 60, 62, 61],\n",
    "    'Contract': [1, 0, 1, 1, 0, 1, 0, 1, 1, 0],\n",
    "    'MonthlyCharges': [29, 35, 70, 90, 55, 85, 65, 95, 120, 100],\n",
    "    'Churn': [0, 0, 1, 1, 0, 1, 0, 1, 1, 1]\n",
    "})\n",
    "\n",
    "X = data[['Age', 'Contract', 'MonthlyCharges']]\n",
    "y = data['Churn']\n",
    "\n",
    "X_train, X_test, y_train, y_test = train_test_split(X, y, test_size=0.2, random_state=42)"
   ]
  },
  {
   "cell_type": "markdown",
   "id": "1eecdac0-8af4-41c4-a2a7-c4f887e6ff40",
   "metadata": {},
   "source": [
    "### Step 3: Train Logistic Regression Model"
   ]
  },
  {
   "cell_type": "code",
   "execution_count": 3,
   "id": "2a3cf052-a228-4140-be26-2dfc977aa194",
   "metadata": {},
   "outputs": [],
   "source": [
    "model = LogisticRegression()\n",
    "model.fit(X_train, y_train)\n",
    "\n",
    "y_pred = model.predict(X_test)\n",
    "y_prob = model.predict_proba(X_test)[:, 1]"
   ]
  },
  {
   "cell_type": "markdown",
   "id": "8d6f62b9-224b-438d-8c57-73a0351f265b",
   "metadata": {},
   "source": [
    "### Step 4: Evaluate the Model"
   ]
  },
  {
   "cell_type": "code",
   "execution_count": 4,
   "id": "8cfbf023-d6c4-41c0-ac91-15baa4c1ae17",
   "metadata": {},
   "outputs": [
    {
     "name": "stdout",
     "output_type": "stream",
     "text": [
      "Confusion Matrix:\n",
      "[[1 0]\n",
      " [0 1]]\n",
      "Classification Report:\n",
      "              precision    recall  f1-score   support\n",
      "\n",
      "           0       1.00      1.00      1.00         1\n",
      "           1       1.00      1.00      1.00         1\n",
      "\n",
      "    accuracy                           1.00         2\n",
      "   macro avg       1.00      1.00      1.00         2\n",
      "weighted avg       1.00      1.00      1.00         2\n",
      "\n"
     ]
    },
    {
     "data": {
      "image/png": "[encoded data removed]",
      "text/plain": [
       "<Figure size 600x400 with 2 Axes>"
      ]
     },
     "metadata": {},
     "output_type": "display_data"
    }
   ],
   "source": [
    "conf_matrix = confusion_matrix(y_test, y_pred)\n",
    "print(\"Confusion Matrix:\")\n",
    "print(conf_matrix)\n",
    "\n",
    "print(\"Classification Report:\")\n",
    "print(classification_report(y_test, y_pred))\n",
    "\n",
    "plt.figure(figsize=(6, 4))\n",
    "sns.heatmap(conf_matrix, annot=True, fmt=\"d\", cmap=\"Blues\", xticklabels=['No Churn', 'Churn'], yticklabels=['No Churn', 'Churn'])\n",
    "plt.ylabel('Actual')\n",
    "plt.xlabel('Predicted')\n",
    "plt.title('Confusion Matrix')\n",
    "plt.show()"
   ]
  },
  {
   "cell_type": "markdown",
   "id": "e99c293e-62e0-4965-a09a-d4de781d83d0",
   "metadata": {},
   "source": [
    "---"
   ]
  },
  {
   "cell_type": "markdown",
   "id": "101ef016-a136-4f8c-9bd6-c3ebf2002448",
   "metadata": {},
   "source": [
    "### Takeaways\n",
    "1. Logistic regression is a simple yet powerful technique for binary classification problems.\n",
    "2. Evaluating the model with metrics like **precision, recall,"
   ]
  },
  {
   "cell_type": "markdown",
   "id": "99271fa4-90d7-46f8-bf59-16c77c1080e9",
   "metadata": {},
   "source": [
    "---"
   ]
  },
  {
   "cell_type": "code",
   "execution_count": null,
   "id": "c4eb8289-7e64-4787-853e-cd06ecaabc3a",
   "metadata": {},
   "outputs": [],
   "source": []
  }
 ],
 "metadata": {
  "kernelspec": {
   "display_name": "Python 3 (ipykernel)",
   "language": "python",
   "name": "python3"
  },
  "language_info": {
   "codemirror_mode": {
    "name": "ipython",
    "version": 3
   },
   "file_extension": ".py",
   "mimetype": "text/x-python",
   "name": "python",
   "nbconvert_exporter": "python",
   "pygments_lexer": "ipython3",
   "version": "3.11.5"
  }
 },
 "nbformat": 4,
 "nbformat_minor": 5
}
