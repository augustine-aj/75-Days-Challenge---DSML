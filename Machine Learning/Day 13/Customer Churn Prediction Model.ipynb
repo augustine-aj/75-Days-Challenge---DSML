{
 "cells": [
  {
   "cell_type": "markdown",
   "id": "992d646c-c978-4f1c-abd2-a9dc909a20f2",
   "metadata": {},
   "source": [
    "# **Day 53: Implementing a Customer Churn Prediction Model** 🚀\n",
    "\n",
    "Customer churn prediction is a vital machine learning task that helps businesses identify and retain at-risk customers. By combining theoretical insights and practical implementation, we can build a robust churn prediction model.\n",
    "\n",
    "---\n",
    "\n",
    "## **What is Customer Churn?**\n",
    "- **Customer Churn** refers to the loss of customers over a specific time period.  \n",
    "- Predicting churn helps businesses take **proactive measures** to retain customers, saving costs and improving profitability.\n",
    "\n",
    "---\n",
    "\n",
    "## **Key Steps in Churn Prediction**\n",
    "\n",
    "### **1. Data Preprocessing**  \n",
    "- **Data Cleaning**: Handle missing values to ensure the dataset is complete.  \n",
    "- **Encoding**: Convert categorical variables (e.g., contract type, payment method) into numerical format.  \n",
    "- **Scaling**: Normalize numerical features (e.g., monthly charges, tenure) to ensure uniform ranges.\n",
    "\n",
    "---\n",
    "\n",
    "### **2. Feature Engineering**  \n",
    "- **Identify Relevant Features**: Select features like `contract type`, `tenure`, `monthly charges`, etc., that are likely to influence churn.  \n",
    "- **Feature Creation**: Derive new features, such as **average monthly spend** or **tenure-to-charges ratio**, for better insights.  \n",
    "- **Feature Selection**: Use methods like **correlation analysis** or **feature importance** to retain the most predictive features.\n",
    "\n",
    "---\n",
    "\n",
    "### **3. Model Selection and Training**  \n",
    "- Use **supervised learning algorithms** such as:  \n",
    "  - **Logistic Regression**: For interpretable, probabilistic predictions.  \n",
    "  - **Decision Trees**: For straightforward, rule-based insights.  \n",
    "  - **Random Forests**: For robust predictions by combining multiple decision trees.  \n",
    "\n",
    "---\n",
    "\n",
    "### **4. Model Evaluation**  \n",
    "Evaluate the model on unseen data using key metrics:  \n",
    "- **Accuracy**: Proportion of correctly predicted churn and non-churn cases.  \n",
    "- **Precision**: Percentage of true churns among predicted churn cases.  \n",
    "- **Recall**: Ability to detect all true churn cases.  \n",
    "- **F1-Score**: Balance between precision and recall.  \n",
    "- **ROC-AUC**: Measures the model’s capability to distinguish between churn and non-churn customers.\n",
    "\n",
    "---"
   ]
  },
  {
   "cell_type": "markdown",
   "id": "0e386f81-c682-4d40-8adb-f604f38e559d",
   "metadata": {},
   "source": [
    "## Practical: Building the Churn Prediction Pipeline\n",
    "### Steps to Build the Pipeline:\n",
    "#### 1. Import Required Libraries:"
   ]
  },
  {
   "cell_type": "code",
   "execution_count": 1,
   "id": "b99798b2-845b-47e9-862d-f25a83c67eee",
   "metadata": {},
   "outputs": [],
   "source": [
    "import pandas as pd\n",
    "import numpy as np\n",
    "from sklearn.model_selection import train_test_split, GridSearchCV\n",
    "from sklearn.linear_model import LogisticRegression\n",
    "from sklearn.ensemble import RandomForestClassifier\n",
    "from sklearn.metrics import classification_report, roc_auc_score\n",
    "from sklearn.preprocessing import StandardScaler, LabelEncoder"
   ]
  },
  {
   "cell_type": "markdown",
   "id": "2b89225e-abd4-4691-b2bd-1b5d4e2f5536",
   "metadata": {},
   "source": [
    "##### 2. Load the Dataset:"
   ]
  },
  {
   "cell_type": "code",
   "execution_count": null,
   "id": "e1c94b2e-8f3f-4a1c-852b-1d9c1cdd2ef3",
   "metadata": {},
   "outputs": [],
   "source": [
    "data = pd.read_csv(\"customer_churn.csv\")\n",
    "print(data.head())"
   ]
  },
  {
   "cell_type": "markdown",
   "id": "0c1e3884-b42f-450b-8515-46b982af3d3f",
   "metadata": {},
   "source": [
    "#### 3. Data Preprocessing:\n",
    "\n",
    "- Handle missing values.\n",
    "- Encode categorical variables using LabelEncoder or pd.get_dummies.\n",
    "- Scale numerical features using StandardScaler."
   ]
  },
  {
   "cell_type": "code",
   "execution_count": null,
   "id": "14fd5bf0-5617-416a-a7c2-6bf930a9e234",
   "metadata": {},
   "outputs": [],
   "source": [
    "data.fillna(method='ffill', inplace=True)\n",
    "\n",
    "le = LabelEncoder()\n",
    "data['Contract_Type'] = le.fit_transform(data['Contract_Type'])\n",
    "\n",
    "scaler = StandardScaler()\n",
    "num_cols = ['Monthly_Charges', 'Tenure']\n",
    "data[num_cols] = scaler.fit_transform(data[num_cols])"
   ]
  },
  {
   "cell_type": "markdown",
   "id": "3e599ee2-83eb-404e-a349-659fb6bc292a",
   "metadata": {},
   "source": [
    "#### 4. Feature Engineering:\n",
    "\n",
    "- Identify important features or use all available features.\n",
    "- Select features based on correlation or feature importance from a model like Random Forest."
   ]
  },
  {
   "cell_type": "code",
   "execution_count": null,
   "id": "da4992ea-42f4-48c5-91eb-ca3e234d243c",
   "metadata": {},
   "outputs": [],
   "source": [
    "X = data.drop(['Churn'], axis=1)\n",
    "y = data['Churn']"
   ]
  },
  {
   "cell_type": "markdown",
   "id": "08923cbc-c580-4196-8606-394c50538e3f",
   "metadata": {},
   "source": [
    "#### 5. Split the Data:"
   ]
  },
  {
   "cell_type": "code",
   "execution_count": null,
   "id": "a0aa224f-0a51-42b4-808b-04b4ee0afeb1",
   "metadata": {},
   "outputs": [],
   "source": [
    "X_train, X_test, y_train, y_test = train_test_split(X, y, test_size=0.2, random_state=42)"
   ]
  },
  {
   "cell_type": "markdown",
   "id": "43ae51f7-5f3f-4f6b-8757-9f3075f41cef",
   "metadata": {},
   "source": [
    "#### 6. Train a Model:"
   ]
  },
  {
   "cell_type": "code",
   "execution_count": null,
   "id": "cf4122d4-d1f0-4423-bca5-e39e05e2a4be",
   "metadata": {},
   "outputs": [],
   "source": [
    "log_reg = LogisticRegression(random_state=42)\n",
    "log_reg.fit(X_train, y_train)\n",
    "\n",
    "rf_model = RandomForestClassifier(random_state=42)\n",
    "rf_model.fit(X_train, y_train)"
   ]
  },
  {
   "cell_type": "markdown",
   "id": "1fb30852-c774-47c7-916b-447e668b6f1b",
   "metadata": {},
   "source": [
    "#### 6. Evaluate the Model:"
   ]
  },
  {
   "cell_type": "code",
   "execution_count": null,
   "id": "ddf61db3-9c0e-45da-95bf-59e9f798835d",
   "metadata": {},
   "outputs": [],
   "source": [
    "y_pred = log_reg.predict(X_test)\n",
    "print(classification_report(y_test, y_pred))\n",
    "\n",
    "y_pred_proba = log_reg.predict_proba(X_test)[:, 1]\n",
    "print(\"ROC-AUC Score:\", roc_auc_score(y_test, y_pred_proba))"
   ]
  }
 ],
 "metadata": {
  "kernelspec": {
   "display_name": "Python 3 (ipykernel)",
   "language": "python",
   "name": "python3"
  },
  "language_info": {
   "codemirror_mode": {
    "name": "ipython",
    "version": 3
   },
   "file_extension": ".py",
   "mimetype": "text/x-python",
   "name": "python",
   "nbconvert_exporter": "python",
   "pygments_lexer": "ipython3",
   "version": "3.11.5"
  }
 },
 "nbformat": 4,
 "nbformat_minor": 5
}
