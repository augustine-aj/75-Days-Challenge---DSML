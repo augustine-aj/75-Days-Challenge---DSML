{
 "cells": [
  {
   "cell_type": "markdown",
   "id": "03f60833-df01-4161-bb4a-7cf5908ed59a",
   "metadata": {},
   "source": [
    "# **Day 51: Hyperparameter Tuning** 🎯\n",
    "\n",
    "Hyperparameter tuning is a crucial step in machine learning that involves optimizing model settings to achieve the best performance. Today, we explore **Grid Search** and **Random Search** as tuning techniques for models like **Decision Trees** and **Logistic Regression**.\n",
    "\n",
    "---\n",
    "\n",
    "## **Key Concepts**\n",
    "\n",
    "### **What are Hyperparameters?**\n",
    "- Hyperparameters are model settings defined *before training*.  \n",
    "  Examples:  \n",
    "  - **Tree depth** for Decision Trees.  \n",
    "  - **Regularization strength** for Logistic Regression.  \n",
    "- Unlike model parameters, hyperparameters are not learned from the data and require manual tuning.\n",
    "\n",
    "---\n",
    "\n",
    "### **Tuning Techniques**\n",
    "\n",
    "1. **Grid Search**  \n",
    "   - Exhaustively tests *all possible combinations* of hyperparameters in a defined range.  \n",
    "   - Ensures the best combination but can be computationally expensive.  \n",
    "\n",
    "2. **Random Search**  \n",
    "   - Samples random combinations of hyperparameters.  \n",
    "   - Faster than Grid Search but may miss the optimal set.\n",
    "\n",
    "---\n",
    "\n",
    "### **Why is Hyperparameter Tuning Important?**\n",
    "- **Prevents Overfitting/Underfitting**  \n",
    "  Helps balance model complexity for better predictions.  \n",
    "\n",
    "- **Improves Model Accuracy**  \n",
    "  Ensures the model generalizes well to unseen data.  \n",
    "\n",
    "---"
   ]
  },
  {
   "cell_type": "markdown",
   "id": "2dce6f72-adab-42b8-9fc9-e1a1a1dc39cc",
   "metadata": {},
   "source": [
    "## Practical Implementation\n",
    "### Step 1: Import Libraries"
   ]
  },
  {
   "cell_type": "code",
   "execution_count": 1,
   "id": "2ec45856-135f-466a-9885-c94dbb55cf91",
   "metadata": {},
   "outputs": [],
   "source": [
    "import pandas as pd\n",
    "from sklearn.model_selection import train_test_split, GridSearchCV\n",
    "from sklearn.tree import DecisionTreeClassifier\n",
    "from sklearn.linear_model import LogisticRegression\n",
    "from sklearn.metrics import classification_report"
   ]
  },
  {
   "cell_type": "markdown",
   "id": "3b020bc3-9596-421c-bc4f-f5b0365c9f2a",
   "metadata": {},
   "source": [
    "### Step 2: Load Data"
   ]
  },
  {
   "cell_type": "code",
   "execution_count": 2,
   "id": "075576f5-8d39-407c-a1d7-70181dd0bc68",
   "metadata": {},
   "outputs": [],
   "source": [
    "data = pd.DataFrame({\n",
    "    'Age': [22, 25, 47, 52, 46, 56, 55, 60, 62, 61],\n",
    "    'Contract': [1, 0, 1, 1, 0, 1, 0, 1, 1, 0],\n",
    "    'MonthlyCharges': [29, 35, 70, 90, 55, 85, 65, 95, 120, 100],\n",
    "    'Churn': [0, 0, 1, 1, 0, 1, 0, 1, 1, 1]\n",
    "})\n",
    "\n",
    "X = data[['Age', 'Contract', 'MonthlyCharges']]\n",
    "y = data['Churn']\n",
    "\n",
    "X_train, X_test, y_train, y_test = train_test_split(X, y, test_size=0.2, random_state=42)"
   ]
  },
  {
   "cell_type": "markdown",
   "id": "d9423034-235b-4b65-a0f3-c6a0ef547db8",
   "metadata": {},
   "source": [
    "### Grid Search for Decision Tree\n",
    "### Step 3: Set Up Hyperparameter Grid"
   ]
  },
  {
   "cell_type": "code",
   "execution_count": 3,
   "id": "cbfacfcd-3646-4931-81f2-7604ca8be98d",
   "metadata": {},
   "outputs": [],
   "source": [
    "param_grid = {\n",
    "    'max_depth': [2, 3, 4, 5],\n",
    "    'min_samples_split': [2, 3, 4],\n",
    "    'criterion': ['gini', 'entropy']\n",
    "}"
   ]
  },
  {
   "cell_type": "markdown",
   "id": "2960ab11-72a2-410f-9a0a-fe8b92e98f7d",
   "metadata": {},
   "source": [
    "### Step 4: Perform Grid Search"
   ]
  },
  {
   "cell_type": "code",
   "execution_count": 4,
   "id": "a27a63ac-20f2-4f9e-875b-488e16b194c8",
   "metadata": {},
   "outputs": [
    {
     "name": "stderr",
     "output_type": "stream",
     "text": [
      "C:\\Users\\augus\\anaconda new\\Lib\\site-packages\\sklearn\\model_selection\\_split.py:776: UserWarning: The least populated class in y has only 3 members, which is less than n_splits=5.\n",
      "  warnings.warn(\n"
     ]
    },
    {
     "name": "stdout",
     "output_type": "stream",
     "text": [
      "Best Parameters: {'criterion': 'gini', 'max_depth': 2, 'min_samples_split': 3}\n",
      "              precision    recall  f1-score   support\n",
      "\n",
      "           0       1.00      1.00      1.00         1\n",
      "           1       1.00      1.00      1.00         1\n",
      "\n",
      "    accuracy                           1.00         2\n",
      "   macro avg       1.00      1.00      1.00         2\n",
      "weighted avg       1.00      1.00      1.00         2\n",
      "\n"
     ]
    }
   ],
   "source": [
    "dt = DecisionTreeClassifier()\n",
    "\n",
    "grid_search = GridSearchCV(estimator=dt, param_grid=param_grid, cv=5, scoring='accuracy')\n",
    "grid_search.fit(X_train, y_train)\n",
    "\n",
    "print(\"Best Parameters:\", grid_search.best_params_)\n",
    "\n",
    "best_dt = grid_search.best_estimator_\n",
    "y_pred = best_dt.predict(X_test)\n",
    "print(classification_report(y_test, y_pred))"
   ]
  },
  {
   "cell_type": "markdown",
   "id": "a12bd0ac-d76f-42e6-a748-78dd9c9dbd17",
   "metadata": {},
   "source": [
    "### Random Search for Logistic Regression\n",
    "### Step 5: Set Up Parameter Distribution"
   ]
  },
  {
   "cell_type": "code",
   "execution_count": 5,
   "id": "4f12564b-08cf-48b4-8a07-1019560f9ee9",
   "metadata": {},
   "outputs": [],
   "source": [
    "from sklearn.model_selection import RandomizedSearchCV\n",
    "import numpy as np\n",
    "\n",
    "param_dist = {\n",
    "    'C': np.logspace(-4, 4, 20),  # Regularization strength\n",
    "    'solver': ['liblinear', 'lbfgs']  # Optimization solvers\n",
    "}"
   ]
  },
  {
   "cell_type": "markdown",
   "id": "267c115b-1d40-4c0b-86f7-7b01ac9be02f",
   "metadata": {},
   "source": [
    "### Step 6: Perform Random Search"
   ]
  },
  {
   "cell_type": "code",
   "execution_count": 6,
   "id": "29351dee-2103-4d0d-a893-b835964e05eb",
   "metadata": {},
   "outputs": [
    {
     "name": "stderr",
     "output_type": "stream",
     "text": [
      "C:\\Users\\augus\\anaconda new\\Lib\\site-packages\\sklearn\\model_selection\\_split.py:776: UserWarning: The least populated class in y has only 3 members, which is less than n_splits=5.\n",
      "  warnings.warn(\n"
     ]
    },
    {
     "name": "stdout",
     "output_type": "stream",
     "text": [
      "Best Parameters: {'solver': 'liblinear', 'C': 0.23357214690901212}\n",
      "              precision    recall  f1-score   support\n",
      "\n",
      "           0       0.00      0.00      0.00         1\n",
      "           1       0.50      1.00      0.67         1\n",
      "\n",
      "    accuracy                           0.50         2\n",
      "   macro avg       0.25      0.50      0.33         2\n",
      "weighted avg       0.25      0.50      0.33         2\n",
      "\n"
     ]
    },
    {
     "name": "stderr",
     "output_type": "stream",
     "text": [
      "C:\\Users\\augus\\anaconda new\\Lib\\site-packages\\sklearn\\metrics\\_classification.py:1531: UndefinedMetricWarning: Precision is ill-defined and being set to 0.0 in labels with no predicted samples. Use `zero_division` parameter to control this behavior.\n",
      "  _warn_prf(average, modifier, f\"{metric.capitalize()} is\", len(result))\n",
      "C:\\Users\\augus\\anaconda new\\Lib\\site-packages\\sklearn\\metrics\\_classification.py:1531: UndefinedMetricWarning: Precision is ill-defined and being set to 0.0 in labels with no predicted samples. Use `zero_division` parameter to control this behavior.\n",
      "  _warn_prf(average, modifier, f\"{metric.capitalize()} is\", len(result))\n",
      "C:\\Users\\augus\\anaconda new\\Lib\\site-packages\\sklearn\\metrics\\_classification.py:1531: UndefinedMetricWarning: Precision is ill-defined and being set to 0.0 in labels with no predicted samples. Use `zero_division` parameter to control this behavior.\n",
      "  _warn_prf(average, modifier, f\"{metric.capitalize()} is\", len(result))\n"
     ]
    }
   ],
   "source": [
    "lr = LogisticRegression(max_iter=1000)\n",
    "\n",
    "random_search = RandomizedSearchCV(estimator=lr, param_distributions=param_dist, n_iter=10, cv=5, scoring='accuracy', random_state=42)\n",
    "random_search.fit(X_train, y_train)\n",
    "\n",
    "print(\"Best Parameters:\", random_search.best_params_)\n",
    "\n",
    "best_lr = random_search.best_estimator_\n",
    "y_pred = best_lr.predict(X_test)\n",
    "print(classification_report(y_test, y_pred))"
   ]
  },
  {
   "cell_type": "markdown",
   "id": "eb64941d-7d88-4fec-9e3c-cda44e364173",
   "metadata": {},
   "source": [
    "---"
   ]
  },
  {
   "cell_type": "markdown",
   "id": "25531d5b-6eb2-42ea-9b51-7aef4e1d93bc",
   "metadata": {},
   "source": [
    "## Takeaways\n",
    "1. **Grid Search** is exhaustive but computationally expensive. Use it for small hyperparameter spaces.\n",
    "2. **Random Search** is faster and works well with larger hyperparameter ranges.\n",
    "3. Always use cross-validation during tuning to ensure your model generalizes well to new data.\n",
    "\n",
    "\n",
    "By systematically tuning hyperparameters, you can significantly boost your model's performance! 🚀"
   ]
  },
  {
   "cell_type": "markdown",
   "id": "5510a9ee-afa3-42be-9ba1-06c6daf10fd6",
   "metadata": {},
   "source": [
    "---"
   ]
  },
  {
   "cell_type": "code",
   "execution_count": null,
   "id": "17849d7e-0aeb-456d-ba4d-7e9b585fd279",
   "metadata": {},
   "outputs": [],
   "source": []
  }
 ],
 "metadata": {
  "kernelspec": {
   "display_name": "Python 3 (ipykernel)",
   "language": "python",
   "name": "python3"
  },
  "language_info": {
   "codemirror_mode": {
    "name": "ipython",
    "version": 3
   },
   "file_extension": ".py",
   "mimetype": "text/x-python",
   "name": "python",
   "nbconvert_exporter": "python",
   "pygments_lexer": "ipython3",
   "version": "3.11.5"
  }
 },
 "nbformat": 4,
 "nbformat_minor": 5
}
