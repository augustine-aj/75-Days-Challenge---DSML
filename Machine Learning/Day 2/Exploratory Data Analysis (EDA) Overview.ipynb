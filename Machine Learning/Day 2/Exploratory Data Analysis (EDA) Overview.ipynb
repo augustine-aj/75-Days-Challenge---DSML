{
 "cells": [
  {
   "cell_type": "markdown",
   "id": "aa3547c6-94fe-44b4-8a2d-ba49db5404a5",
   "metadata": {},
   "source": [
    "# Exploratory Data Analysis (EDA) Overview\n",
    "Exploratory Data Analysis (EDA) is the process of understanding, summarizing, and visualizing data to uncover patterns, relationships, and insights. It helps in making informed decisions about feature engineering, model selection, and more.\n",
    "\n",
    "---"
   ]
  },
  {
   "cell_type": "markdown",
   "id": "c5646431-b9bb-4bd7-977c-7d043e76115e",
   "metadata": {},
   "source": [
    "## Theory\n",
    "***1. Understanding the Dataset:***\n",
    "\n",
    "- Check dataset structure (rows, columns).\n",
    "- Identify data types (numerical, categorical).\n",
    "- Look for missing values or inconsistencies.\n",
    "\n",
    "***2. Visualizing Distributions:***\n",
    "\n",
    "- Plot histograms, density plots, or box plots to understand distributions of numerical features.\n",
    "\n",
    "***3. Identifying Correlations:***\n",
    "\n",
    "- Use correlation matrices to find relationships between numerical variables.\n",
    "- Visualize correlations using heatmaps.\n",
    "\n",
    "***4. Detecting Patterns:***\n",
    "\n",
    "- Use pair plots to identify relationships between multiple variables.\n",
    "- Look for trends, clusters, or anomalies."
   ]
  },
  {
   "cell_type": "markdown",
   "id": "14aed21e-c3db-4fef-8749-188cb8ea2e85",
   "metadata": {},
   "source": [
    "---"
   ]
  },
  {
   "cell_type": "markdown",
   "id": "71389d2f-3647-4dea-8cf6-f04fc0c655c5",
   "metadata": {},
   "source": [
    "## Practical Implementation in Python\n",
    "Below is a step-by-step guide to creating an EDA notebook.\n",
    "\n",
    "### Steps:\n",
    "***1. Import Necessary Libraries***"
   ]
  },
  {
   "cell_type": "code",
   "execution_count": 1,
   "id": "bd408e9a-c7a2-4c01-82b4-387d9475f05f",
   "metadata": {},
   "outputs": [],
   "source": [
    "import pandas as pd\n",
    "import numpy as np\n",
    "import matplotlib.pyplot as plt\n",
    "import seaborn as sns"
   ]
  },
  {
   "cell_type": "markdown",
   "id": "c4b69832-2878-43ff-beed-a3ac642ec2c5",
   "metadata": {},
   "source": [
    "***2. Load the Dataset***"
   ]
  },
  {
   "cell_type": "code",
   "execution_count": null,
   "id": "ee5c5711-28f7-403b-a72b-ae40e1edb472",
   "metadata": {},
   "outputs": [],
   "source": [
    "df = pd.read_csv('your_dataset.csv')\n",
    "df.head()"
   ]
  },
  {
   "cell_type": "markdown",
   "id": "ff408c26-f80d-4693-9af0-b2e00990ab07",
   "metadata": {},
   "source": [
    "***3. Dataset Overview***"
   ]
  },
  {
   "cell_type": "code",
   "execution_count": null,
   "id": "743039f8-365d-46f5-a6ef-5b6609adff32",
   "metadata": {},
   "outputs": [],
   "source": [
    "print(df.info())\n",
    "print(df.describe())\n",
    "print(df.isnull().sum())"
   ]
  },
  {
   "cell_type": "markdown",
   "id": "0b1a3111-a001-4043-91ad-8c88b953d067",
   "metadata": {},
   "source": [
    "***4. Visualizing Distributions***"
   ]
  },
  {
   "cell_type": "code",
   "execution_count": null,
   "id": "2b47215c-6200-488a-a326-d6e009bf0a28",
   "metadata": {},
   "outputs": [],
   "source": [
    "sns.histplot(df['column_name'], kde=True, bins=30)\n",
    "plt.title(\"Distribution of Column Name\")\n",
    "plt.show()\n",
    "\n",
    "sns.boxplot(x=df['column_name'])\n",
    "plt.title(\"Box Plot of Column Name\")\n",
    "plt.show()"
   ]
  },
  {
   "cell_type": "markdown",
   "id": "0da1aff3-ef92-4b57-9abc-dae736931d4b",
   "metadata": {},
   "source": [
    "**5. Pair Plots for Relationships**"
   ]
  },
  {
   "cell_type": "code",
   "execution_count": null,
   "id": "5d1fc09c-8f65-4766-a410-01b7f15ad031",
   "metadata": {},
   "outputs": [],
   "source": [
    "sns.pairplot(df.select_dtypes(include=['float64', 'int64']))\n",
    "plt.show()"
   ]
  },
  {
   "cell_type": "markdown",
   "id": "2fefad1d-b65f-4684-83b9-f7daf730ace4",
   "metadata": {},
   "source": [
    "***6. Correlation Matrix and Heatmap***"
   ]
  },
  {
   "cell_type": "code",
   "execution_count": null,
   "id": "34a83864-a4f1-487c-96dc-0d09b03fdb72",
   "metadata": {},
   "outputs": [],
   "source": [
    "correlation_matrix = df.corr()\n",
    "\n",
    "plt.figure(figsize=(10, 8))\n",
    "sns.heatmap(correlation_matrix, annot=True, cmap='coolwarm', fmt=\".2f\")\n",
    "plt.title(\"Correlation Heatmap\")\n",
    "plt.show()"
   ]
  },
  {
   "cell_type": "markdown",
   "id": "55739abc-8ce4-437e-954f-c6758b1c7802",
   "metadata": {},
   "source": [
    "***7. Identify Patterns and Relationships***"
   ]
  },
  {
   "cell_type": "code",
   "execution_count": null,
   "id": "0c0e3888-e3f8-49b7-9356-79f4d21c3a4d",
   "metadata": {},
   "outputs": [],
   "source": [
    "sns.scatterplot(data=df, x='feature_1', y='feature_2', hue='category_column')\n",
    "plt.title(\"Scatter Plot: Feature 1 vs Feature 2\")\n",
    "plt.show()"
   ]
  },
  {
   "cell_type": "markdown",
   "id": "13817547-3e4e-47e4-b432-9c194aa60b1c",
   "metadata": {},
   "source": [
    "---"
   ]
  },
  {
   "cell_type": "code",
   "execution_count": null,
   "id": "cf1f7058-b6ce-474b-858d-972c3d7706e6",
   "metadata": {},
   "outputs": [],
   "source": []
  }
 ],
 "metadata": {
  "kernelspec": {
   "display_name": "Python 3 (ipykernel)",
   "language": "python",
   "name": "python3"
  },
  "language_info": {
   "codemirror_mode": {
    "name": "ipython",
    "version": 3
   },
   "file_extension": ".py",
   "mimetype": "text/x-python",
   "name": "python",
   "nbconvert_exporter": "python",
   "pygments_lexer": "ipython3",
   "version": "3.11.5"
  }
 },
 "nbformat": 4,
 "nbformat_minor": 5
}
