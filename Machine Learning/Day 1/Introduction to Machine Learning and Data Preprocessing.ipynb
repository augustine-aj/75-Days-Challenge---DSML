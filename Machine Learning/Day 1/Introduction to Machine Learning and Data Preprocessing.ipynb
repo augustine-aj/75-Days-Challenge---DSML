{
 "cells": [
  {
   "cell_type": "markdown",
   "id": "dca223ce-044c-4b8d-befb-cf90a3e9f4ed",
   "metadata": {},
   "source": [
    "# Introduction to Machine Learning and Data Preprocessing\n",
    "## What is Machine Learning?\n",
    "Machine learning (ML) is a subset of artificial intelligence (AI) where systems learn from data to make predictions or decisions without being explicitly programmed.\n",
    "\n",
    "---\n",
    "\n",
    "## Types of Machine Learning:\n",
    "**Supervised Learning:** The algorithm learns from labeled data (input-output pairs).\n",
    "Example: Predicting house prices based on size and location.\n",
    "**Unsupervised Learning:** The algorithm learns patterns in unlabeled data.\n",
    "**Example:** Grouping customers based on purchase behavior (clustering).\n",
    "\n",
    "---\n",
    "\n",
    "## Importance of Data Preprocessing\n",
    "Raw data is often messy and contains inconsistencies such as missing values, outliers, or varying scales. Preprocessing ensures:\n",
    "\n",
    "The data is clean and ready for analysis.\n",
    "Machine learning models can perform optimally."
   ]
  },
  {
   "cell_type": "markdown",
   "id": "56ba2409-4ac8-4800-bfd1-10d512e57ed5",
   "metadata": {},
   "source": [
    "---\n",
    "\n",
    "## Practical Steps\n",
    "### 1. Handling Missing Values\n",
    "Missing data can occur due to errors in data collection or storage. Common strategies to handle them:\n",
    "\n",
    "- **Mean Imputation:** Replace missing values with the column's mean.\n",
    "- **Median Imputation:** Replace missing values with the column's median (useful for skewed data).\n",
    "- **Dropping Rows/Columns:** Remove rows or columns with too many missing values."
   ]
  },
  {
   "cell_type": "code",
   "execution_count": 1,
   "id": "b19c50b2-2884-4a57-a893-afcbd23566d1",
   "metadata": {},
   "outputs": [
    {
     "name": "stdout",
     "output_type": "stream",
     "text": [
      "    Age   Salary\n",
      "0  25.0  50000.0\n",
      "1  30.0  45000.0\n",
      "2  30.0  45000.0\n",
      "3  35.0  40000.0\n"
     ]
    }
   ],
   "source": [
    "import pandas as pd\n",
    "from sklearn.impute import SimpleImputer\n",
    "\n",
    "data = {'Age': [25, 30, None, 35], 'Salary': [50000, None, 45000, 40000]}\n",
    "df = pd.DataFrame(data)\n",
    "\n",
    "imputer = SimpleImputer(strategy='mean')\n",
    "df[['Age', 'Salary']] = imputer.fit_transform(df[['Age', 'Salary']])\n",
    "\n",
    "print(df)"
   ]
  },
  {
   "cell_type": "markdown",
   "id": "1e99acd1-b1aa-4a9c-b509-fecc1aef0820",
   "metadata": {},
   "source": [
    "### 2. Normalizing/Scaling Data\n",
    "Features in a dataset can have varying scales (e.g., age in years vs. salary in thousands). Machine learning algorithms often perform better when features are on a similar scale.\n",
    "\n",
    "- **Normalization:** Scales values to `[0, 1]` range.\n",
    "- **Standardization:** Centers values around the mean with unit variance."
   ]
  },
  {
   "cell_type": "code",
   "execution_count": 2,
   "id": "aac8cd5e-93f6-458c-bddc-d53a11aaf756",
   "metadata": {},
   "outputs": [
    {
     "name": "stdout",
     "output_type": "stream",
     "text": [
      "Normalized Data:\n",
      " [[0.  1. ]\n",
      " [0.5 0.5]\n",
      " [0.5 0.5]\n",
      " [1.  0. ]]\n",
      "Standardized Data:\n",
      " [[-1.41421356  1.41421356]\n",
      " [ 0.          0.        ]\n",
      " [ 0.          0.        ]\n",
      " [ 1.41421356 -1.41421356]]\n"
     ]
    }
   ],
   "source": [
    "from sklearn.preprocessing import MinMaxScaler, StandardScaler\n",
    "\n",
    "scaler = MinMaxScaler()\n",
    "df_normalized = scaler.fit_transform(df)\n",
    "\n",
    "scaler_standard = StandardScaler()\n",
    "df_standardized = scaler_standard.fit_transform(df)\n",
    "\n",
    "print(\"Normalized Data:\\n\", df_normalized)\n",
    "print(\"Standardized Data:\\n\", df_standardized)"
   ]
  },
  {
   "cell_type": "markdown",
   "id": "3a606f8b-0890-4946-954d-d689f34e69b9",
   "metadata": {},
   "source": [
    "### 3. Encoding Categorical Variables\n",
    "Machine learning models typically work with numerical data. Categorical data must be converted into numeric format.\n",
    "\n",
    "- **One-Hot Encoding:** Creates binary columns for each category.\n",
    "- **Label Encoding:** Assigns numeric values to categories (e.g., Male = 1, Female = 0)."
   ]
  },
  {
   "cell_type": "code",
   "execution_count": 4,
   "id": "a497d208-9a29-4caf-82fc-01a2d8932445",
   "metadata": {},
   "outputs": [
    {
     "name": "stdout",
     "output_type": "stream",
     "text": [
      "One-Hot Encoded Data:\n",
      " [[0. 1.]\n",
      " [1. 0.]\n",
      " [0. 1.]\n",
      " [1. 0.]]\n",
      "Label Encoded Data:\n",
      "    Gender  Gender_Label\n",
      "0    Male             1\n",
      "1  Female             0\n",
      "2    Male             1\n",
      "3  Female             0\n"
     ]
    }
   ],
   "source": [
    "from sklearn.preprocessing import OneHotEncoder, LabelEncoder\n",
    "\n",
    "data = {'Gender': ['Male', 'Female', 'Male', 'Female']}\n",
    "df = pd.DataFrame(data)\n",
    "\n",
    "encoder = OneHotEncoder(sparse_output=False)\n",
    "encoded = encoder.fit_transform(df[['Gender']])\n",
    "print(\"One-Hot Encoded Data:\\n\", encoded)\n",
    "\n",
    "label_encoder = LabelEncoder()\n",
    "df['Gender_Label'] = label_encoder.fit_transform(df['Gender'])\n",
    "print(\"Label Encoded Data:\\n\", df)"
   ]
  },
  {
   "cell_type": "markdown",
   "id": "4f1c90fa-b342-4588-a197-b4506039b369",
   "metadata": {},
   "source": [
    "---\n",
    "\n",
    "## Tools Used\n",
    "- **Pandas:** For data manipulation and cleaning.\n",
    "- **2Scikit-learn:** For preprocessing techniques like imputation, scaling, and encoding.\n",
    "\n",
    "---"
   ]
  },
  {
   "cell_type": "markdown",
   "id": "322d4223-6734-4c62-8096-c8ae37d16f34",
   "metadata": {},
   "source": [
    "## Outcome\n",
    "- **By preprocessing data:**\n",
    "\n",
    "Missing values are addressed, ensuring no errors during model training.\n",
    "Features are scaled, improving model convergence.\n",
    "Categorical variables are converted, making the data usable by algorithms.\n",
    "This foundational step is critical to ensure the success of any machine learning model! 🚀"
   ]
  },
  {
   "cell_type": "markdown",
   "id": "9fd5964c-467a-4404-b733-5d04487b7dd4",
   "metadata": {},
   "source": [
    "---"
   ]
  },
  {
   "cell_type": "code",
   "execution_count": null,
   "id": "a9c38b52-0bf0-46f9-a186-ddfa78783d11",
   "metadata": {},
   "outputs": [],
   "source": []
  }
 ],
 "metadata": {
  "kernelspec": {
   "display_name": "Python 3 (ipykernel)",
   "language": "python",
   "name": "python3"
  },
  "language_info": {
   "codemirror_mode": {
    "name": "ipython",
    "version": 3
   },
   "file_extension": ".py",
   "mimetype": "text/x-python",
   "name": "python",
   "nbconvert_exporter": "python",
   "pygments_lexer": "ipython3",
   "version": "3.11.5"
  }
 },
 "nbformat": 4,
 "nbformat_minor": 5
}
